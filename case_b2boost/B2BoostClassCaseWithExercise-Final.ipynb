{
 "cells": [
  {
   "cell_type": "markdown",
   "metadata": {},
   "source": [
    "Hi everyone,\n",
    "\n",
    "Today you will write your first profit-driven algorithm!\n",
    "\n",
    "We will start with the hard part, which is creating the profit-driven metric, and the profit-driven algorithm. Afterwards, we will test the performance of this algorithm against some traditional algorithms who do not explicitely account for profitability and demonstrate how this leads to lower expected profitability."
   ]
  },
  {
   "cell_type": "markdown",
   "metadata": {},
   "source": [
    "As always, we start by reading in the necessary packages. We will also already create an array which captures the possible values of gamma (acceptance probability). We do this because they remain the same, and calculating this again during every iteration would unnecessarily slow down our computations."
   ]
  },
  {
   "cell_type": "code",
   "execution_count": 17,
   "metadata": {},
   "outputs": [],
   "source": [
    "import pandas as pd\n",
    "\n",
    "basetable = pd.read_csv('dataClassRoomExampleB2Boost.csv')"
   ]
  },
  {
   "cell_type": "code",
   "execution_count": 18,
   "metadata": {},
   "outputs": [
    {
     "name": "stdout",
     "output_type": "stream",
     "text": [
      "Looking in indexes: https://pypi.org/simple, https://pypi.ngc.nvidia.com\n",
      "Requirement already satisfied: xgboost in c:\\users\\banjanss\\anaconda3\\lib\\site-packages (1.7.1)\n",
      "Requirement already satisfied: scipy in c:\\users\\banjanss\\anaconda3\\lib\\site-packages (from xgboost) (1.9.1)\n",
      "Requirement already satisfied: numpy in c:\\users\\banjanss\\anaconda3\\lib\\site-packages (from xgboost) (1.21.5)\n"
     ]
    }
   ],
   "source": [
    "!pip install xgboost"
   ]
  },
  {
   "cell_type": "code",
   "execution_count": 19,
   "metadata": {},
   "outputs": [],
   "source": [
    "import numpy as np\n",
    "import xgboost as xgb\n",
    "import scipy.stats as st\n",
    "from sklearn.model_selection import train_test_split\n",
    "from sklearn.ensemble import RandomForestClassifier\n",
    "from sklearn.metrics import roc_auc_score\n",
    "\n",
    "beta_dist_s = st.beta.pdf(np.arange(0,1,0.004), 6, 14)\n",
    "possible_gamma = np.arange(0,1,0.004)\n",
    "beta_dist_s = beta_dist_s*possible_gamma*0.004"
   ]
  },
  {
   "cell_type": "markdown",
   "metadata": {},
   "source": [
    "We will now create our EMPB metric. It takes the arguments `f` (contact cost) and `delta` (incentive rate), which are assumed fixed across the various customers, and the individual predicted churn probabilities (`predictions`), the actually observed churn behavior (`actual`), and the clv estimates (`clv`).\n",
    "\n",
    "By storing the indices of the customers as ranked by the algorithm (`inds`), we can derive, for each possible contact rate `top_ratio` which customers would be `contacted` and which `clvs` they are estimated to have. For each individual customer `contact`, their individual costs/benefits are calculated based on whether they are false positives or true positives.\n",
    "\n",
    "The maximal value across each possible contact rate `top_ratio` is stored and returned as `emp`."
   ]
  },
  {
   "cell_type": "code",
   "execution_count": 20,
   "metadata": {},
   "outputs": [],
   "source": [
    "def EMPB_validation(predictions, true, clv,  f = 15, delta = 0.0001):\n",
    "    \n",
    "    inds = np.flip(predictions.argsort())\n",
    "\n",
    "    result = []\n",
    "    for top_ratio in np.arange(0,1,0.005):\n",
    "        contacted = true[true.index[inds[0:int(round(top_ratio*len(inds)))]]]\n",
    "        clvs = clv[clv.index[inds[0:int(round(top_ratio*len(inds)))]]]\n",
    "        emp = 0\n",
    "        i = 0\n",
    "        for contact in contacted:\n",
    "            if contact==1: \n",
    "                add = sum(beta_dist_s*((1-delta)*clvs[clvs.index[i]]-f))\n",
    "                emp += add\n",
    "            else: \n",
    "                add = -f-delta*clvs[clvs.index[i]]\n",
    "                emp += add\n",
    "            i += 1    \n",
    "        result.append(emp)\n",
    "    emp = np.max(result) \n",
    "   \n",
    "    return(emp)"
   ]
  },
  {
   "cell_type": "markdown",
   "metadata": {},
   "source": [
    "That was not that hard, right?\n",
    "\n",
    "So let's now move onto the B2Boost algorithm. This is somewhat trickier. In theory you saw that we recalculated the gradient and the Hessian to do so. But how do we implement this? \n",
    "\n",
    "In the [documentation from the xgboost package](https://xgboost.readthedocs.io/en/stable/tutorials/custom_metric_obj.html) you can see that you need to define a loss function (`objecti` in our case) and give this as argument to the `obj` parameter. \n",
    "\n",
    "In essence, it is not more difficult than that! Note how we also still have to define our activation function (`predt = 1 / (1 + np.exp(-predt))`) and retrieve the label from our input data (`true = dtrain.get_label()`). Afterwards, we just have to copy the formulas from the theory part!"
   ]
  },
  {
   "cell_type": "code",
   "execution_count": 21,
   "metadata": {},
   "outputs": [],
   "source": [
    "def b2boost(dtrain: xgb.DMatrix, kBoostRound,gammab2b, lr, clv_train, gamma = 0.3,  f = 15, delta = 0.0001): \n",
    "  \n",
    "\n",
    "    def objecti(predt: np.ndarray,\n",
    "                    dtrain: xgb.DMatrix):\n",
    "        predt = 1 / (1 + np.exp(-predt))\n",
    "        true = dtrain.get_label()\n",
    "        expected_profits = +f+(delta*clv_train)+true*(clv_train*(-gamma+gamma*delta+delta))\n",
    "        grad = predt * (1 - predt) * expected_profits\n",
    "        hess = abs((1 - 2 * predt) * grad)\n",
    "        return grad, hess\n",
    "\n",
    "    results = dict()\n",
    "    model = xgb.train({'tree_method': 'hist', 'seed': 42,\n",
    "               'disable_default_eval_metric': 1, 'gamma':gammab2b,'learning_rate': lr},\n",
    "              dtrain=dtrain,\n",
    "              num_boost_round=kBoostRound,       \n",
    "              obj=objecti)\n",
    "\n",
    "    return model"
   ]
  },
  {
   "cell_type": "markdown",
   "metadata": {},
   "source": [
    "As usual, we will split the data into a training, validation, and test set.\n",
    "\n",
    "As both churn and clv are important, we will create a stratified sample based on both."
   ]
  },
  {
   "cell_type": "code",
   "execution_count": 22,
   "metadata": {},
   "outputs": [
    {
     "data": {
      "text/plain": [
       "10    4731\n",
       "00    1479\n",
       "01    1241\n",
       "11     332\n",
       "Name: splitter, dtype: int64"
      ]
     },
     "execution_count": 22,
     "metadata": {},
     "output_type": "execute_result"
    }
   ],
   "source": [
    "basetable['high_value'] = np.where(basetable['clv']>100000,1,0)\n",
    "basetable['splitter']  = basetable['high_value'].astype(str) + basetable['churn'].astype(str)\n",
    "basetable['splitter'].value_counts()"
   ]
  },
  {
   "cell_type": "code",
   "execution_count": 23,
   "metadata": {},
   "outputs": [],
   "source": [
    "y = basetable['churn']\n",
    "splitter = basetable['splitter']\n",
    "x = basetable.drop(columns = ['churn', 'high_value'])\n",
    "\n",
    "X_trainBig, X_test, y_trainBig, y_test = train_test_split(x, y, test_size=0.2, random_state=42, stratify = splitter)\n",
    "splitter2 = X_trainBig['splitter']\n",
    "X_train, X_val, y_train, y_val = train_test_split(X_trainBig, y_trainBig, test_size=0.25, random_state=42, stratify = splitter2)\n",
    "\n",
    "clv_train =  X_train['clv']\n",
    "clv_val =  X_val['clv']\n",
    "clv_trainBig =  X_trainBig['clv']\n",
    "clv_test =  X_test['clv']\n",
    "\n",
    "X_train = X_train.drop(columns = ['clv', 'splitter'])\n",
    "X_val = X_val.drop(columns = ['clv', 'splitter'])\n",
    "X_trainBig = X_trainBig.drop(columns = ['clv', 'splitter'])\n",
    "X_test = X_test.drop(columns = ['clv', 'splitter'])\n",
    "\n",
    "#Adjust to format required for XGB\n",
    "dtrain = xgb.DMatrix(X_train, label=y_train)\n",
    "dval = xgb.DMatrix(X_val, label=y_val)\n",
    "dtrainBig = xgb.DMatrix(X_trainBig, label=y_trainBig)\n",
    "dtest = xgb.DMatrix(X_test, label=y_test)"
   ]
  },
  {
   "cell_type": "markdown",
   "metadata": {},
   "source": [
    "We will compare B2Boost against its base form (XGBoost) and another highly performant ensemble (random forest).\n",
    "\n",
    "We manually iterate over all possible hyperparameter values `gammas`, `lrs`, `num_rounds`, and `feat_considered`. Note that the clv values are never feeded to the algorithms during training or prediction, and are only used for evaluation purposes, and are thus implicitely estimated."
   ]
  },
  {
   "cell_type": "code",
   "execution_count": 24,
   "metadata": {},
   "outputs": [
    {
     "name": "stdout",
     "output_type": "stream",
     "text": [
      "RF\n",
      "update\n",
      "update\n",
      "update\n",
      "update\n",
      "update\n",
      "update\n",
      "update\n",
      "update\n",
      "update\n",
      "update\n",
      "update\n",
      "update\n",
      "update\n",
      "B2Boost\n",
      "update\n",
      "update\n",
      "update\n",
      "update\n",
      "update\n",
      "update\n",
      "update\n",
      "update\n",
      "update\n",
      "XGBoost\n",
      "update\n",
      "update\n",
      "update\n",
      "update\n",
      "update\n",
      "update\n",
      "update\n",
      "update\n",
      "update\n",
      "update\n",
      "update\n"
     ]
    }
   ],
   "source": [
    "import warnings\n",
    "warnings.filterwarnings('ignore')\n",
    "\n",
    "gammas = [0.5,1,1.5,2]\n",
    "lrs = [0.001,0.01,0.1,0.2,0.5]\n",
    "num_rounds = [2,5,10,20,50,100,200,500]\n",
    "feat_considered = [2, 4, 6, 8]\n",
    "\n",
    "print('RF')\n",
    "waarde = 0\n",
    "final_num_est = 50 #default value\n",
    "final_mtry = 6 #default value\n",
    "for num_est in num_rounds: \n",
    "    for mtry in feat_considered:\n",
    "        rf_model = RandomForestClassifier(n_estimators = num_est, max_features = mtry).fit(X_train, y_train)\n",
    "        predictions = rf_model.predict_proba(X_val)[:,1]\n",
    "        waarde2 = EMPB_validation(predictions, y_val, clv_val)\n",
    "        if waarde2>waarde:                    \n",
    "            final_num_est = num_est\n",
    "            final_mtry = mtry\n",
    "            waarde = waarde2\n",
    "            print('update')\n",
    "rf_model = RandomForestClassifier(n_estimators = final_num_est, max_features = final_mtry).fit(X_trainBig, y_trainBig)\n",
    "predictions = rf_model.predict_proba(X_test)[:,1]    \n",
    "empb_rf = EMPB_validation(predictions, y_test, clv_test),\n",
    "auc_rf = roc_auc_score(y_test, predictions)\n",
    "  \n",
    "print('B2Boost')\n",
    "waarde = 0\n",
    "final_gamma = 1 #default value\n",
    "final_lr = 0.001#default value\n",
    "final_rounds = 50 #default value\n",
    "for gam in gammas:\n",
    "    for lr in lrs:\n",
    "        for rounds in num_rounds:\n",
    "            outcome = b2boost(dtrain, rounds , gam, lr, clv_train)    \n",
    "            predictions = outcome.predict(dval)\n",
    "            waarde2 = EMPB_validation(predictions, y_val, clv_val)\n",
    "            if waarde2>waarde:                    \n",
    "                final_rounds = rounds\n",
    "                final_lr = lr\n",
    "                final_gamma = gam\n",
    "                waarde = waarde2\n",
    "                print('update')\n",
    "b2b = b2boost(dtrainBig, final_rounds , final_gamma, final_lr, clv_trainBig)\n",
    "predictions = b2b.predict(dtest)\n",
    "empb_b2b = EMPB_validation(predictions, y_test, clv_test),\n",
    "auc_b2b = roc_auc_score(y_test, predictions)\n",
    "\n",
    "print('XGBoost')\n",
    "waarde = 0\n",
    "final_gamma = 1 #default value\n",
    "final_lr = 0.001 #default value\n",
    "final_rounds = 50 #default value\n",
    "for gam in gammas:\n",
    "    for lr in lrs:\n",
    "        for rounds in num_rounds:\n",
    "            xgb_model = xgb.XGBClassifier(objective=\"binary:logistic\", n_estimators=rounds, gamma = gam, eta = lr)\n",
    "            xgb_model.fit(X_train, y_train)\n",
    "            predictions = xgb_model.predict_proba(X_val)[:,1]\n",
    "            waarde2 = EMPB_validation(predictions, y_val, clv_val)\n",
    "            if waarde2>waarde:                     \n",
    "                final_rounds = rounds\n",
    "                final_lr = lr\n",
    "                final_gamma = gam\n",
    "                waarde = waarde2\n",
    "                print('update')\n",
    "xgb_model = xgb.XGBClassifier(objective=\"binary:logistic\", n_estimators=final_rounds, gamma = final_gamma, eta = final_lr)\n",
    "xgb_model.fit(X_trainBig, y_trainBig)\n",
    "predictions = xgb_model.predict_proba(X_test)[:,1]\n",
    "empb_xgb = EMPB_validation(predictions, y_test, clv_test),\n",
    "auc_xgb = roc_auc_score(y_test, predictions)"
   ]
  },
  {
   "cell_type": "code",
   "execution_count": 25,
   "metadata": {},
   "outputs": [
    {
     "name": "stdout",
     "output_type": "stream",
     "text": [
      "(8052837.799838972,)\n",
      "0.8894894210124469\n"
     ]
    }
   ],
   "source": [
    "print(empb_rf)\n",
    "print(auc_rf)"
   ]
  },
  {
   "cell_type": "code",
   "execution_count": 26,
   "metadata": {},
   "outputs": [
    {
     "name": "stdout",
     "output_type": "stream",
     "text": [
      "(8011927.039868986,)\n",
      "0.7338996469400618\n"
     ]
    }
   ],
   "source": [
    "print(empb_b2b)\n",
    "print(auc_b2b)"
   ]
  },
  {
   "cell_type": "code",
   "execution_count": 27,
   "metadata": {},
   "outputs": [
    {
     "name": "stdout",
     "output_type": "stream",
     "text": [
      "(7776930.944978978,)\n",
      "0.8905821645802483\n"
     ]
    }
   ],
   "source": [
    "print(empb_xgb)\n",
    "print(auc_xgb)"
   ]
  },
  {
   "cell_type": "code",
   "execution_count": 28,
   "metadata": {},
   "outputs": [
    {
     "name": "stdout",
     "output_type": "stream",
     "text": [
      "6321277.170899994\n",
      "5331604.15589999\n",
      "5878285.083899986\n"
     ]
    }
   ],
   "source": [
    "predictions_xgb = xgb_model.predict_proba(X_test)[:,1]\n",
    "empb_xgb3 = EMPB_validation(predictions_xgb, y_test, clv_test, delta = 0.01)\n",
    "print(empb_xgb3)\n",
    "\n",
    "predictions_b2b = b2b.predict(dtest)\n",
    "empb_b2b3 = EMPB_validation(predictions_b2b, y_test, clv_test, delta = 0.01)\n",
    "print(empb_b2b3)\n",
    "\n",
    "predictions_rf = rf_model.predict_proba(X_test)[:,1] \n",
    "empb_rf3 = EMPB_validation(predictions_rf, y_test, clv_test, delta = 0.01)\n",
    "print(empb_rf3)"
   ]
  },
  {
   "cell_type": "markdown",
   "metadata": {},
   "source": [
    "Ok, nice and all, but how does this actually work?\n",
    "\n",
    "Let us inspect the inner workings of the algorithm. \n",
    "\n",
    "To do so, we will first create a new version of our algorithm: `b2boost_visualize`. The major distinction is that we do not only feed an objective function (or at least its gradient and Hessian, but also an evaluation function. Note that this evaluation function is not used in model fitting, it is just used to calculate/visualize intermediate results per iteration."
   ]
  },
  {
   "cell_type": "markdown",
   "metadata": {},
   "source": [
    "*Question: Why does our evaluation function differ from the `EMPB_validation` function? Hint: The answer can be found in its name.*"
   ]
  },
  {
   "cell_type": "code",
   "execution_count": 29,
   "metadata": {},
   "outputs": [],
   "source": [
    "def b2boost_visualize(dtrain: xgb.DMatrix, kBoostRound,gammab2b, lr, clv_train, f = 15, delta = 0.05, gamma = 0.3): \n",
    "\n",
    "    def objecti(predt: np.ndarray,\n",
    "                    dtrain: xgb.DMatrix):\n",
    "        predt = 1 / (1 + np.exp(-predt))\n",
    "        true = dtrain.get_label()\n",
    "        expected_profits =  +f+(delta*clv_train)+true*(clv_train*(-gamma+gamma*delta+delta))  \n",
    "        grad = predt * (1 - predt) * expected_profits\n",
    "        hess = abs((1 - 2 * predt) * grad)\n",
    "        return grad, hess\n",
    "    \n",
    "    def deterministic_empb(predt: np.ndarray,\n",
    "                    dtrain: xgb.DMatrix):\n",
    "        predt = 1 / (1 + np.exp(-predt))\n",
    "        true = dtrain.get_label()\n",
    "        expected_profits = true*(f-gamma*clv_train*(1-delta))+(1-true)*(delta*clv_train+f)\n",
    "        costs = expected_profits*predt\n",
    "        return 'DeterministicEMPB', -np.sum(costs)\n",
    "\n",
    "    results = dict()\n",
    "    model = xgb.train({'tree_method': 'hist', 'seed': 42,\n",
    "               'disable_default_eval_metric': 1, 'gamma':gammab2b,'learning_rate': lr},\n",
    "              feval=deterministic_empb,\n",
    "              evals=[(dtrain, 'dtrain')],\n",
    "              evals_result=results,\n",
    "              dtrain=dtrain,\n",
    "              num_boost_round=kBoostRound,       \n",
    "              obj=objecti)\n",
    "\n",
    "    return model, results"
   ]
  },
  {
   "cell_type": "markdown",
   "metadata": {},
   "source": [
    "We now deploy this 'new' algorithm with default parameter values."
   ]
  },
  {
   "cell_type": "code",
   "execution_count": 30,
   "metadata": {},
   "outputs": [
    {
     "name": "stdout",
     "output_type": "stream",
     "text": [
      "[0]\tdtrain-DeterministicEMPB:-117439194.07976\n",
      "[1]\tdtrain-DeterministicEMPB:-17220433.70989\n",
      "[2]\tdtrain-DeterministicEMPB:-13013695.80254\n",
      "[3]\tdtrain-DeterministicEMPB:-9822057.52790\n",
      "[4]\tdtrain-DeterministicEMPB:-6982530.77504\n",
      "[5]\tdtrain-DeterministicEMPB:-4496772.97103\n",
      "[6]\tdtrain-DeterministicEMPB:-2216867.58575\n",
      "[7]\tdtrain-DeterministicEMPB:-60604.64225\n",
      "[8]\tdtrain-DeterministicEMPB:1776183.18954\n",
      "[9]\tdtrain-DeterministicEMPB:3556619.66956\n",
      "[10]\tdtrain-DeterministicEMPB:5155596.26227\n",
      "[11]\tdtrain-DeterministicEMPB:6785257.97159\n",
      "[12]\tdtrain-DeterministicEMPB:8080783.69873\n",
      "[13]\tdtrain-DeterministicEMPB:9237222.32066\n",
      "[14]\tdtrain-DeterministicEMPB:10353115.85319\n",
      "[15]\tdtrain-DeterministicEMPB:11307512.45489\n",
      "[16]\tdtrain-DeterministicEMPB:12184837.87329\n",
      "[17]\tdtrain-DeterministicEMPB:12950517.17580\n",
      "[18]\tdtrain-DeterministicEMPB:13642053.25011\n",
      "[19]\tdtrain-DeterministicEMPB:14290208.09292\n",
      "[20]\tdtrain-DeterministicEMPB:14818771.18621\n",
      "[21]\tdtrain-DeterministicEMPB:15305899.66157\n",
      "[22]\tdtrain-DeterministicEMPB:15763362.60846\n",
      "[23]\tdtrain-DeterministicEMPB:16153019.63015\n",
      "[24]\tdtrain-DeterministicEMPB:16586234.11571\n",
      "[25]\tdtrain-DeterministicEMPB:16921390.42048\n",
      "[26]\tdtrain-DeterministicEMPB:17275220.42770\n",
      "[27]\tdtrain-DeterministicEMPB:17586042.52446\n",
      "[28]\tdtrain-DeterministicEMPB:17911287.20241\n",
      "[29]\tdtrain-DeterministicEMPB:18253005.73593\n",
      "[30]\tdtrain-DeterministicEMPB:18503672.07641\n",
      "[31]\tdtrain-DeterministicEMPB:18780945.47495\n",
      "[32]\tdtrain-DeterministicEMPB:19021474.47866\n",
      "[33]\tdtrain-DeterministicEMPB:19231048.34936\n",
      "[34]\tdtrain-DeterministicEMPB:19413064.61124\n",
      "[35]\tdtrain-DeterministicEMPB:19585355.03066\n",
      "[36]\tdtrain-DeterministicEMPB:19742591.23806\n",
      "[37]\tdtrain-DeterministicEMPB:19880564.57175\n",
      "[38]\tdtrain-DeterministicEMPB:20010976.69097\n",
      "[39]\tdtrain-DeterministicEMPB:20115715.00027\n",
      "[40]\tdtrain-DeterministicEMPB:20228280.74940\n",
      "[41]\tdtrain-DeterministicEMPB:20319634.84251\n",
      "[42]\tdtrain-DeterministicEMPB:20417649.19565\n",
      "[43]\tdtrain-DeterministicEMPB:20516625.55173\n",
      "[44]\tdtrain-DeterministicEMPB:20606248.19421\n",
      "[45]\tdtrain-DeterministicEMPB:20701910.01208\n",
      "[46]\tdtrain-DeterministicEMPB:20785448.97495\n",
      "[47]\tdtrain-DeterministicEMPB:20899246.28489\n",
      "[48]\tdtrain-DeterministicEMPB:20989850.34845\n",
      "[49]\tdtrain-DeterministicEMPB:21096169.56646\n",
      "[50]\tdtrain-DeterministicEMPB:21179136.20759\n",
      "[51]\tdtrain-DeterministicEMPB:21250234.34246\n",
      "[52]\tdtrain-DeterministicEMPB:21314709.76797\n",
      "[53]\tdtrain-DeterministicEMPB:21383307.61959\n",
      "[54]\tdtrain-DeterministicEMPB:21450973.34603\n",
      "[55]\tdtrain-DeterministicEMPB:21492891.00566\n",
      "[56]\tdtrain-DeterministicEMPB:21530141.02443\n",
      "[57]\tdtrain-DeterministicEMPB:21589104.94530\n",
      "[58]\tdtrain-DeterministicEMPB:21648484.88270\n",
      "[59]\tdtrain-DeterministicEMPB:21712425.06488\n",
      "[60]\tdtrain-DeterministicEMPB:21742442.54732\n",
      "[61]\tdtrain-DeterministicEMPB:21829096.65138\n",
      "[62]\tdtrain-DeterministicEMPB:21883386.16246\n",
      "[63]\tdtrain-DeterministicEMPB:21933373.96791\n",
      "[64]\tdtrain-DeterministicEMPB:21997010.05430\n",
      "[65]\tdtrain-DeterministicEMPB:22025044.11772\n",
      "[66]\tdtrain-DeterministicEMPB:22080952.91918\n",
      "[67]\tdtrain-DeterministicEMPB:22104832.26782\n",
      "[68]\tdtrain-DeterministicEMPB:22181527.36075\n",
      "[69]\tdtrain-DeterministicEMPB:22213379.79892\n",
      "[70]\tdtrain-DeterministicEMPB:22244255.99359\n",
      "[71]\tdtrain-DeterministicEMPB:22275704.06585\n",
      "[72]\tdtrain-DeterministicEMPB:22352264.06077\n",
      "[73]\tdtrain-DeterministicEMPB:22381766.31432\n",
      "[74]\tdtrain-DeterministicEMPB:22402570.09403\n",
      "[75]\tdtrain-DeterministicEMPB:22444149.06659\n",
      "[76]\tdtrain-DeterministicEMPB:22478335.65148\n",
      "[77]\tdtrain-DeterministicEMPB:22513713.98423\n",
      "[78]\tdtrain-DeterministicEMPB:22536892.17278\n",
      "[79]\tdtrain-DeterministicEMPB:22569500.26393\n",
      "[80]\tdtrain-DeterministicEMPB:22588919.58591\n",
      "[81]\tdtrain-DeterministicEMPB:22618118.46686\n",
      "[82]\tdtrain-DeterministicEMPB:22636552.22974\n",
      "[83]\tdtrain-DeterministicEMPB:22668015.80815\n",
      "[84]\tdtrain-DeterministicEMPB:22743264.13138\n",
      "[85]\tdtrain-DeterministicEMPB:22812678.54312\n",
      "[86]\tdtrain-DeterministicEMPB:22904444.50656\n",
      "[87]\tdtrain-DeterministicEMPB:22979422.12833\n",
      "[88]\tdtrain-DeterministicEMPB:23052825.28068\n",
      "[89]\tdtrain-DeterministicEMPB:23127211.22653\n",
      "[90]\tdtrain-DeterministicEMPB:23166663.98247\n",
      "[91]\tdtrain-DeterministicEMPB:23192868.02142\n",
      "[92]\tdtrain-DeterministicEMPB:23221694.40739\n",
      "[93]\tdtrain-DeterministicEMPB:23247888.36454\n",
      "[94]\tdtrain-DeterministicEMPB:23281019.31501\n",
      "[95]\tdtrain-DeterministicEMPB:23330848.76728\n",
      "[96]\tdtrain-DeterministicEMPB:23346277.62275\n",
      "[97]\tdtrain-DeterministicEMPB:23407557.40738\n",
      "[98]\tdtrain-DeterministicEMPB:23436780.36653\n",
      "[99]\tdtrain-DeterministicEMPB:23487491.17008\n"
     ]
    }
   ],
   "source": [
    "final_rounds = 100\n",
    "final_gamma = 1.0\n",
    "final_lr = 0.1\n",
    "        \n",
    "outcome, results = b2boost_visualize(dtrain, final_rounds , final_gamma, final_lr, clv_train)  "
   ]
  },
  {
   "cell_type": "markdown",
   "metadata": {},
   "source": [
    "The prints already give a good idea about how the algorithm converges. But let us visualize this."
   ]
  },
  {
   "cell_type": "code",
   "execution_count": 31,
   "metadata": {},
   "outputs": [
    {
     "data": {
      "image/png": "[encoded data removed]",
      "text/plain": [
       "<Figure size 640x480 with 1 Axes>"
      ]
     },
     "metadata": {},
     "output_type": "display_data"
    }
   ],
   "source": [
    "import matplotlib.pyplot as plt\n",
    "\n",
    "plt.plot(results['dtrain']['DeterministicEMPB'])\n",
    "plt.axhline(y=0, color='r', linestyle='-')\n",
    "\n",
    "plt.show()"
   ]
  },
  {
   "cell_type": "markdown",
   "metadata": {},
   "source": [
    "This plot nicely visualizes how our metric converges. It is clear that the Deterministic EMPB is being optimized, with its (training!) value asymptotically increasing with each iteration. After a couple of iterations EMPB > 0 (red line), which means that at that point, retention campaigns are expected to become profitable. If the blue line could not converge above this value, campaigns are not feasibily profitable! "
   ]
  },
  {
   "cell_type": "markdown",
   "metadata": {},
   "source": [
    "Now it is up to you: visualize how the B2Boost algorithm converges for the ROC AUC metric and compare with the EMPB behavior."
   ]
  },
  {
   "cell_type": "code",
   "execution_count": null,
   "metadata": {},
   "outputs": [],
   "source": []
  }
 ],
 "metadata": {
  "kernelspec": {
   "display_name": "Python 3 (ipykernel)",
   "language": "python",
   "name": "python3"
  },
  "language_info": {
   "codemirror_mode": {
    "name": "ipython",
    "version": 3
   },
   "file_extension": ".py",
   "mimetype": "text/x-python",
   "name": "python",
   "nbconvert_exporter": "python",
   "pygments_lexer": "ipython3",
   "version": "3.9.13"
  }
 },
 "nbformat": 4,
 "nbformat_minor": 2
}
