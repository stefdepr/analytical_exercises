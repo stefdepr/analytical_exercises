{
 "cells": [
  {
   "cell_type": "markdown",
   "metadata": {},
   "source": [
    "# CLV Migration Modeling"
   ]
  },
  {
   "cell_type": "code",
   "execution_count": 87,
   "outputs": [
    {
     "name": "stderr",
     "output_type": "stream",
     "text": [
      "ERROR: Could not find a version that satisfies the requirement latexify (from versions: none)\n",
      "ERROR: No matching distribution found for latexify\n"
     ]
    }
   ],
   "source": [
    "!pip install latexify"
   ],
   "metadata": {
    "collapsed": false
   }
  },
  {
   "cell_type": "code",
   "execution_count": 88,
   "metadata": {},
   "outputs": [],
   "source": [
    "# import the required packages\n",
    "import pandas as pd \n",
    "import numpy as np\n",
    "\n",
    "import matplotlib.pyplot as plt\n",
    "import seaborn as sns\n",
    "\n",
    "from scipy.stats import norm\n",
    "from sklearn.preprocessing import LabelEncoder, MinMaxScaler\n",
    "from sklearn.model_selection import train_test_split\n",
    "from sklearn.linear_model import LogisticRegression, LinearRegression\n",
    "from statsmodels.discrete.discrete_model import Probit\n",
    "from sklearn.metrics import mean_absolute_error, mean_squared_error\n",
    "\n",
    "import math\n",
    "import latexify\n",
    "from datetime import datetime, timedelta"
   ]
  },
  {
   "cell_type": "markdown",
   "metadata": {},
   "source": [
    "We are going to **compute CLV of the donors** we saw during case 1 (i.e. the Churn case).\n",
    "\n",
    "**Multiple methodologies** exist to tackle CLV modeling. During this course you will see two: **data mining** and **migration modeling**. Data mining was already applied during the churn and acquisition cases. Migration modeling however is new. **Migration modeling** looks at customer behavior as a sequential process. At each time period t a customer is either an active or an inactive customer and this behavior depends upon the behavior in t-1 according to a transition matrix ``P``.\n",
    "\n",
    "We are going to model CLV for the **next 3 years**, with time steps of 1 year:"
   ]
  },
  {
   "cell_type": "code",
   "execution_count": 89,
   "metadata": {},
   "outputs": [
    {
     "data": {
      "text/plain": "<latexify.frontend.LatexifiedFunction at 0x22eb2500c40>",
      "text/latex": "$$ \\displaystyle \\mathrm{CLV}(n, P, v, r) = \\frac{n P v}{{1} + r} + \\frac{n P P v}{\\left( {1} + r \\right)^{{2}}} + \\frac{n P P P v}{\\left( {1} + r \\right)^{{3}}} $$"
     },
     "execution_count": 89,
     "metadata": {},
     "output_type": "execute_result"
    }
   ],
   "source": [
    "@latexify.with_latex\n",
    "def CLV(n, P, v, r):\n",
    "    return((n * P * v / (1+r)) + (n * P * P * v / (1+r)**2) + (n * P * P * P * v / (1+r)**3))\n",
    "CLV"
   ]
  },
  {
   "cell_type": "markdown",
   "metadata": {},
   "source": [
    "With:\n",
    "- ``n``: initial vector\n",
    "- ``P``: transition matrix\n",
    "- ``v``: value vector \n",
    "- ``r``: discount rate\n",
    "\n",
    "Which means we need to have ``n``, ``P``, ``v`` and ``r``.\n",
    "\n",
    "We are going to use a **discount rate** (**r**) of 0.05. This value is firm-dependent (see financial calculation courses).\n",
    "\n",
    "This leaves us with the three other parameters:  \n",
    "\n",
    "``n``: initial vector  \n",
    "``P``: transition matrix  \n",
    "``v``: value vector"
   ]
  },
  {
   "cell_type": "code",
   "execution_count": 148,
   "metadata": {},
   "outputs": [],
   "source": [
    "# set discount rate\n",
    "DISCOUNT_RATE = 0.05"
   ]
  },
  {
   "cell_type": "markdown",
   "metadata": {},
   "source": [
    "# 1. Data Exploration"
   ]
  },
  {
   "cell_type": "code",
   "execution_count": 91,
   "metadata": {},
   "outputs": [],
   "source": [
    "# import all the datasets\n",
    "extrel = pd.read_csv(\"./data/extrel.csv\")\n",
    "extrelty = pd.read_csv(\"./data/extrelty.csv\")\n",
    "communication = pd.read_csv(\"./data/communication.csv\")\n",
    "payhistory = pd.read_csv(\"./data/payhistory.csv\")\n",
    "nameaddr = pd.read_csv(\"./data/nameaddr.csv\")\n",
    "comclas = pd.read_csv(\"./data/comclas.csv\")\n",
    "commediu = pd.read_csv(\"./data/commediu.csv\")"
   ]
  },
  {
   "cell_type": "code",
   "execution_count": 92,
   "metadata": {},
   "outputs": [
    {
     "data": {
      "text/plain": "   EXTRELNO EXRELACTCD  EXTRELSTDT  EXRELDATEN\n0     26414         CT  2008-01-30         NaT\n1     26419         FP  2005-02-26         NaT\n2     26424         FP  2005-02-26  2009-12-21\n3     26430         FP  2005-02-26  2019-01-28\n4     26430         CT  2010-03-04         NaT",
      "text/html": "<div>\n<style scoped>\n    .dataframe tbody tr th:only-of-type {\n        vertical-align: middle;\n    }\n\n    .dataframe tbody tr th {\n        vertical-align: top;\n    }\n\n    .dataframe thead th {\n        text-align: right;\n    }\n</style>\n<table border=\"1\" class=\"dataframe\">\n  <thead>\n    <tr style=\"text-align: right;\">\n      <th></th>\n      <th>EXTRELNO</th>\n      <th>EXRELACTCD</th>\n      <th>EXTRELSTDT</th>\n      <th>EXRELDATEN</th>\n    </tr>\n  </thead>\n  <tbody>\n    <tr>\n      <th>0</th>\n      <td>26414</td>\n      <td>CT</td>\n      <td>2008-01-30</td>\n      <td>NaT</td>\n    </tr>\n    <tr>\n      <th>1</th>\n      <td>26419</td>\n      <td>FP</td>\n      <td>2005-02-26</td>\n      <td>NaT</td>\n    </tr>\n    <tr>\n      <th>2</th>\n      <td>26424</td>\n      <td>FP</td>\n      <td>2005-02-26</td>\n      <td>2009-12-21</td>\n    </tr>\n    <tr>\n      <th>3</th>\n      <td>26430</td>\n      <td>FP</td>\n      <td>2005-02-26</td>\n      <td>2019-01-28</td>\n    </tr>\n    <tr>\n      <th>4</th>\n      <td>26430</td>\n      <td>CT</td>\n      <td>2010-03-04</td>\n      <td>NaT</td>\n    </tr>\n  </tbody>\n</table>\n</div>"
     },
     "execution_count": 92,
     "metadata": {},
     "output_type": "execute_result"
    }
   ],
   "source": [
    "# inspect first observation extrel\n",
    "extrel.head()"
   ]
  },
  {
   "cell_type": "code",
   "execution_count": 93,
   "metadata": {},
   "outputs": [
    {
     "data": {
      "text/plain": "EXTRELNO       int64\nEXRELACTCD    object\nEXTRELSTDT    object\nEXRELDATEN    object\ndtype: object"
     },
     "execution_count": 93,
     "metadata": {},
     "output_type": "execute_result"
    }
   ],
   "source": [
    "# inspect dtypes of columns\n",
    "extrel.dtypes"
   ]
  },
  {
   "cell_type": "code",
   "execution_count": 94,
   "metadata": {},
   "outputs": [
    {
     "data": {
      "text/plain": "(26689, 4)"
     },
     "execution_count": 94,
     "metadata": {},
     "output_type": "execute_result"
    }
   ],
   "source": [
    "# inspect shape\n",
    "extrel.shape"
   ]
  },
  {
   "cell_type": "code",
   "execution_count": 95,
   "metadata": {},
   "outputs": [
    {
     "data": {
      "text/plain": "      PID       PDATE   PAMT  EXTRELNO PAYTYPECD STATUS\n0      38  2006-12-28   9.57        19         X     CO\n1      39  2006-12-28  41.32        20         X     CO\n2      40  2006-12-28  13.10        20         X     CO\n3   54091  2006-12-29   2.02        20         X     CO\n4  104480  2007-05-16   0.50        20         D     OK",
      "text/html": "<div>\n<style scoped>\n    .dataframe tbody tr th:only-of-type {\n        vertical-align: middle;\n    }\n\n    .dataframe tbody tr th {\n        vertical-align: top;\n    }\n\n    .dataframe thead th {\n        text-align: right;\n    }\n</style>\n<table border=\"1\" class=\"dataframe\">\n  <thead>\n    <tr style=\"text-align: right;\">\n      <th></th>\n      <th>PID</th>\n      <th>PDATE</th>\n      <th>PAMT</th>\n      <th>EXTRELNO</th>\n      <th>PAYTYPECD</th>\n      <th>STATUS</th>\n    </tr>\n  </thead>\n  <tbody>\n    <tr>\n      <th>0</th>\n      <td>38</td>\n      <td>2006-12-28</td>\n      <td>9.57</td>\n      <td>19</td>\n      <td>X</td>\n      <td>CO</td>\n    </tr>\n    <tr>\n      <th>1</th>\n      <td>39</td>\n      <td>2006-12-28</td>\n      <td>41.32</td>\n      <td>20</td>\n      <td>X</td>\n      <td>CO</td>\n    </tr>\n    <tr>\n      <th>2</th>\n      <td>40</td>\n      <td>2006-12-28</td>\n      <td>13.10</td>\n      <td>20</td>\n      <td>X</td>\n      <td>CO</td>\n    </tr>\n    <tr>\n      <th>3</th>\n      <td>54091</td>\n      <td>2006-12-29</td>\n      <td>2.02</td>\n      <td>20</td>\n      <td>X</td>\n      <td>CO</td>\n    </tr>\n    <tr>\n      <th>4</th>\n      <td>104480</td>\n      <td>2007-05-16</td>\n      <td>0.50</td>\n      <td>20</td>\n      <td>D</td>\n      <td>OK</td>\n    </tr>\n  </tbody>\n</table>\n</div>"
     },
     "execution_count": 95,
     "metadata": {},
     "output_type": "execute_result"
    }
   ],
   "source": [
    "# inspect payhistory\n",
    "payhistory.head()"
   ]
  },
  {
   "cell_type": "code",
   "execution_count": 96,
   "metadata": {},
   "outputs": [
    {
     "data": {
      "text/plain": "(1205720, 6)"
     },
     "execution_count": 96,
     "metadata": {},
     "output_type": "execute_result"
    }
   ],
   "source": [
    "# inspect shape\n",
    "payhistory.shape"
   ]
  },
  {
   "cell_type": "markdown",
   "metadata": {},
   "source": [
    "# 2. Time Window"
   ]
  },
  {
   "cell_type": "markdown",
   "metadata": {},
   "source": [
    "We have the **same restriction** as during the churn case. We have a **gap** until the start of next year for deployment. We use today's data (23 November) to predict CLV. However, this time we are not interested in 1-year churn behavior but in **3-year CLV**. This means we need the **last full 3 years of our available training data**. This means we do not only need the entire year of 2019, but also 2018 and 2017. This means we are only allowed to use data available up until 23 November 2016 for the computation of our *initital state*."
   ]
  },
  {
   "cell_type": "code",
   "execution_count": 97,
   "metadata": {},
   "outputs": [],
   "source": [
    "# define the model building time window\n",
    "end_independent = datetime.strptime(\"22/11/2016\", \"%d/%m/%Y\")\n",
    "start_dependent = datetime.strptime(\"01/01/2017\", \"%d/%m/%Y\")\n",
    "end_dependent = datetime.strptime(\"31/12/2019\", \"%d/%m/%Y\")"
   ]
  },
  {
   "cell_type": "markdown",
   "metadata": {},
   "source": [
    "# 3. Data Preparation"
   ]
  },
  {
   "cell_type": "markdown",
   "metadata": {},
   "source": [
    "## 3.1. Customers"
   ]
  },
  {
   "cell_type": "markdown",
   "metadata": {},
   "source": [
    "We need to take a relevant subset of modelable customers just as we did in the churn case. Therefore we have to make **some constraints** in this CLV-case:\n",
    "\n",
    "1. The donors have to be **active during the independent period**: they needed to start their relationship with the company before the end of the independent period.\n",
    "2. We are **not interested** in donors that ended their relation before the start of the dependent.\n",
    "3. Extra condition in comparison to churn case : take only the donors that **made already a transaction by the end of the independent period**. For instance, active donors that have their first payment during the gap will otherwise be missclassified as initially inactive donors which would hinder model performance. + We are interested in value of donors, non-paying donors have (direct monetary) value of zero anyway."
   ]
  },
  {
   "cell_type": "code",
   "execution_count": 98,
   "metadata": {},
   "outputs": [],
   "source": [
    "# convert start date EXTRELSTDT and end date EXRELDATEN to datetimes\n",
    "extrel[\"EXTRELSTDT\"] = pd.to_datetime(extrel[\"EXTRELSTDT\"], format='%Y-%m-%d')\n",
    "extrel[\"EXRELDATEN\"] = pd.to_datetime(extrel[\"EXRELDATEN\"], format='%Y-%m-%d')"
   ]
  },
  {
   "cell_type": "code",
   "execution_count": 99,
   "metadata": {},
   "outputs": [],
   "source": [
    "# extract the active donors\n",
    "active_customers = extrel[(extrel[\"EXTRELSTDT\"] <= end_independent) & \n",
    "                        ((extrel[\"EXRELDATEN\"] > start_dependent) | (extrel[\"EXRELDATEN\"].isnull()))]"
   ]
  },
  {
   "cell_type": "code",
   "execution_count": 100,
   "metadata": {},
   "outputs": [],
   "source": [
    "# get unique customers\n",
    "active_customers = active_customers[\"EXTRELNO\"].unique()\n",
    "# convert to DataFrame \n",
    "active_customers = pd.DataFrame(active_customers)\n",
    "# rename column\n",
    "active_customers.columns = [\"EXTRELNO\"]\n",
    "# sort by EXTRELNO \n",
    "active_customers = active_customers.sort_values(by=[\"EXTRELNO\"])"
   ]
  },
  {
   "cell_type": "code",
   "execution_count": 101,
   "metadata": {},
   "outputs": [
    {
     "data": {
      "text/plain": "(13552, 1)"
     },
     "execution_count": 101,
     "metadata": {},
     "output_type": "execute_result"
    }
   ],
   "source": [
    "# get shape of active_customers dataframe\n",
    "active_customers.shape"
   ]
  },
  {
   "cell_type": "code",
   "execution_count": 102,
   "metadata": {},
   "outputs": [],
   "source": [
    "# convert payhistory PDATE to datetime\n",
    "payhistory[\"PDATE\"] = pd.to_datetime(payhistory[\"PDATE\"], format='%Y-%m-%d')"
   ]
  },
  {
   "cell_type": "code",
   "execution_count": 103,
   "metadata": {},
   "outputs": [],
   "source": [
    "# extract only those transactions which were made before the end of the independent period\n",
    "payhistory_ind = payhistory[payhistory[\"PDATE\"] <= end_independent]\n",
    "# extract only observations with positive transactions\n",
    "payhistory_ind = payhistory_ind[payhistory_ind[\"PAMT\"] > 0]"
   ]
  },
  {
   "cell_type": "code",
   "execution_count": 104,
   "metadata": {},
   "outputs": [],
   "source": [
    "# sort data by extrelno and pdate\n",
    "payhistory_ind = payhistory_ind.sort_values(by=[\"EXTRELNO\", \"PDATE\"])"
   ]
  },
  {
   "cell_type": "code",
   "execution_count": 105,
   "metadata": {},
   "outputs": [],
   "source": [
    "# get unique set of customers with transactions during the independent period\n",
    "transaction_customers = payhistory_ind[\"EXTRELNO\"].unique()\n",
    "# convert to DataFrame\n",
    "transaction_customers = pd.DataFrame(transaction_customers)\n",
    "# rename column\n",
    "transaction_customers.columns = [\"EXTRELNO\"]"
   ]
  },
  {
   "cell_type": "code",
   "execution_count": 106,
   "metadata": {},
   "outputs": [
    {
     "data": {
      "text/plain": "(14835, 1)"
     },
     "execution_count": 106,
     "metadata": {},
     "output_type": "execute_result"
    }
   ],
   "source": [
    "# get shape of transaction_customers dataframe\n",
    "transaction_customers.shape"
   ]
  },
  {
   "cell_type": "code",
   "execution_count": 107,
   "metadata": {},
   "outputs": [],
   "source": [
    "# merge both tables to get active customers that made transaction during independent period\n",
    "customers = pd.merge(active_customers, transaction_customers, on=\"EXTRELNO\", how=\"inner\")"
   ]
  },
  {
   "cell_type": "code",
   "execution_count": 108,
   "metadata": {},
   "outputs": [
    {
     "data": {
      "text/plain": "(7039, 1)"
     },
     "execution_count": 108,
     "metadata": {},
     "output_type": "execute_result"
    }
   ],
   "source": [
    "# get shape of customers dataframe\n",
    "customers.shape"
   ]
  },
  {
   "cell_type": "code",
   "execution_count": 109,
   "metadata": {},
   "outputs": [
    {
     "data": {
      "text/plain": "   EXTRELNO\n0     26414\n1     26419\n2     26430\n3     26431\n4     26443",
      "text/html": "<div>\n<style scoped>\n    .dataframe tbody tr th:only-of-type {\n        vertical-align: middle;\n    }\n\n    .dataframe tbody tr th {\n        vertical-align: top;\n    }\n\n    .dataframe thead th {\n        text-align: right;\n    }\n</style>\n<table border=\"1\" class=\"dataframe\">\n  <thead>\n    <tr style=\"text-align: right;\">\n      <th></th>\n      <th>EXTRELNO</th>\n    </tr>\n  </thead>\n  <tbody>\n    <tr>\n      <th>0</th>\n      <td>26414</td>\n    </tr>\n    <tr>\n      <th>1</th>\n      <td>26419</td>\n    </tr>\n    <tr>\n      <th>2</th>\n      <td>26430</td>\n    </tr>\n    <tr>\n      <th>3</th>\n      <td>26431</td>\n    </tr>\n    <tr>\n      <th>4</th>\n      <td>26443</td>\n    </tr>\n  </tbody>\n</table>\n</div>"
     },
     "execution_count": 109,
     "metadata": {},
     "output_type": "execute_result"
    }
   ],
   "source": [
    "# check output\n",
    "customers.head()"
   ]
  },
  {
   "cell_type": "markdown",
   "metadata": {},
   "source": [
    "## 3.2. Initial states"
   ]
  },
  {
   "cell_type": "markdown",
   "metadata": {},
   "source": [
    "Now we can start modeling the still needed values. \n",
    "\n",
    "We will start with modeling the **value vector** (``v``) and **initial state vector** (``n``) for all customers, as you will do in the future (**purpose model**). But do note that for this **model building phase** you essentially only need them for your test set as the **transition probability matrix** (``P``) is the only thing you will be fitting on the training set and evaluating on the test set.\n",
    "\n",
    "We start with the initial state. During ``time period 0``, did the donor actually donate?\n",
    "\n",
    "Since we are looking at **time periods of 1 year**, this corresponds to recency < 1 year (see churn case).\n",
    "\n",
    "Luckily, we already created the ``payhistory_ind`` dataset with only information up until the of the **independent period**."
   ]
  },
  {
   "cell_type": "markdown",
   "metadata": {},
   "source": [
    "### 3.2.1. Recency"
   ]
  },
  {
   "cell_type": "code",
   "execution_count": 110,
   "metadata": {},
   "outputs": [],
   "source": [
    "# get the last transactions\n",
    "recency = payhistory_ind.groupby(\"EXTRELNO\").tail(1)[[\"EXTRELNO\", \"PDATE\"]]\n",
    "# get the recency in years\n",
    "recency[\"recency\"] = recency[\"PDATE\"].apply(lambda x: (end_independent - x).days / 365.)\n",
    "# drop PDATE\n",
    "recency = recency.drop(\"PDATE\", axis=1)"
   ]
  },
  {
   "cell_type": "code",
   "execution_count": 111,
   "metadata": {},
   "outputs": [
    {
     "data": {
      "text/plain": "     EXTRELNO   recency\n0          19  9.909589\n120        20  0.035616\n275        35  0.035616\n397        42  2.871233\n627        43  0.369863",
      "text/html": "<div>\n<style scoped>\n    .dataframe tbody tr th:only-of-type {\n        vertical-align: middle;\n    }\n\n    .dataframe tbody tr th {\n        vertical-align: top;\n    }\n\n    .dataframe thead th {\n        text-align: right;\n    }\n</style>\n<table border=\"1\" class=\"dataframe\">\n  <thead>\n    <tr style=\"text-align: right;\">\n      <th></th>\n      <th>EXTRELNO</th>\n      <th>recency</th>\n    </tr>\n  </thead>\n  <tbody>\n    <tr>\n      <th>0</th>\n      <td>19</td>\n      <td>9.909589</td>\n    </tr>\n    <tr>\n      <th>120</th>\n      <td>20</td>\n      <td>0.035616</td>\n    </tr>\n    <tr>\n      <th>275</th>\n      <td>35</td>\n      <td>0.035616</td>\n    </tr>\n    <tr>\n      <th>397</th>\n      <td>42</td>\n      <td>2.871233</td>\n    </tr>\n    <tr>\n      <th>627</th>\n      <td>43</td>\n      <td>0.369863</td>\n    </tr>\n  </tbody>\n</table>\n</div>"
     },
     "execution_count": 111,
     "metadata": {},
     "output_type": "execute_result"
    }
   ],
   "source": [
    "# check\n",
    "recency.head()"
   ]
  },
  {
   "cell_type": "markdown",
   "metadata": {},
   "source": [
    "### 3.2.2. Initial state\n"
   ]
  },
  {
   "cell_type": "markdown",
   "metadata": {},
   "source": [
    "Next, we are going to calculate the ``recency state`` variable, which will be set at ``1`` if the recency is smaller than 1,\n",
    "and at ``0`` if the recency is larger or equal than 1."
   ]
  },
  {
   "cell_type": "code",
   "execution_count": 112,
   "metadata": {},
   "outputs": [],
   "source": [
    "# create recency state variable\n",
    "recency[\"initial_state\"] = np.where(recency[\"recency\"]>1,0,1)"
   ]
  },
  {
   "cell_type": "code",
   "execution_count": 113,
   "metadata": {},
   "outputs": [
    {
     "data": {
      "text/plain": "     EXTRELNO   recency  initial_state\n0          19  9.909589              0\n120        20  0.035616              1\n275        35  0.035616              1\n397        42  2.871233              0\n627        43  0.369863              1",
      "text/html": "<div>\n<style scoped>\n    .dataframe tbody tr th:only-of-type {\n        vertical-align: middle;\n    }\n\n    .dataframe tbody tr th {\n        vertical-align: top;\n    }\n\n    .dataframe thead th {\n        text-align: right;\n    }\n</style>\n<table border=\"1\" class=\"dataframe\">\n  <thead>\n    <tr style=\"text-align: right;\">\n      <th></th>\n      <th>EXTRELNO</th>\n      <th>recency</th>\n      <th>initial_state</th>\n    </tr>\n  </thead>\n  <tbody>\n    <tr>\n      <th>0</th>\n      <td>19</td>\n      <td>9.909589</td>\n      <td>0</td>\n    </tr>\n    <tr>\n      <th>120</th>\n      <td>20</td>\n      <td>0.035616</td>\n      <td>1</td>\n    </tr>\n    <tr>\n      <th>275</th>\n      <td>35</td>\n      <td>0.035616</td>\n      <td>1</td>\n    </tr>\n    <tr>\n      <th>397</th>\n      <td>42</td>\n      <td>2.871233</td>\n      <td>0</td>\n    </tr>\n    <tr>\n      <th>627</th>\n      <td>43</td>\n      <td>0.369863</td>\n      <td>1</td>\n    </tr>\n  </tbody>\n</table>\n</div>"
     },
     "execution_count": 113,
     "metadata": {},
     "output_type": "execute_result"
    }
   ],
   "source": [
    "# check\n",
    "recency.head()"
   ]
  },
  {
   "cell_type": "code",
   "execution_count": 114,
   "outputs": [
    {
     "data": {
      "text/plain": "      EXTRELNO\n0        26414\n1        26419\n2        26430\n3        26431\n4        26443\n...        ...\n7034    232369\n7035    232377\n7036    232395\n7037    232434\n7038    232447\n\n[7039 rows x 1 columns]",
      "text/html": "<div>\n<style scoped>\n    .dataframe tbody tr th:only-of-type {\n        vertical-align: middle;\n    }\n\n    .dataframe tbody tr th {\n        vertical-align: top;\n    }\n\n    .dataframe thead th {\n        text-align: right;\n    }\n</style>\n<table border=\"1\" class=\"dataframe\">\n  <thead>\n    <tr style=\"text-align: right;\">\n      <th></th>\n      <th>EXTRELNO</th>\n    </tr>\n  </thead>\n  <tbody>\n    <tr>\n      <th>0</th>\n      <td>26414</td>\n    </tr>\n    <tr>\n      <th>1</th>\n      <td>26419</td>\n    </tr>\n    <tr>\n      <th>2</th>\n      <td>26430</td>\n    </tr>\n    <tr>\n      <th>3</th>\n      <td>26431</td>\n    </tr>\n    <tr>\n      <th>4</th>\n      <td>26443</td>\n    </tr>\n    <tr>\n      <th>...</th>\n      <td>...</td>\n    </tr>\n    <tr>\n      <th>7034</th>\n      <td>232369</td>\n    </tr>\n    <tr>\n      <th>7035</th>\n      <td>232377</td>\n    </tr>\n    <tr>\n      <th>7036</th>\n      <td>232395</td>\n    </tr>\n    <tr>\n      <th>7037</th>\n      <td>232434</td>\n    </tr>\n    <tr>\n      <th>7038</th>\n      <td>232447</td>\n    </tr>\n  </tbody>\n</table>\n<p>7039 rows × 1 columns</p>\n</div>"
     },
     "execution_count": 114,
     "metadata": {},
     "output_type": "execute_result"
    }
   ],
   "source": [
    "customers"
   ],
   "metadata": {
    "collapsed": false
   }
  },
  {
   "cell_type": "code",
   "execution_count": 115,
   "metadata": {},
   "outputs": [],
   "source": [
    "# left outer join with customers dataset\n",
    "initial_state = pd.merge(left=customers, right=recency, on=\"EXTRELNO\", how=\"left\")"
   ]
  },
  {
   "cell_type": "code",
   "execution_count": 116,
   "metadata": {},
   "outputs": [
    {
     "data": {
      "text/plain": "(7039, 3)"
     },
     "execution_count": 116,
     "metadata": {},
     "output_type": "execute_result"
    }
   ],
   "source": [
    "# check shape of initial_state dataframe\n",
    "initial_state.shape"
   ]
  },
  {
   "cell_type": "code",
   "execution_count": 117,
   "metadata": {},
   "outputs": [
    {
     "data": {
      "text/plain": "   EXTRELNO   recency  initial_state\n0     26414  0.035616              1\n1     26419  0.153425              1\n2     26430  0.035616              1\n3     26431  0.556164              1\n4     26443  0.035616              1",
      "text/html": "<div>\n<style scoped>\n    .dataframe tbody tr th:only-of-type {\n        vertical-align: middle;\n    }\n\n    .dataframe tbody tr th {\n        vertical-align: top;\n    }\n\n    .dataframe thead th {\n        text-align: right;\n    }\n</style>\n<table border=\"1\" class=\"dataframe\">\n  <thead>\n    <tr style=\"text-align: right;\">\n      <th></th>\n      <th>EXTRELNO</th>\n      <th>recency</th>\n      <th>initial_state</th>\n    </tr>\n  </thead>\n  <tbody>\n    <tr>\n      <th>0</th>\n      <td>26414</td>\n      <td>0.035616</td>\n      <td>1</td>\n    </tr>\n    <tr>\n      <th>1</th>\n      <td>26419</td>\n      <td>0.153425</td>\n      <td>1</td>\n    </tr>\n    <tr>\n      <th>2</th>\n      <td>26430</td>\n      <td>0.035616</td>\n      <td>1</td>\n    </tr>\n    <tr>\n      <th>3</th>\n      <td>26431</td>\n      <td>0.556164</td>\n      <td>1</td>\n    </tr>\n    <tr>\n      <th>4</th>\n      <td>26443</td>\n      <td>0.035616</td>\n      <td>1</td>\n    </tr>\n  </tbody>\n</table>\n</div>"
     },
     "execution_count": 117,
     "metadata": {},
     "output_type": "execute_result"
    }
   ],
   "source": [
    "# check output\n",
    "initial_state.head()"
   ]
  },
  {
   "cell_type": "code",
   "execution_count": 118,
   "metadata": {},
   "outputs": [],
   "source": [
    "# create n\n",
    "n = initial_state['initial_state'].value_counts()"
   ]
  },
  {
   "cell_type": "code",
   "execution_count": 119,
   "metadata": {},
   "outputs": [
    {
     "data": {
      "text/plain": "1    6604\n0     435\nName: initial_state, dtype: int64"
     },
     "execution_count": 119,
     "metadata": {},
     "output_type": "execute_result"
    }
   ],
   "source": [
    "# check\n",
    "n"
   ]
  },
  {
   "cell_type": "markdown",
   "metadata": {},
   "source": [
    "## 3.3. Value Vector"
   ]
  },
  {
   "cell_type": "markdown",
   "metadata": {},
   "source": [
    "The next thing we are going to compute is the ``value vector``. We **assume this value being equal for each year** (without discounting). Of course, this is not exactly correct. But this actually is **quite robust** and allows for the use of **Markov Chains** (see formula at the top of the notebook).\n",
    "\n",
    "Since we assume the value vector being equal each year, we are going to **use the donated amount during year 0** as this information will also be **available during the purpose model phase**."
   ]
  },
  {
   "cell_type": "code",
   "execution_count": 120,
   "metadata": {},
   "outputs": [],
   "source": [
    "# get payhistory information from dependent period\n",
    "payhistory_y0 = payhistory[(payhistory[\"PDATE\"] > (end_independent - timedelta(days=365))) & \n",
    "                            (payhistory[\"PDATE\"] <= end_independent)]"
   ]
  },
  {
   "cell_type": "code",
   "execution_count": 121,
   "metadata": {},
   "outputs": [],
   "source": [
    "# define function to get discounted transaction\n",
    "def get_discounted_transaction(trans_date, trans_val):\n",
    "    \n",
    "    # get discounted transaction\n",
    "    disc_trans = trans_val / ((1 + DISCOUNT_RATE) ** ((trans_date - start_dependent).days / 365.))\n",
    "    \n",
    "    # return\n",
    "    return(disc_trans)\n",
    "# discount each transaction by a daily discount rate\n"
   ]
  },
  {
   "cell_type": "code",
   "execution_count": 122,
   "metadata": {},
   "outputs": [
    {
     "name": "stderr",
     "output_type": "stream",
     "text": [
      "C:\\Users\\stefd\\AppData\\Local\\Temp\\ipykernel_33864\\3071899224.py:2: SettingWithCopyWarning: \n",
      "A value is trying to be set on a copy of a slice from a DataFrame.\n",
      "Try using .loc[row_indexer,col_indexer] = value instead\n",
      "\n",
      "See the caveats in the documentation: https://pandas.pydata.org/pandas-docs/stable/user_guide/indexing.html#returning-a-view-versus-a-copy\n",
      "  payhistory_y0[\"PAMT_discounted\"] = payhistory_y0.apply(lambda x: get_discounted_transaction(x[\"PDATE\"], x[\"PAMT\"]), axis=1)\n"
     ]
    }
   ],
   "source": [
    "# discount each transaction by a daily discount rate\n",
    "payhistory_y0[\"PAMT_discounted\"] = payhistory_y0.apply(lambda x: get_discounted_transaction(x[\"PDATE\"], x[\"PAMT\"]), axis=1)"
   ]
  },
  {
   "cell_type": "code",
   "execution_count": 123,
   "metadata": {},
   "outputs": [
    {
     "data": {
      "text/plain": "         PID      PDATE  PAMT  EXTRELNO PAYTYPECD STATUS  PAMT_discounted\n109  3550005 2015-12-08  23.0        20         D     OK        24.230839\n110  3583134 2016-01-11  23.0        20         D     OK        24.120964\n111  3615556 2016-02-08  23.0        20         D     OK        24.030853\n112  3647372 2016-03-08  23.0        20         D     OK        23.937878\n113  3678919 2016-04-06  23.0        20         D     OK        23.845263",
      "text/html": "<div>\n<style scoped>\n    .dataframe tbody tr th:only-of-type {\n        vertical-align: middle;\n    }\n\n    .dataframe tbody tr th {\n        vertical-align: top;\n    }\n\n    .dataframe thead th {\n        text-align: right;\n    }\n</style>\n<table border=\"1\" class=\"dataframe\">\n  <thead>\n    <tr style=\"text-align: right;\">\n      <th></th>\n      <th>PID</th>\n      <th>PDATE</th>\n      <th>PAMT</th>\n      <th>EXTRELNO</th>\n      <th>PAYTYPECD</th>\n      <th>STATUS</th>\n      <th>PAMT_discounted</th>\n    </tr>\n  </thead>\n  <tbody>\n    <tr>\n      <th>109</th>\n      <td>3550005</td>\n      <td>2015-12-08</td>\n      <td>23.0</td>\n      <td>20</td>\n      <td>D</td>\n      <td>OK</td>\n      <td>24.230839</td>\n    </tr>\n    <tr>\n      <th>110</th>\n      <td>3583134</td>\n      <td>2016-01-11</td>\n      <td>23.0</td>\n      <td>20</td>\n      <td>D</td>\n      <td>OK</td>\n      <td>24.120964</td>\n    </tr>\n    <tr>\n      <th>111</th>\n      <td>3615556</td>\n      <td>2016-02-08</td>\n      <td>23.0</td>\n      <td>20</td>\n      <td>D</td>\n      <td>OK</td>\n      <td>24.030853</td>\n    </tr>\n    <tr>\n      <th>112</th>\n      <td>3647372</td>\n      <td>2016-03-08</td>\n      <td>23.0</td>\n      <td>20</td>\n      <td>D</td>\n      <td>OK</td>\n      <td>23.937878</td>\n    </tr>\n    <tr>\n      <th>113</th>\n      <td>3678919</td>\n      <td>2016-04-06</td>\n      <td>23.0</td>\n      <td>20</td>\n      <td>D</td>\n      <td>OK</td>\n      <td>23.845263</td>\n    </tr>\n  </tbody>\n</table>\n</div>"
     },
     "execution_count": 123,
     "metadata": {},
     "output_type": "execute_result"
    }
   ],
   "source": [
    "# check\n",
    "payhistory_y0.head()"
   ]
  },
  {
   "cell_type": "code",
   "execution_count": 124,
   "metadata": {},
   "outputs": [],
   "source": [
    "# get total of discounted transaction per customer\n",
    "value_vector = payhistory_y0.groupby(\"EXTRELNO\").agg({\"PAMT_discounted\": sum}).reset_index()\n",
    "# rename columns\n",
    "value_vector.columns = [\"EXTRELNO\", \"CLV\"]"
   ]
  },
  {
   "cell_type": "code",
   "execution_count": 125,
   "metadata": {},
   "outputs": [],
   "source": [
    "# left outer join with customers dataframe\n",
    "value_vector = pd.merge(customers, value_vector, on=\"EXTRELNO\", how=\"left\")"
   ]
  },
  {
   "cell_type": "code",
   "execution_count": 126,
   "metadata": {},
   "outputs": [
    {
     "data": {
      "text/plain": "(7039, 2)"
     },
     "execution_count": 126,
     "metadata": {},
     "output_type": "execute_result"
    }
   ],
   "source": [
    "# get shape of value_vector dataframe\n",
    "value_vector.shape"
   ]
  },
  {
   "cell_type": "code",
   "execution_count": 127,
   "metadata": {},
   "outputs": [
    {
     "data": {
      "text/plain": "   EXTRELNO         CLV\n0     26414  284.319331\n1     26419  284.748068\n2     26430  284.319331\n3     26431  261.352928\n4     26443  260.670873",
      "text/html": "<div>\n<style scoped>\n    .dataframe tbody tr th:only-of-type {\n        vertical-align: middle;\n    }\n\n    .dataframe tbody tr th {\n        vertical-align: top;\n    }\n\n    .dataframe thead th {\n        text-align: right;\n    }\n</style>\n<table border=\"1\" class=\"dataframe\">\n  <thead>\n    <tr style=\"text-align: right;\">\n      <th></th>\n      <th>EXTRELNO</th>\n      <th>CLV</th>\n    </tr>\n  </thead>\n  <tbody>\n    <tr>\n      <th>0</th>\n      <td>26414</td>\n      <td>284.319331</td>\n    </tr>\n    <tr>\n      <th>1</th>\n      <td>26419</td>\n      <td>284.748068</td>\n    </tr>\n    <tr>\n      <th>2</th>\n      <td>26430</td>\n      <td>284.319331</td>\n    </tr>\n    <tr>\n      <th>3</th>\n      <td>26431</td>\n      <td>261.352928</td>\n    </tr>\n    <tr>\n      <th>4</th>\n      <td>26443</td>\n      <td>260.670873</td>\n    </tr>\n  </tbody>\n</table>\n</div>"
     },
     "execution_count": 127,
     "metadata": {},
     "output_type": "execute_result"
    }
   ],
   "source": [
    "# check\n",
    "value_vector.head()"
   ]
  },
  {
   "cell_type": "code",
   "execution_count": 128,
   "metadata": {},
   "outputs": [
    {
     "data": {
      "text/plain": "-214.26339745266716"
     },
     "execution_count": 128,
     "metadata": {},
     "output_type": "execute_result"
    }
   ],
   "source": [
    "# retrieve minimum value\n",
    "min(value_vector['CLV'])"
   ]
  },
  {
   "cell_type": "markdown",
   "metadata": {},
   "source": [
    "This is the individual value per donor, but we want the average value per state."
   ]
  },
  {
   "cell_type": "code",
   "execution_count": 129,
   "metadata": {},
   "outputs": [],
   "source": [
    "# inner join value_vector and initial_state\n",
    "df = pd.merge(value_vector, initial_state, on = 'EXTRELNO', how='inner')\n",
    "\n",
    "# impute missing values CLV with 0\n",
    "df['CLV'] = np.where(df['CLV'].isnull(), 0, df['CLV'])"
   ]
  },
  {
   "cell_type": "code",
   "execution_count": 130,
   "metadata": {},
   "outputs": [
    {
     "data": {
      "text/plain": "   EXTRELNO         CLV   recency  initial_state\n0     26414  284.319331  0.035616              1\n1     26419  284.748068  0.153425              1\n2     26430  284.319331  0.035616              1\n3     26431  261.352928  0.556164              1\n4     26443  260.670873  0.035616              1",
      "text/html": "<div>\n<style scoped>\n    .dataframe tbody tr th:only-of-type {\n        vertical-align: middle;\n    }\n\n    .dataframe tbody tr th {\n        vertical-align: top;\n    }\n\n    .dataframe thead th {\n        text-align: right;\n    }\n</style>\n<table border=\"1\" class=\"dataframe\">\n  <thead>\n    <tr style=\"text-align: right;\">\n      <th></th>\n      <th>EXTRELNO</th>\n      <th>CLV</th>\n      <th>recency</th>\n      <th>initial_state</th>\n    </tr>\n  </thead>\n  <tbody>\n    <tr>\n      <th>0</th>\n      <td>26414</td>\n      <td>284.319331</td>\n      <td>0.035616</td>\n      <td>1</td>\n    </tr>\n    <tr>\n      <th>1</th>\n      <td>26419</td>\n      <td>284.748068</td>\n      <td>0.153425</td>\n      <td>1</td>\n    </tr>\n    <tr>\n      <th>2</th>\n      <td>26430</td>\n      <td>284.319331</td>\n      <td>0.035616</td>\n      <td>1</td>\n    </tr>\n    <tr>\n      <th>3</th>\n      <td>26431</td>\n      <td>261.352928</td>\n      <td>0.556164</td>\n      <td>1</td>\n    </tr>\n    <tr>\n      <th>4</th>\n      <td>26443</td>\n      <td>260.670873</td>\n      <td>0.035616</td>\n      <td>1</td>\n    </tr>\n  </tbody>\n</table>\n</div>"
     },
     "execution_count": 130,
     "metadata": {},
     "output_type": "execute_result"
    }
   ],
   "source": [
    "# check\n",
    "df.head()"
   ]
  },
  {
   "cell_type": "code",
   "execution_count": 131,
   "metadata": {},
   "outputs": [
    {
     "data": {
      "text/plain": "initial_state\n0      0.000000\n1    287.670114\nName: CLV, dtype: float64"
     },
     "execution_count": 131,
     "metadata": {},
     "output_type": "execute_result"
    }
   ],
   "source": [
    "# get mean of each initial_state\n",
    "v = df.groupby('initial_state')['CLV'].mean()\n",
    "v"
   ]
  },
  {
   "cell_type": "code",
   "execution_count": 132,
   "metadata": {},
   "outputs": [
    {
     "data": {
      "text/plain": "0    0.000000e+00\n1    1.899773e+06\ndtype: float64"
     },
     "execution_count": 132,
     "metadata": {},
     "output_type": "execute_result"
    }
   ],
   "source": [
    "# multiply\n",
    "n * v"
   ]
  },
  {
   "cell_type": "markdown",
   "metadata": {},
   "source": [
    "1.899733e+06 corresponds to the current customer value during 1 year (**y0**). \n",
    "\n",
    "Both ``n`` and ``v`` will be **recalculated** in our purpose model since this information will also be available then. What won't be available is the **transition matrix** ``P``. We will now calculate it and in a real-life case we would deploy this ``P`` on the new information about initial states and value vectors.\n",
    "\n",
    "Since we are going to evaluate our model, we will recalculate this values as well: solely for the test set this time."
   ]
  },
  {
   "cell_type": "markdown",
   "metadata": {},
   "source": [
    "## 3.4. Transition matrix"
   ]
  },
  {
   "cell_type": "markdown",
   "metadata": {},
   "source": [
    "We assume the transition matrix to be equal across years, which means we **only need to calculate it once** as well. We will compute the transitions between states between ``y0`` and ``y1`` and **assume** these transition probabilities to be equal across years."
   ]
  },
  {
   "cell_type": "code",
   "execution_count": 133,
   "metadata": {},
   "outputs": [
    {
     "data": {
      "text/plain": "         PID      PDATE  PAMT  EXTRELNO PAYTYPECD STATUS\n122  3958746 2017-01-10  23.0        20         D     OK\n123  3989899 2017-02-08  23.0        20         D     OK\n124  4020717 2017-03-08  23.0        20         D     OK\n125  4051630 2017-04-10  23.0        20         D     OK\n126  4081980 2017-05-08  23.0        20         D     OK",
      "text/html": "<div>\n<style scoped>\n    .dataframe tbody tr th:only-of-type {\n        vertical-align: middle;\n    }\n\n    .dataframe tbody tr th {\n        vertical-align: top;\n    }\n\n    .dataframe thead th {\n        text-align: right;\n    }\n</style>\n<table border=\"1\" class=\"dataframe\">\n  <thead>\n    <tr style=\"text-align: right;\">\n      <th></th>\n      <th>PID</th>\n      <th>PDATE</th>\n      <th>PAMT</th>\n      <th>EXTRELNO</th>\n      <th>PAYTYPECD</th>\n      <th>STATUS</th>\n    </tr>\n  </thead>\n  <tbody>\n    <tr>\n      <th>122</th>\n      <td>3958746</td>\n      <td>2017-01-10</td>\n      <td>23.0</td>\n      <td>20</td>\n      <td>D</td>\n      <td>OK</td>\n    </tr>\n    <tr>\n      <th>123</th>\n      <td>3989899</td>\n      <td>2017-02-08</td>\n      <td>23.0</td>\n      <td>20</td>\n      <td>D</td>\n      <td>OK</td>\n    </tr>\n    <tr>\n      <th>124</th>\n      <td>4020717</td>\n      <td>2017-03-08</td>\n      <td>23.0</td>\n      <td>20</td>\n      <td>D</td>\n      <td>OK</td>\n    </tr>\n    <tr>\n      <th>125</th>\n      <td>4051630</td>\n      <td>2017-04-10</td>\n      <td>23.0</td>\n      <td>20</td>\n      <td>D</td>\n      <td>OK</td>\n    </tr>\n    <tr>\n      <th>126</th>\n      <td>4081980</td>\n      <td>2017-05-08</td>\n      <td>23.0</td>\n      <td>20</td>\n      <td>D</td>\n      <td>OK</td>\n    </tr>\n  </tbody>\n</table>\n</div>"
     },
     "execution_count": 133,
     "metadata": {},
     "output_type": "execute_result"
    }
   ],
   "source": [
    "# time window year 1 (y1)\n",
    "start_y1 = datetime.strptime(\"01/01/2017\", \"%d/%m/%Y\")\n",
    "end_y1 = datetime.strptime(\"31/12/2017\", \"%d/%m/%Y\")\n",
    "\n",
    "# subset\n",
    "payments_y1 = payhistory[(payhistory[\"PDATE\"] >= start_y1) & (payhistory[\"PDATE\"] <= end_y1)]\n",
    "\n",
    "# show\n",
    "payments_y1.head()"
   ]
  },
  {
   "cell_type": "code",
   "execution_count": 134,
   "metadata": {},
   "outputs": [
    {
     "data": {
      "text/plain": "   EXTRELNO  active_y1\n0        20          1\n1        35          1\n2        72          1\n3        81          1\n4        89          1",
      "text/html": "<div>\n<style scoped>\n    .dataframe tbody tr th:only-of-type {\n        vertical-align: middle;\n    }\n\n    .dataframe tbody tr th {\n        vertical-align: top;\n    }\n\n    .dataframe thead th {\n        text-align: right;\n    }\n</style>\n<table border=\"1\" class=\"dataframe\">\n  <thead>\n    <tr style=\"text-align: right;\">\n      <th></th>\n      <th>EXTRELNO</th>\n      <th>active_y1</th>\n    </tr>\n  </thead>\n  <tbody>\n    <tr>\n      <th>0</th>\n      <td>20</td>\n      <td>1</td>\n    </tr>\n    <tr>\n      <th>1</th>\n      <td>35</td>\n      <td>1</td>\n    </tr>\n    <tr>\n      <th>2</th>\n      <td>72</td>\n      <td>1</td>\n    </tr>\n    <tr>\n      <th>3</th>\n      <td>81</td>\n      <td>1</td>\n    </tr>\n    <tr>\n      <th>4</th>\n      <td>89</td>\n      <td>1</td>\n    </tr>\n  </tbody>\n</table>\n</div>"
     },
     "execution_count": 134,
     "metadata": {},
     "output_type": "execute_result"
    }
   ],
   "source": [
    "# get unique donors of y1\n",
    "active_y1 = pd.DataFrame(payments_y1['EXTRELNO'].unique())\n",
    "active_y1.columns = ['EXTRELNO']\n",
    "active_y1['active_y1'] = int(1)\n",
    "active_y1.head()\n",
    "# if donors are in this dataset, they are active, if not: inactive ==> merge with df and fill missings as inactives"
   ]
  },
  {
   "cell_type": "code",
   "execution_count": 135,
   "metadata": {},
   "outputs": [],
   "source": [
    "# merge with df\n",
    "merge = pd.merge(df, active_y1, on = 'EXTRELNO', how = 'left')"
   ]
  },
  {
   "cell_type": "code",
   "execution_count": 136,
   "metadata": {},
   "outputs": [
    {
     "data": {
      "text/plain": "    EXTRELNO         CLV   recency  initial_state  active_y1\n0      26414  284.319331  0.035616              1        1.0\n1      26419  284.748068  0.153425              1        1.0\n2      26430  284.319331  0.035616              1        1.0\n3      26431  261.352928  0.556164              1        1.0\n4      26443  260.670873  0.035616              1        1.0\n5      26444  284.319331  0.035616              1        1.0\n6      26446  284.292267  0.115068              1        1.0\n7      26447  284.319331  0.035616              1        1.0\n8      26467  284.319331  0.035616              1        1.0\n9      26470  284.319331  0.035616              1        1.0\n10     26472  285.608164  0.591781              1        1.0\n11     26486  284.319331  0.035616              1        1.0\n12     26489  284.676939  0.063014              1        NaN\n13     26495  284.319331  0.035616              1        1.0\n14     26498  284.319331  0.035616              1        1.0\n15     26501  284.319331  0.035616              1        1.0\n16     26504  284.405709  0.128767              1        1.0\n17     26506  284.642053  0.060274              1        1.0\n18     26518  284.319331  0.035616              1        1.0\n19     26521  284.292267  0.115068              1        1.0",
      "text/html": "<div>\n<style scoped>\n    .dataframe tbody tr th:only-of-type {\n        vertical-align: middle;\n    }\n\n    .dataframe tbody tr th {\n        vertical-align: top;\n    }\n\n    .dataframe thead th {\n        text-align: right;\n    }\n</style>\n<table border=\"1\" class=\"dataframe\">\n  <thead>\n    <tr style=\"text-align: right;\">\n      <th></th>\n      <th>EXTRELNO</th>\n      <th>CLV</th>\n      <th>recency</th>\n      <th>initial_state</th>\n      <th>active_y1</th>\n    </tr>\n  </thead>\n  <tbody>\n    <tr>\n      <th>0</th>\n      <td>26414</td>\n      <td>284.319331</td>\n      <td>0.035616</td>\n      <td>1</td>\n      <td>1.0</td>\n    </tr>\n    <tr>\n      <th>1</th>\n      <td>26419</td>\n      <td>284.748068</td>\n      <td>0.153425</td>\n      <td>1</td>\n      <td>1.0</td>\n    </tr>\n    <tr>\n      <th>2</th>\n      <td>26430</td>\n      <td>284.319331</td>\n      <td>0.035616</td>\n      <td>1</td>\n      <td>1.0</td>\n    </tr>\n    <tr>\n      <th>3</th>\n      <td>26431</td>\n      <td>261.352928</td>\n      <td>0.556164</td>\n      <td>1</td>\n      <td>1.0</td>\n    </tr>\n    <tr>\n      <th>4</th>\n      <td>26443</td>\n      <td>260.670873</td>\n      <td>0.035616</td>\n      <td>1</td>\n      <td>1.0</td>\n    </tr>\n    <tr>\n      <th>5</th>\n      <td>26444</td>\n      <td>284.319331</td>\n      <td>0.035616</td>\n      <td>1</td>\n      <td>1.0</td>\n    </tr>\n    <tr>\n      <th>6</th>\n      <td>26446</td>\n      <td>284.292267</td>\n      <td>0.115068</td>\n      <td>1</td>\n      <td>1.0</td>\n    </tr>\n    <tr>\n      <th>7</th>\n      <td>26447</td>\n      <td>284.319331</td>\n      <td>0.035616</td>\n      <td>1</td>\n      <td>1.0</td>\n    </tr>\n    <tr>\n      <th>8</th>\n      <td>26467</td>\n      <td>284.319331</td>\n      <td>0.035616</td>\n      <td>1</td>\n      <td>1.0</td>\n    </tr>\n    <tr>\n      <th>9</th>\n      <td>26470</td>\n      <td>284.319331</td>\n      <td>0.035616</td>\n      <td>1</td>\n      <td>1.0</td>\n    </tr>\n    <tr>\n      <th>10</th>\n      <td>26472</td>\n      <td>285.608164</td>\n      <td>0.591781</td>\n      <td>1</td>\n      <td>1.0</td>\n    </tr>\n    <tr>\n      <th>11</th>\n      <td>26486</td>\n      <td>284.319331</td>\n      <td>0.035616</td>\n      <td>1</td>\n      <td>1.0</td>\n    </tr>\n    <tr>\n      <th>12</th>\n      <td>26489</td>\n      <td>284.676939</td>\n      <td>0.063014</td>\n      <td>1</td>\n      <td>NaN</td>\n    </tr>\n    <tr>\n      <th>13</th>\n      <td>26495</td>\n      <td>284.319331</td>\n      <td>0.035616</td>\n      <td>1</td>\n      <td>1.0</td>\n    </tr>\n    <tr>\n      <th>14</th>\n      <td>26498</td>\n      <td>284.319331</td>\n      <td>0.035616</td>\n      <td>1</td>\n      <td>1.0</td>\n    </tr>\n    <tr>\n      <th>15</th>\n      <td>26501</td>\n      <td>284.319331</td>\n      <td>0.035616</td>\n      <td>1</td>\n      <td>1.0</td>\n    </tr>\n    <tr>\n      <th>16</th>\n      <td>26504</td>\n      <td>284.405709</td>\n      <td>0.128767</td>\n      <td>1</td>\n      <td>1.0</td>\n    </tr>\n    <tr>\n      <th>17</th>\n      <td>26506</td>\n      <td>284.642053</td>\n      <td>0.060274</td>\n      <td>1</td>\n      <td>1.0</td>\n    </tr>\n    <tr>\n      <th>18</th>\n      <td>26518</td>\n      <td>284.319331</td>\n      <td>0.035616</td>\n      <td>1</td>\n      <td>1.0</td>\n    </tr>\n    <tr>\n      <th>19</th>\n      <td>26521</td>\n      <td>284.292267</td>\n      <td>0.115068</td>\n      <td>1</td>\n      <td>1.0</td>\n    </tr>\n  </tbody>\n</table>\n</div>"
     },
     "execution_count": 136,
     "metadata": {},
     "output_type": "execute_result"
    }
   ],
   "source": [
    "# show\n",
    "merge.head(20)"
   ]
  },
  {
   "cell_type": "code",
   "execution_count": 137,
   "metadata": {},
   "outputs": [],
   "source": [
    "# impute missing values\n",
    "merge['active_y1'] = np.where(merge['active_y1'].isnull(), 0, 1)"
   ]
  },
  {
   "cell_type": "code",
   "execution_count": 138,
   "metadata": {},
   "outputs": [
    {
     "data": {
      "text/plain": "    EXTRELNO         CLV   recency  initial_state  active_y1\n0      26414  284.319331  0.035616              1          1\n1      26419  284.748068  0.153425              1          1\n2      26430  284.319331  0.035616              1          1\n3      26431  261.352928  0.556164              1          1\n4      26443  260.670873  0.035616              1          1\n5      26444  284.319331  0.035616              1          1\n6      26446  284.292267  0.115068              1          1\n7      26447  284.319331  0.035616              1          1\n8      26467  284.319331  0.035616              1          1\n9      26470  284.319331  0.035616              1          1\n10     26472  285.608164  0.591781              1          1\n11     26486  284.319331  0.035616              1          1\n12     26489  284.676939  0.063014              1          0\n13     26495  284.319331  0.035616              1          1\n14     26498  284.319331  0.035616              1          1\n15     26501  284.319331  0.035616              1          1\n16     26504  284.405709  0.128767              1          1\n17     26506  284.642053  0.060274              1          1\n18     26518  284.319331  0.035616              1          1\n19     26521  284.292267  0.115068              1          1",
      "text/html": "<div>\n<style scoped>\n    .dataframe tbody tr th:only-of-type {\n        vertical-align: middle;\n    }\n\n    .dataframe tbody tr th {\n        vertical-align: top;\n    }\n\n    .dataframe thead th {\n        text-align: right;\n    }\n</style>\n<table border=\"1\" class=\"dataframe\">\n  <thead>\n    <tr style=\"text-align: right;\">\n      <th></th>\n      <th>EXTRELNO</th>\n      <th>CLV</th>\n      <th>recency</th>\n      <th>initial_state</th>\n      <th>active_y1</th>\n    </tr>\n  </thead>\n  <tbody>\n    <tr>\n      <th>0</th>\n      <td>26414</td>\n      <td>284.319331</td>\n      <td>0.035616</td>\n      <td>1</td>\n      <td>1</td>\n    </tr>\n    <tr>\n      <th>1</th>\n      <td>26419</td>\n      <td>284.748068</td>\n      <td>0.153425</td>\n      <td>1</td>\n      <td>1</td>\n    </tr>\n    <tr>\n      <th>2</th>\n      <td>26430</td>\n      <td>284.319331</td>\n      <td>0.035616</td>\n      <td>1</td>\n      <td>1</td>\n    </tr>\n    <tr>\n      <th>3</th>\n      <td>26431</td>\n      <td>261.352928</td>\n      <td>0.556164</td>\n      <td>1</td>\n      <td>1</td>\n    </tr>\n    <tr>\n      <th>4</th>\n      <td>26443</td>\n      <td>260.670873</td>\n      <td>0.035616</td>\n      <td>1</td>\n      <td>1</td>\n    </tr>\n    <tr>\n      <th>5</th>\n      <td>26444</td>\n      <td>284.319331</td>\n      <td>0.035616</td>\n      <td>1</td>\n      <td>1</td>\n    </tr>\n    <tr>\n      <th>6</th>\n      <td>26446</td>\n      <td>284.292267</td>\n      <td>0.115068</td>\n      <td>1</td>\n      <td>1</td>\n    </tr>\n    <tr>\n      <th>7</th>\n      <td>26447</td>\n      <td>284.319331</td>\n      <td>0.035616</td>\n      <td>1</td>\n      <td>1</td>\n    </tr>\n    <tr>\n      <th>8</th>\n      <td>26467</td>\n      <td>284.319331</td>\n      <td>0.035616</td>\n      <td>1</td>\n      <td>1</td>\n    </tr>\n    <tr>\n      <th>9</th>\n      <td>26470</td>\n      <td>284.319331</td>\n      <td>0.035616</td>\n      <td>1</td>\n      <td>1</td>\n    </tr>\n    <tr>\n      <th>10</th>\n      <td>26472</td>\n      <td>285.608164</td>\n      <td>0.591781</td>\n      <td>1</td>\n      <td>1</td>\n    </tr>\n    <tr>\n      <th>11</th>\n      <td>26486</td>\n      <td>284.319331</td>\n      <td>0.035616</td>\n      <td>1</td>\n      <td>1</td>\n    </tr>\n    <tr>\n      <th>12</th>\n      <td>26489</td>\n      <td>284.676939</td>\n      <td>0.063014</td>\n      <td>1</td>\n      <td>0</td>\n    </tr>\n    <tr>\n      <th>13</th>\n      <td>26495</td>\n      <td>284.319331</td>\n      <td>0.035616</td>\n      <td>1</td>\n      <td>1</td>\n    </tr>\n    <tr>\n      <th>14</th>\n      <td>26498</td>\n      <td>284.319331</td>\n      <td>0.035616</td>\n      <td>1</td>\n      <td>1</td>\n    </tr>\n    <tr>\n      <th>15</th>\n      <td>26501</td>\n      <td>284.319331</td>\n      <td>0.035616</td>\n      <td>1</td>\n      <td>1</td>\n    </tr>\n    <tr>\n      <th>16</th>\n      <td>26504</td>\n      <td>284.405709</td>\n      <td>0.128767</td>\n      <td>1</td>\n      <td>1</td>\n    </tr>\n    <tr>\n      <th>17</th>\n      <td>26506</td>\n      <td>284.642053</td>\n      <td>0.060274</td>\n      <td>1</td>\n      <td>1</td>\n    </tr>\n    <tr>\n      <th>18</th>\n      <td>26518</td>\n      <td>284.319331</td>\n      <td>0.035616</td>\n      <td>1</td>\n      <td>1</td>\n    </tr>\n    <tr>\n      <th>19</th>\n      <td>26521</td>\n      <td>284.292267</td>\n      <td>0.115068</td>\n      <td>1</td>\n      <td>1</td>\n    </tr>\n  </tbody>\n</table>\n</div>"
     },
     "execution_count": 138,
     "metadata": {},
     "output_type": "execute_result"
    }
   ],
   "source": [
    "# show\n",
    "merge.head(20)"
   ]
  },
  {
   "cell_type": "markdown",
   "metadata": {},
   "source": [
    "We are now able to **calculate the transition matrix** (``P``). However, we will do this **solely on a training set** and **evaluate** against a test set."
   ]
  },
  {
   "cell_type": "code",
   "execution_count": 139,
   "metadata": {},
   "outputs": [],
   "source": [
    "# split into training and test set (70/30)\n",
    "train, test = train_test_split(merge, test_size=0.3, random_state=33)"
   ]
  },
  {
   "cell_type": "code",
   "execution_count": 140,
   "metadata": {},
   "outputs": [
    {
     "data": {
      "text/plain": "active_y1             0         1\ninitial_state                    \n0              0.967949  0.032051\n1              0.025135  0.974865",
      "text/html": "<div>\n<style scoped>\n    .dataframe tbody tr th:only-of-type {\n        vertical-align: middle;\n    }\n\n    .dataframe tbody tr th {\n        vertical-align: top;\n    }\n\n    .dataframe thead th {\n        text-align: right;\n    }\n</style>\n<table border=\"1\" class=\"dataframe\">\n  <thead>\n    <tr style=\"text-align: right;\">\n      <th>active_y1</th>\n      <th>0</th>\n      <th>1</th>\n    </tr>\n    <tr>\n      <th>initial_state</th>\n      <th></th>\n      <th></th>\n    </tr>\n  </thead>\n  <tbody>\n    <tr>\n      <th>0</th>\n      <td>0.967949</td>\n      <td>0.032051</td>\n    </tr>\n    <tr>\n      <th>1</th>\n      <td>0.025135</td>\n      <td>0.974865</td>\n    </tr>\n  </tbody>\n</table>\n</div>"
     },
     "execution_count": 140,
     "metadata": {},
     "output_type": "execute_result"
    }
   ],
   "source": [
    "# check transition probabilities\n",
    "P = pd.crosstab(train[\"initial_state\"], train[\"active_y1\"], normalize=\"index\")\n",
    "P"
   ]
  },
  {
   "cell_type": "markdown",
   "metadata": {},
   "source": [
    "## 4. Deployment & Evaluation"
   ]
  },
  {
   "cell_type": "markdown",
   "metadata": {},
   "source": [
    "## 4.1. Estimation"
   ]
  },
  {
   "cell_type": "markdown",
   "metadata": {},
   "source": [
    "We will now **deploy this matrix on our test** set to get the predicted value of our customers during the next 3 years. Which we will **compare** against the actual spending of our test sample. To do so, you have to **compute** ``n`` and ``v`` of the test set, which should be easy for you with the code above. Hint: you can use the information which is already available in the test dataframe."
   ]
  },
  {
   "cell_type": "code",
   "execution_count": 146,
   "metadata": {},
   "outputs": [],
   "source": [
    "# compute n_test\n",
    "n_test = test['initial_state'].value_counts()\n"
   ]
  },
  {
   "cell_type": "code",
   "execution_count": 147,
   "metadata": {},
   "outputs": [],
   "source": [
    "# compute v_test\n",
    "v_test = test.groupby('initial_state')['CLV'].mean()\n"
   ]
  },
  {
   "cell_type": "markdown",
   "metadata": {},
   "source": [
    "Now compute the **estimated CLV** according to the formula:"
   ]
  },
  {
   "cell_type": "code",
   "execution_count": 143,
   "metadata": {},
   "outputs": [
    {
     "data": {
      "text/plain": "<latexify.frontend.LatexifiedFunction at 0x22eb26b72b0>",
      "text/latex": "$$ \\displaystyle \\mathrm{CLV}(n, P, v, r) = \\frac{n P v}{{1} + r} + \\frac{n P P v}{\\left( {1} + r \\right)^{{2}}} + \\frac{n P P P v}{\\left( {1} + r \\right)^{{3}}} $$"
     },
     "execution_count": 143,
     "metadata": {},
     "output_type": "execute_result"
    }
   ],
   "source": [
    "@latexify.with_latex\n",
    "def CLV(n, P, v, r):\n",
    "    return((n * P * v / (1+r)) + (n * P * P * v / (1+r)**2) + (n * P * P * P * v / (1+r)**3))\n",
    "CLV"
   ]
  },
  {
   "cell_type": "code",
   "execution_count": 149,
   "metadata": {},
   "outputs": [
    {
     "data": {
      "text/plain": "                 0             1\ninitial_state                   \n0              0.0  1.790690e+04\n1              0.0  1.473473e+06",
      "text/html": "<div>\n<style scoped>\n    .dataframe tbody tr th:only-of-type {\n        vertical-align: middle;\n    }\n\n    .dataframe tbody tr th {\n        vertical-align: top;\n    }\n\n    .dataframe thead th {\n        text-align: right;\n    }\n</style>\n<table border=\"1\" class=\"dataframe\">\n  <thead>\n    <tr style=\"text-align: right;\">\n      <th></th>\n      <th>0</th>\n      <th>1</th>\n    </tr>\n    <tr>\n      <th>initial_state</th>\n      <th></th>\n      <th></th>\n    </tr>\n  </thead>\n  <tbody>\n    <tr>\n      <th>0</th>\n      <td>0.0</td>\n      <td>1.790690e+04</td>\n    </tr>\n    <tr>\n      <th>1</th>\n      <td>0.0</td>\n      <td>1.473473e+06</td>\n    </tr>\n  </tbody>\n</table>\n</div>"
     },
     "execution_count": 149,
     "metadata": {},
     "output_type": "execute_result"
    }
   ],
   "source": [
    "# Write your code here\n",
    "CLV(n_test, P, v_test, DISCOUNT_RATE)\n"
   ]
  },
  {
   "cell_type": "markdown",
   "metadata": {},
   "source": [
    "## 4.2. Evaluation"
   ]
  },
  {
   "cell_type": "markdown",
   "metadata": {},
   "source": [
    "Now compute the **actual (discounted) spending** of the test set and **compare** the two.\n",
    "\n",
    "Exercise:\n",
    "\n",
    "1. Create a **new dataframe** (called *test_donors*) with all the unique donors from the **test set** and apply our **time window** on it.\n",
    "2. **Discount** every transactions accordingly and **calculate** the total CLV per donor and merge with *test_donors*.\n",
    "3. **Impute** missing values with 0.\n",
    "4. Calculate the **total CLV** of all customers together.\n",
    "5. **Compare** estimations with true values."
   ]
  },
  {
   "cell_type": "code",
   "execution_count": 150,
   "metadata": {},
   "outputs": [
    {
     "data": {
      "text/plain": "array([193017, 174534,  27259, ..., 224771, 221225,  30998], dtype=int64)"
     },
     "execution_count": 150,
     "metadata": {},
     "output_type": "execute_result"
    }
   ],
   "source": [
    "# Write your code here\n",
    "test_donors = test[\"EXTRELNO\"].unique()\n",
    "test_donors\n"
   ]
  }
 ],
 "metadata": {
  "kernelspec": {
   "display_name": "Python 3 (ipykernel)",
   "language": "python",
   "name": "python3"
  },
  "language_info": {
   "codemirror_mode": {
    "name": "ipython",
    "version": 3
   },
   "file_extension": ".py",
   "mimetype": "text/x-python",
   "name": "python",
   "nbconvert_exporter": "python",
   "pygments_lexer": "ipython3",
   "version": "3.9.13"
  }
 },
 "nbformat": 4,
 "nbformat_minor": 2
}
