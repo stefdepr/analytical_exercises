{
 "cells": [
  {
   "cell_type": "markdown",
   "metadata": {},
   "source": [
    "# CLV Data Mining"
   ]
  },
  {
   "cell_type": "code",
   "execution_count": 1,
   "metadata": {},
   "outputs": [],
   "source": [
    "# import the required packages\n",
    "import pandas as pd \n",
    "import numpy as np\n",
    "\n",
    "import matplotlib.pyplot as plt\n",
    "import seaborn as sns\n",
    "\n",
    "from sklearn.preprocessing import LabelEncoder, MinMaxScaler\n",
    "from sklearn.model_selection import train_test_split\n",
    "from sklearn.linear_model import LogisticRegression, LinearRegression\n",
    "from sklearn.metrics import mean_absolute_error, mean_squared_error\n",
    "\n",
    "from datetime import datetime"
   ]
  },
  {
   "cell_type": "markdown",
   "metadata": {},
   "source": [
    "So far the **migration modeling**. Time to get back to our **data mining** methodology. \n",
    "\n",
    "We now know what we should do: model CLV during 2004-2006.\n",
    "\n",
    "We are going to create a **predictive model** with the same independent variables as in the **churn case**.\n",
    "\n",
    "The difference this time is our **dependent variable**: ``CLV``. \n",
    "We will give you the code to create the independent features, since you already learned how to model them during the churn case.\n",
    "\n",
    "**Two models** will be created:  \n",
    "- A classification churn model  \n",
    "- A regression clv model\n",
    "\n",
    "Because if we would simply regress CLV, our model would be **biased** towards those zeros, leading to a consistent underestimation.\n",
    "\n",
    "We are going to **predict CLV if customers did not churn**.\n",
    "\n",
    "(See theory)"
   ]
  },
  {
   "cell_type": "markdown",
   "metadata": {},
   "source": [
    "# 1. Data Exploration"
   ]
  },
  {
   "cell_type": "code",
   "execution_count": 2,
   "metadata": {},
   "outputs": [],
   "source": [
    "# import all the datasets\n",
    "extrel = pd.read_csv(\"./data/extrel.csv\")\n",
    "extrelty = pd.read_csv(\"./data/extrelty.csv\")\n",
    "communication = pd.read_csv(\"./data/communication.csv\")\n",
    "payhistory = pd.read_csv(\"./data/payhistory.csv\")\n",
    "nameaddr = pd.read_csv(\"./data/nameaddr.csv\")\n",
    "comclas = pd.read_csv(\"./data/comclas.csv\")\n",
    "commediu = pd.read_csv(\"./data/commediu.csv\")"
   ]
  },
  {
   "cell_type": "code",
   "execution_count": 3,
   "metadata": {
    "scrolled": true
   },
   "outputs": [
    {
     "data": {
      "text/html": [
       "<div>\n",
       "<style scoped>\n",
       "    .dataframe tbody tr th:only-of-type {\n",
       "        vertical-align: middle;\n",
       "    }\n",
       "\n",
       "    .dataframe tbody tr th {\n",
       "        vertical-align: top;\n",
       "    }\n",
       "\n",
       "    .dataframe thead th {\n",
       "        text-align: right;\n",
       "    }\n",
       "</style>\n",
       "<table border=\"1\" class=\"dataframe\">\n",
       "  <thead>\n",
       "    <tr style=\"text-align: right;\">\n",
       "      <th></th>\n",
       "      <th>EXTRELNO</th>\n",
       "      <th>EXRELACTCD</th>\n",
       "      <th>EXTRELSTDT</th>\n",
       "      <th>EXRELDATEN</th>\n",
       "    </tr>\n",
       "  </thead>\n",
       "  <tbody>\n",
       "    <tr>\n",
       "      <th>0</th>\n",
       "      <td>26414</td>\n",
       "      <td>CT</td>\n",
       "      <td>2008-01-30</td>\n",
       "      <td>NaT</td>\n",
       "    </tr>\n",
       "    <tr>\n",
       "      <th>1</th>\n",
       "      <td>26419</td>\n",
       "      <td>FP</td>\n",
       "      <td>2005-02-26</td>\n",
       "      <td>NaT</td>\n",
       "    </tr>\n",
       "    <tr>\n",
       "      <th>2</th>\n",
       "      <td>26424</td>\n",
       "      <td>FP</td>\n",
       "      <td>2005-02-26</td>\n",
       "      <td>2009-12-21</td>\n",
       "    </tr>\n",
       "    <tr>\n",
       "      <th>3</th>\n",
       "      <td>26430</td>\n",
       "      <td>FP</td>\n",
       "      <td>2005-02-26</td>\n",
       "      <td>2019-01-28</td>\n",
       "    </tr>\n",
       "    <tr>\n",
       "      <th>4</th>\n",
       "      <td>26430</td>\n",
       "      <td>CT</td>\n",
       "      <td>2010-03-04</td>\n",
       "      <td>NaT</td>\n",
       "    </tr>\n",
       "  </tbody>\n",
       "</table>\n",
       "</div>"
      ],
      "text/plain": [
       "   EXTRELNO EXRELACTCD  EXTRELSTDT  EXRELDATEN\n",
       "0     26414         CT  2008-01-30         NaT\n",
       "1     26419         FP  2005-02-26         NaT\n",
       "2     26424         FP  2005-02-26  2009-12-21\n",
       "3     26430         FP  2005-02-26  2019-01-28\n",
       "4     26430         CT  2010-03-04         NaT"
      ]
     },
     "execution_count": 3,
     "metadata": {},
     "output_type": "execute_result"
    }
   ],
   "source": [
    "# inspect first observation extrel\n",
    "extrel.head()"
   ]
  },
  {
   "cell_type": "code",
   "execution_count": 4,
   "metadata": {
    "scrolled": false
   },
   "outputs": [
    {
     "data": {
      "text/plain": [
       "EXTRELNO       int64\n",
       "EXRELACTCD    object\n",
       "EXTRELSTDT    object\n",
       "EXRELDATEN    object\n",
       "dtype: object"
      ]
     },
     "execution_count": 4,
     "metadata": {},
     "output_type": "execute_result"
    }
   ],
   "source": [
    "# inspect dtypes of columns\n",
    "extrel.dtypes"
   ]
  },
  {
   "cell_type": "code",
   "execution_count": 5,
   "metadata": {},
   "outputs": [
    {
     "data": {
      "text/plain": [
       "(26689, 4)"
      ]
     },
     "execution_count": 5,
     "metadata": {},
     "output_type": "execute_result"
    }
   ],
   "source": [
    "# inspect shape\n",
    "extrel.shape"
   ]
  },
  {
   "cell_type": "code",
   "execution_count": 6,
   "metadata": {},
   "outputs": [
    {
     "data": {
      "text/html": [
       "<div>\n",
       "<style scoped>\n",
       "    .dataframe tbody tr th:only-of-type {\n",
       "        vertical-align: middle;\n",
       "    }\n",
       "\n",
       "    .dataframe tbody tr th {\n",
       "        vertical-align: top;\n",
       "    }\n",
       "\n",
       "    .dataframe thead th {\n",
       "        text-align: right;\n",
       "    }\n",
       "</style>\n",
       "<table border=\"1\" class=\"dataframe\">\n",
       "  <thead>\n",
       "    <tr style=\"text-align: right;\">\n",
       "      <th></th>\n",
       "      <th>PID</th>\n",
       "      <th>PDATE</th>\n",
       "      <th>PAMT</th>\n",
       "      <th>EXTRELNO</th>\n",
       "      <th>PAYTYPECD</th>\n",
       "      <th>STATUS</th>\n",
       "    </tr>\n",
       "  </thead>\n",
       "  <tbody>\n",
       "    <tr>\n",
       "      <th>0</th>\n",
       "      <td>38</td>\n",
       "      <td>2006-12-28</td>\n",
       "      <td>9.57</td>\n",
       "      <td>19</td>\n",
       "      <td>X</td>\n",
       "      <td>CO</td>\n",
       "    </tr>\n",
       "    <tr>\n",
       "      <th>1</th>\n",
       "      <td>39</td>\n",
       "      <td>2006-12-28</td>\n",
       "      <td>41.32</td>\n",
       "      <td>20</td>\n",
       "      <td>X</td>\n",
       "      <td>CO</td>\n",
       "    </tr>\n",
       "    <tr>\n",
       "      <th>2</th>\n",
       "      <td>40</td>\n",
       "      <td>2006-12-28</td>\n",
       "      <td>13.10</td>\n",
       "      <td>20</td>\n",
       "      <td>X</td>\n",
       "      <td>CO</td>\n",
       "    </tr>\n",
       "    <tr>\n",
       "      <th>3</th>\n",
       "      <td>54091</td>\n",
       "      <td>2006-12-29</td>\n",
       "      <td>2.02</td>\n",
       "      <td>20</td>\n",
       "      <td>X</td>\n",
       "      <td>CO</td>\n",
       "    </tr>\n",
       "    <tr>\n",
       "      <th>4</th>\n",
       "      <td>104480</td>\n",
       "      <td>2007-05-16</td>\n",
       "      <td>0.50</td>\n",
       "      <td>20</td>\n",
       "      <td>D</td>\n",
       "      <td>OK</td>\n",
       "    </tr>\n",
       "  </tbody>\n",
       "</table>\n",
       "</div>"
      ],
      "text/plain": [
       "      PID       PDATE   PAMT  EXTRELNO PAYTYPECD STATUS\n",
       "0      38  2006-12-28   9.57        19         X     CO\n",
       "1      39  2006-12-28  41.32        20         X     CO\n",
       "2      40  2006-12-28  13.10        20         X     CO\n",
       "3   54091  2006-12-29   2.02        20         X     CO\n",
       "4  104480  2007-05-16   0.50        20         D     OK"
      ]
     },
     "execution_count": 6,
     "metadata": {},
     "output_type": "execute_result"
    }
   ],
   "source": [
    "# inspect payhistory\n",
    "payhistory.head()"
   ]
  },
  {
   "cell_type": "code",
   "execution_count": 7,
   "metadata": {},
   "outputs": [
    {
     "data": {
      "text/plain": [
       "(1205720, 6)"
      ]
     },
     "execution_count": 7,
     "metadata": {},
     "output_type": "execute_result"
    }
   ],
   "source": [
    "# inspect shape\n",
    "payhistory.shape"
   ]
  },
  {
   "cell_type": "markdown",
   "metadata": {},
   "source": [
    "## 2. Time Window"
   ]
  },
  {
   "cell_type": "code",
   "execution_count": 8,
   "metadata": {},
   "outputs": [],
   "source": [
    "# define the model building time window\n",
    "end_independent = datetime.strptime(\"22/11/2016\", \"%d/%m/%Y\")\n",
    "start_dependent = datetime.strptime(\"01/01/2017\", \"%d/%m/%Y\")\n",
    "end_dependent = datetime.strptime(\"31/12/2019\", \"%d/%m/%Y\")"
   ]
  },
  {
   "cell_type": "markdown",
   "metadata": {},
   "source": [
    "# 3. Data Preparation"
   ]
  },
  {
   "cell_type": "markdown",
   "metadata": {},
   "source": [
    "## 3.1. Customers"
   ]
  },
  {
   "cell_type": "markdown",
   "metadata": {},
   "source": [
    "We need to take a relevant subset of modelable customers just as we did in the churn case. Therefore we have to make **some constraints** in this CLV-case:\n",
    "\n",
    "1. The donors have to be **active during the independent period**: they needed to start their relationship with the company before the end of the independent period.\n",
    "2. We are **not interested** in donors that ended their relation before the start of the dependent.\n",
    "3. Extra condition in comparison to churn case : take only the donors that **made already a transaction by the end of the independent period**."
   ]
  },
  {
   "cell_type": "code",
   "execution_count": 9,
   "metadata": {},
   "outputs": [],
   "source": [
    "# convert start date EXTRELSTDT and end date EXRELDATEN to datetimes\n",
    "extrel[\"EXTRELSTDT\"] = pd.to_datetime(extrel[\"EXTRELSTDT\"], format='%Y-%m-%d')\n",
    "extrel[\"EXRELDATEN\"] = pd.to_datetime(extrel[\"EXRELDATEN\"], format='%Y-%m-%d')"
   ]
  },
  {
   "cell_type": "code",
   "execution_count": 10,
   "metadata": {},
   "outputs": [],
   "source": [
    "# extract the active donors\n",
    "active_customers = extrel[(extrel[\"EXTRELSTDT\"] <= end_independent) & \n",
    "                        ((extrel[\"EXRELDATEN\"] > start_dependent) | (extrel[\"EXRELDATEN\"].isnull()))]"
   ]
  },
  {
   "cell_type": "code",
   "execution_count": 11,
   "metadata": {},
   "outputs": [],
   "source": [
    "# get unique customers\n",
    "active_customers = active_customers[\"EXTRELNO\"].unique()\n",
    "# convert to DataFrame \n",
    "active_customers = pd.DataFrame(active_customers)\n",
    "# rename column\n",
    "active_customers.columns = [\"EXTRELNO\"]\n",
    "# sort by EXTRELNO \n",
    "active_customers = active_customers.sort_values(by=[\"EXTRELNO\"])"
   ]
  },
  {
   "cell_type": "code",
   "execution_count": 12,
   "metadata": {},
   "outputs": [],
   "source": [
    "# convert payhistory PDATE to datetime\n",
    "payhistory[\"PDATE\"] = pd.to_datetime(payhistory[\"PDATE\"], format='%Y-%m-%d')"
   ]
  },
  {
   "cell_type": "code",
   "execution_count": 13,
   "metadata": {},
   "outputs": [],
   "source": [
    "# extract only those transactions which were made before the end of the independent period\n",
    "payhistory_ind = payhistory[payhistory[\"PDATE\"] <= end_independent]\n",
    "# extract only observations with positive transactions\n",
    "payhistory_ind = payhistory_ind[payhistory_ind[\"PAMT\"] > 0]"
   ]
  },
  {
   "cell_type": "code",
   "execution_count": 14,
   "metadata": {},
   "outputs": [],
   "source": [
    "# sort data by extrelno and pdate\n",
    "payhistory_ind = payhistory_ind.sort_values(by=[\"EXTRELNO\", \"PDATE\"])"
   ]
  },
  {
   "cell_type": "code",
   "execution_count": 15,
   "metadata": {},
   "outputs": [],
   "source": [
    "# get unique set of customers with transactions during the independent period\n",
    "transaction_customers = payhistory_ind[\"EXTRELNO\"].unique()\n",
    "# convert to DataFrame\n",
    "transaction_customers = pd.DataFrame(transaction_customers)\n",
    "# rename column\n",
    "transaction_customers.columns = [\"EXTRELNO\"]"
   ]
  },
  {
   "cell_type": "code",
   "execution_count": 16,
   "metadata": {},
   "outputs": [],
   "source": [
    "# merge both tables to get active customers that made transaction during independent period\n",
    "customers = pd.merge(active_customers, transaction_customers, on=\"EXTRELNO\", how=\"inner\")"
   ]
  },
  {
   "cell_type": "code",
   "execution_count": 17,
   "metadata": {
    "scrolled": true
   },
   "outputs": [
    {
     "data": {
      "text/html": [
       "<div>\n",
       "<style scoped>\n",
       "    .dataframe tbody tr th:only-of-type {\n",
       "        vertical-align: middle;\n",
       "    }\n",
       "\n",
       "    .dataframe tbody tr th {\n",
       "        vertical-align: top;\n",
       "    }\n",
       "\n",
       "    .dataframe thead th {\n",
       "        text-align: right;\n",
       "    }\n",
       "</style>\n",
       "<table border=\"1\" class=\"dataframe\">\n",
       "  <thead>\n",
       "    <tr style=\"text-align: right;\">\n",
       "      <th></th>\n",
       "      <th>EXTRELNO</th>\n",
       "    </tr>\n",
       "  </thead>\n",
       "  <tbody>\n",
       "    <tr>\n",
       "      <th>0</th>\n",
       "      <td>26414</td>\n",
       "    </tr>\n",
       "    <tr>\n",
       "      <th>1</th>\n",
       "      <td>26419</td>\n",
       "    </tr>\n",
       "    <tr>\n",
       "      <th>2</th>\n",
       "      <td>26430</td>\n",
       "    </tr>\n",
       "    <tr>\n",
       "      <th>3</th>\n",
       "      <td>26431</td>\n",
       "    </tr>\n",
       "    <tr>\n",
       "      <th>4</th>\n",
       "      <td>26443</td>\n",
       "    </tr>\n",
       "  </tbody>\n",
       "</table>\n",
       "</div>"
      ],
      "text/plain": [
       "   EXTRELNO\n",
       "0     26414\n",
       "1     26419\n",
       "2     26430\n",
       "3     26431\n",
       "4     26443"
      ]
     },
     "execution_count": 17,
     "metadata": {},
     "output_type": "execute_result"
    }
   ],
   "source": [
    "# check\n",
    "customers.head()"
   ]
  },
  {
   "cell_type": "markdown",
   "metadata": {},
   "source": [
    "## 3.2. Independent Variables"
   ]
  },
  {
   "cell_type": "markdown",
   "metadata": {},
   "source": [
    "### 3.2.1. Independent information"
   ]
  },
  {
   "cell_type": "markdown",
   "metadata": {},
   "source": [
    "For creating the **independent variables** such as *recency*, *frequency*, *monetary value*, etc. we first need to make sure that we will only use information during the **independent period**."
   ]
  },
  {
   "cell_type": "code",
   "execution_count": 18,
   "metadata": {},
   "outputs": [
    {
     "data": {
      "text/html": [
       "<div>\n",
       "<style scoped>\n",
       "    .dataframe tbody tr th:only-of-type {\n",
       "        vertical-align: middle;\n",
       "    }\n",
       "\n",
       "    .dataframe tbody tr th {\n",
       "        vertical-align: top;\n",
       "    }\n",
       "\n",
       "    .dataframe thead th {\n",
       "        text-align: right;\n",
       "    }\n",
       "</style>\n",
       "<table border=\"1\" class=\"dataframe\">\n",
       "  <thead>\n",
       "    <tr style=\"text-align: right;\">\n",
       "      <th></th>\n",
       "      <th>PID</th>\n",
       "      <th>PDATE</th>\n",
       "      <th>PAMT</th>\n",
       "      <th>EXTRELNO</th>\n",
       "      <th>PAYTYPECD</th>\n",
       "      <th>STATUS</th>\n",
       "    </tr>\n",
       "  </thead>\n",
       "  <tbody>\n",
       "    <tr>\n",
       "      <th>0</th>\n",
       "      <td>38</td>\n",
       "      <td>2006-12-28</td>\n",
       "      <td>9.57</td>\n",
       "      <td>19</td>\n",
       "      <td>X</td>\n",
       "      <td>CO</td>\n",
       "    </tr>\n",
       "    <tr>\n",
       "      <th>1</th>\n",
       "      <td>39</td>\n",
       "      <td>2006-12-28</td>\n",
       "      <td>41.32</td>\n",
       "      <td>20</td>\n",
       "      <td>X</td>\n",
       "      <td>CO</td>\n",
       "    </tr>\n",
       "    <tr>\n",
       "      <th>2</th>\n",
       "      <td>40</td>\n",
       "      <td>2006-12-28</td>\n",
       "      <td>13.10</td>\n",
       "      <td>20</td>\n",
       "      <td>X</td>\n",
       "      <td>CO</td>\n",
       "    </tr>\n",
       "    <tr>\n",
       "      <th>3</th>\n",
       "      <td>54091</td>\n",
       "      <td>2006-12-29</td>\n",
       "      <td>2.02</td>\n",
       "      <td>20</td>\n",
       "      <td>X</td>\n",
       "      <td>CO</td>\n",
       "    </tr>\n",
       "    <tr>\n",
       "      <th>4</th>\n",
       "      <td>104480</td>\n",
       "      <td>2007-05-16</td>\n",
       "      <td>0.50</td>\n",
       "      <td>20</td>\n",
       "      <td>D</td>\n",
       "      <td>OK</td>\n",
       "    </tr>\n",
       "  </tbody>\n",
       "</table>\n",
       "</div>"
      ],
      "text/plain": [
       "      PID      PDATE   PAMT  EXTRELNO PAYTYPECD STATUS\n",
       "0      38 2006-12-28   9.57        19         X     CO\n",
       "1      39 2006-12-28  41.32        20         X     CO\n",
       "2      40 2006-12-28  13.10        20         X     CO\n",
       "3   54091 2006-12-29   2.02        20         X     CO\n",
       "4  104480 2007-05-16   0.50        20         D     OK"
      ]
     },
     "execution_count": 18,
     "metadata": {},
     "output_type": "execute_result"
    }
   ],
   "source": [
    "# the payhistory from independent period was already calculated in previous step\n",
    "payhistory_ind.head()"
   ]
  },
  {
   "cell_type": "code",
   "execution_count": 19,
   "metadata": {},
   "outputs": [],
   "source": [
    "# convert communication CONTDATE to datetime\n",
    "communication[\"CONTDATE\"] = pd.to_datetime(communication[\"CONTDATE\"], format='%Y-%m-%d')"
   ]
  },
  {
   "cell_type": "code",
   "execution_count": 20,
   "metadata": {},
   "outputs": [],
   "source": [
    "# extract only those transactions which were made before the end of the independent period\n",
    "communication_ind = communication[communication[\"CONTDATE\"] <= end_independent]"
   ]
  },
  {
   "cell_type": "code",
   "execution_count": 21,
   "metadata": {},
   "outputs": [],
   "source": [
    "# sort transactions by EXTRELNO and CONTDATE\n",
    "communication_ind = communication_ind.sort_values(by=[\"EXTRELNO\", \"CONTDATE\"])"
   ]
  },
  {
   "cell_type": "code",
   "execution_count": 22,
   "metadata": {
    "scrolled": true
   },
   "outputs": [
    {
     "data": {
      "text/html": [
       "<div>\n",
       "<style scoped>\n",
       "    .dataframe tbody tr th:only-of-type {\n",
       "        vertical-align: middle;\n",
       "    }\n",
       "\n",
       "    .dataframe tbody tr th {\n",
       "        vertical-align: top;\n",
       "    }\n",
       "\n",
       "    .dataframe thead th {\n",
       "        text-align: right;\n",
       "    }\n",
       "</style>\n",
       "<table border=\"1\" class=\"dataframe\">\n",
       "  <thead>\n",
       "    <tr style=\"text-align: right;\">\n",
       "      <th></th>\n",
       "      <th>CONTID</th>\n",
       "      <th>MEDIUMCODE</th>\n",
       "      <th>MNTOPCODE</th>\n",
       "      <th>CLASCODE</th>\n",
       "      <th>EXTRELNO</th>\n",
       "      <th>CONTDIREC</th>\n",
       "      <th>CONTDATE</th>\n",
       "    </tr>\n",
       "  </thead>\n",
       "  <tbody>\n",
       "    <tr>\n",
       "      <th>0</th>\n",
       "      <td>405402</td>\n",
       "      <td>CI</td>\n",
       "      <td>CTS</td>\n",
       "      <td>CT</td>\n",
       "      <td>20</td>\n",
       "      <td>O</td>\n",
       "      <td>2007-05-06</td>\n",
       "    </tr>\n",
       "    <tr>\n",
       "      <th>1</th>\n",
       "      <td>430904</td>\n",
       "      <td>CI</td>\n",
       "      <td>CTS</td>\n",
       "      <td>CT</td>\n",
       "      <td>20</td>\n",
       "      <td>O</td>\n",
       "      <td>2007-06-11</td>\n",
       "    </tr>\n",
       "    <tr>\n",
       "      <th>2</th>\n",
       "      <td>592732</td>\n",
       "      <td>CI</td>\n",
       "      <td>CTS</td>\n",
       "      <td>CT</td>\n",
       "      <td>20</td>\n",
       "      <td>O</td>\n",
       "      <td>2007-10-18</td>\n",
       "    </tr>\n",
       "    <tr>\n",
       "      <th>3</th>\n",
       "      <td>593375</td>\n",
       "      <td>CI</td>\n",
       "      <td>CTS</td>\n",
       "      <td>CT</td>\n",
       "      <td>20</td>\n",
       "      <td>O</td>\n",
       "      <td>2007-10-18</td>\n",
       "    </tr>\n",
       "    <tr>\n",
       "      <th>4</th>\n",
       "      <td>618514</td>\n",
       "      <td>CI</td>\n",
       "      <td>CTS</td>\n",
       "      <td>CT</td>\n",
       "      <td>20</td>\n",
       "      <td>O</td>\n",
       "      <td>2007-11-25</td>\n",
       "    </tr>\n",
       "  </tbody>\n",
       "</table>\n",
       "</div>"
      ],
      "text/plain": [
       "   CONTID MEDIUMCODE MNTOPCODE CLASCODE  EXTRELNO CONTDIREC   CONTDATE\n",
       "0  405402         CI       CTS       CT        20         O 2007-05-06\n",
       "1  430904         CI       CTS       CT        20         O 2007-06-11\n",
       "2  592732         CI       CTS       CT        20         O 2007-10-18\n",
       "3  593375         CI       CTS       CT        20         O 2007-10-18\n",
       "4  618514         CI       CTS       CT        20         O 2007-11-25"
      ]
     },
     "execution_count": 22,
     "metadata": {},
     "output_type": "execute_result"
    }
   ],
   "source": [
    "# check\n",
    "communication_ind.head()"
   ]
  },
  {
   "cell_type": "markdown",
   "metadata": {},
   "source": [
    "### 3.2.2. Frequency"
   ]
  },
  {
   "cell_type": "markdown",
   "metadata": {},
   "source": [
    "**Frequency**: the number of transactions made by a customer during the independent period"
   ]
  },
  {
   "cell_type": "code",
   "execution_count": 23,
   "metadata": {},
   "outputs": [],
   "source": [
    "# get the frequency: number of transactions per customer\n",
    "frequency = payhistory_ind[\"EXTRELNO\"].value_counts().reset_index()\n",
    "# rename columns\n",
    "frequency.columns = [\"EXTRELNO\", \"frequency\"]"
   ]
  },
  {
   "cell_type": "code",
   "execution_count": 24,
   "metadata": {},
   "outputs": [
    {
     "data": {
      "text/html": [
       "<div>\n",
       "<style scoped>\n",
       "    .dataframe tbody tr th:only-of-type {\n",
       "        vertical-align: middle;\n",
       "    }\n",
       "\n",
       "    .dataframe tbody tr th {\n",
       "        vertical-align: top;\n",
       "    }\n",
       "\n",
       "    .dataframe thead th {\n",
       "        text-align: right;\n",
       "    }\n",
       "</style>\n",
       "<table border=\"1\" class=\"dataframe\">\n",
       "  <thead>\n",
       "    <tr style=\"text-align: right;\">\n",
       "      <th></th>\n",
       "      <th>EXTRELNO</th>\n",
       "      <th>frequency</th>\n",
       "    </tr>\n",
       "  </thead>\n",
       "  <tbody>\n",
       "    <tr>\n",
       "      <th>0</th>\n",
       "      <td>1773</td>\n",
       "      <td>2131</td>\n",
       "    </tr>\n",
       "    <tr>\n",
       "      <th>1</th>\n",
       "      <td>35231</td>\n",
       "      <td>1121</td>\n",
       "    </tr>\n",
       "    <tr>\n",
       "      <th>2</th>\n",
       "      <td>34337</td>\n",
       "      <td>642</td>\n",
       "    </tr>\n",
       "    <tr>\n",
       "      <th>3</th>\n",
       "      <td>202611</td>\n",
       "      <td>610</td>\n",
       "    </tr>\n",
       "    <tr>\n",
       "      <th>4</th>\n",
       "      <td>2980</td>\n",
       "      <td>583</td>\n",
       "    </tr>\n",
       "  </tbody>\n",
       "</table>\n",
       "</div>"
      ],
      "text/plain": [
       "   EXTRELNO  frequency\n",
       "0      1773       2131\n",
       "1     35231       1121\n",
       "2     34337        642\n",
       "3    202611        610\n",
       "4      2980        583"
      ]
     },
     "execution_count": 24,
     "metadata": {},
     "output_type": "execute_result"
    }
   ],
   "source": [
    "# check\n",
    "frequency.head()"
   ]
  },
  {
   "cell_type": "markdown",
   "metadata": {},
   "source": [
    "### 3.2.3. Recency"
   ]
  },
  {
   "cell_type": "markdown",
   "metadata": {},
   "source": [
    "**Recency**: the number of days between a customer's last transaction and the end of the independent period"
   ]
  },
  {
   "cell_type": "code",
   "execution_count": 25,
   "metadata": {},
   "outputs": [],
   "source": [
    "# get the last transactions of each donor\n",
    "recency = payhistory_ind.groupby(\"EXTRELNO\").tail(1)[[\"EXTRELNO\", \"PDATE\"]]\n",
    "# get the recency in days \n",
    "recency[\"recency\"] = recency[\"PDATE\"].apply(lambda x: (end_independent - x).days)\n",
    "# drop PDATE\n",
    "recency = recency.drop(\"PDATE\", axis=1)"
   ]
  },
  {
   "cell_type": "code",
   "execution_count": 26,
   "metadata": {
    "scrolled": false
   },
   "outputs": [
    {
     "data": {
      "text/html": [
       "<div>\n",
       "<style scoped>\n",
       "    .dataframe tbody tr th:only-of-type {\n",
       "        vertical-align: middle;\n",
       "    }\n",
       "\n",
       "    .dataframe tbody tr th {\n",
       "        vertical-align: top;\n",
       "    }\n",
       "\n",
       "    .dataframe thead th {\n",
       "        text-align: right;\n",
       "    }\n",
       "</style>\n",
       "<table border=\"1\" class=\"dataframe\">\n",
       "  <thead>\n",
       "    <tr style=\"text-align: right;\">\n",
       "      <th></th>\n",
       "      <th>EXTRELNO</th>\n",
       "      <th>recency</th>\n",
       "    </tr>\n",
       "  </thead>\n",
       "  <tbody>\n",
       "    <tr>\n",
       "      <th>0</th>\n",
       "      <td>19</td>\n",
       "      <td>3617</td>\n",
       "    </tr>\n",
       "    <tr>\n",
       "      <th>120</th>\n",
       "      <td>20</td>\n",
       "      <td>13</td>\n",
       "    </tr>\n",
       "    <tr>\n",
       "      <th>275</th>\n",
       "      <td>35</td>\n",
       "      <td>13</td>\n",
       "    </tr>\n",
       "    <tr>\n",
       "      <th>397</th>\n",
       "      <td>42</td>\n",
       "      <td>1048</td>\n",
       "    </tr>\n",
       "    <tr>\n",
       "      <th>627</th>\n",
       "      <td>43</td>\n",
       "      <td>135</td>\n",
       "    </tr>\n",
       "  </tbody>\n",
       "</table>\n",
       "</div>"
      ],
      "text/plain": [
       "     EXTRELNO  recency\n",
       "0          19     3617\n",
       "120        20       13\n",
       "275        35       13\n",
       "397        42     1048\n",
       "627        43      135"
      ]
     },
     "execution_count": 26,
     "metadata": {},
     "output_type": "execute_result"
    }
   ],
   "source": [
    "# check\n",
    "recency.head()"
   ]
  },
  {
   "cell_type": "markdown",
   "metadata": {},
   "source": [
    "### 3.2.4. Monetary Value"
   ]
  },
  {
   "cell_type": "markdown",
   "metadata": {},
   "source": [
    "**Monetary value**: the average and total amount of transactions made by a customer during the independent period"
   ]
  },
  {
   "cell_type": "code",
   "execution_count": 27,
   "metadata": {},
   "outputs": [],
   "source": [
    "# get the total and average monetary value per customer\n",
    "monetary_value = payhistory_ind.groupby(\"EXTRELNO\").agg({\"PAMT\": [np.sum, np.mean]}).reset_index()\n",
    "# rename columns\n",
    "monetary_value.columns = [\"EXTRELNO\", \"total_value\", \"average_value\"]"
   ]
  },
  {
   "cell_type": "code",
   "execution_count": 28,
   "metadata": {
    "scrolled": true
   },
   "outputs": [
    {
     "data": {
      "text/html": [
       "<div>\n",
       "<style scoped>\n",
       "    .dataframe tbody tr th:only-of-type {\n",
       "        vertical-align: middle;\n",
       "    }\n",
       "\n",
       "    .dataframe tbody tr th {\n",
       "        vertical-align: top;\n",
       "    }\n",
       "\n",
       "    .dataframe thead th {\n",
       "        text-align: right;\n",
       "    }\n",
       "</style>\n",
       "<table border=\"1\" class=\"dataframe\">\n",
       "  <thead>\n",
       "    <tr style=\"text-align: right;\">\n",
       "      <th></th>\n",
       "      <th>EXTRELNO</th>\n",
       "      <th>total_value</th>\n",
       "      <th>average_value</th>\n",
       "    </tr>\n",
       "  </thead>\n",
       "  <tbody>\n",
       "    <tr>\n",
       "      <th>0</th>\n",
       "      <td>19</td>\n",
       "      <td>9.57</td>\n",
       "      <td>9.570000</td>\n",
       "    </tr>\n",
       "    <tr>\n",
       "      <th>1</th>\n",
       "      <td>20</td>\n",
       "      <td>2321.30</td>\n",
       "      <td>19.506723</td>\n",
       "    </tr>\n",
       "    <tr>\n",
       "      <th>2</th>\n",
       "      <td>35</td>\n",
       "      <td>2292.40</td>\n",
       "      <td>19.593162</td>\n",
       "    </tr>\n",
       "    <tr>\n",
       "      <th>3</th>\n",
       "      <td>42</td>\n",
       "      <td>1563.36</td>\n",
       "      <td>18.611429</td>\n",
       "    </tr>\n",
       "    <tr>\n",
       "      <th>4</th>\n",
       "      <td>43</td>\n",
       "      <td>4413.90</td>\n",
       "      <td>19.444493</td>\n",
       "    </tr>\n",
       "  </tbody>\n",
       "</table>\n",
       "</div>"
      ],
      "text/plain": [
       "   EXTRELNO  total_value  average_value\n",
       "0        19         9.57       9.570000\n",
       "1        20      2321.30      19.506723\n",
       "2        35      2292.40      19.593162\n",
       "3        42      1563.36      18.611429\n",
       "4        43      4413.90      19.444493"
      ]
     },
     "execution_count": 28,
     "metadata": {},
     "output_type": "execute_result"
    }
   ],
   "source": [
    "# check\n",
    "monetary_value.head()"
   ]
  },
  {
   "cell_type": "markdown",
   "metadata": {},
   "source": [
    "### 3.2.5. Paytypes"
   ]
  },
  {
   "cell_type": "markdown",
   "metadata": {},
   "source": [
    "**Paytype**: indication of whether a customer has ever used a particular paytype during the independent period \n",
    "\n",
    "         D: order\n",
    "         E: initiative\n",
    "         O: sendout\n",
    "         X: unknown"
   ]
  },
  {
   "cell_type": "code",
   "execution_count": 29,
   "metadata": {},
   "outputs": [],
   "source": [
    "# get a unique set of paytypes used per donor\n",
    "paytypes = pd.DataFrame(payhistory_ind.groupby(\"EXTRELNO\").agg({\"PAYTYPECD\": set}).reset_index())"
   ]
  },
  {
   "cell_type": "code",
   "execution_count": 30,
   "metadata": {},
   "outputs": [],
   "source": [
    "# create indicators for paytypes used per donor\n",
    "paytypes[\"sendout\"] = paytypes[\"PAYTYPECD\"].apply(lambda x: 1 if \"O\" in x else 0)\n",
    "paytypes[\"order\"] = paytypes[\"PAYTYPECD\"].apply(lambda x: 1 if \"D\" in x else 0)\n",
    "paytypes[\"initiative\"] = paytypes[\"PAYTYPECD\"].apply(lambda x: 1 if \"E\" in x else 0)\n",
    "paytypes[\"unknown\"] = paytypes[\"PAYTYPECD\"].apply(lambda x: 1 if len(x.difference(set([\"O\", \"D\", \"E\"]))) > 0 else 0)"
   ]
  },
  {
   "cell_type": "code",
   "execution_count": 31,
   "metadata": {},
   "outputs": [],
   "source": [
    "# drop the paytype column\n",
    "paytypes = paytypes.drop(\"PAYTYPECD\", axis=1)"
   ]
  },
  {
   "cell_type": "code",
   "execution_count": 32,
   "metadata": {
    "scrolled": false
   },
   "outputs": [
    {
     "data": {
      "text/html": [
       "<div>\n",
       "<style scoped>\n",
       "    .dataframe tbody tr th:only-of-type {\n",
       "        vertical-align: middle;\n",
       "    }\n",
       "\n",
       "    .dataframe tbody tr th {\n",
       "        vertical-align: top;\n",
       "    }\n",
       "\n",
       "    .dataframe thead th {\n",
       "        text-align: right;\n",
       "    }\n",
       "</style>\n",
       "<table border=\"1\" class=\"dataframe\">\n",
       "  <thead>\n",
       "    <tr style=\"text-align: right;\">\n",
       "      <th></th>\n",
       "      <th>EXTRELNO</th>\n",
       "      <th>sendout</th>\n",
       "      <th>order</th>\n",
       "      <th>initiative</th>\n",
       "      <th>unknown</th>\n",
       "    </tr>\n",
       "  </thead>\n",
       "  <tbody>\n",
       "    <tr>\n",
       "      <th>0</th>\n",
       "      <td>19</td>\n",
       "      <td>0</td>\n",
       "      <td>0</td>\n",
       "      <td>0</td>\n",
       "      <td>1</td>\n",
       "    </tr>\n",
       "    <tr>\n",
       "      <th>1</th>\n",
       "      <td>20</td>\n",
       "      <td>0</td>\n",
       "      <td>1</td>\n",
       "      <td>0</td>\n",
       "      <td>1</td>\n",
       "    </tr>\n",
       "    <tr>\n",
       "      <th>2</th>\n",
       "      <td>35</td>\n",
       "      <td>0</td>\n",
       "      <td>1</td>\n",
       "      <td>0</td>\n",
       "      <td>1</td>\n",
       "    </tr>\n",
       "    <tr>\n",
       "      <th>3</th>\n",
       "      <td>42</td>\n",
       "      <td>0</td>\n",
       "      <td>1</td>\n",
       "      <td>0</td>\n",
       "      <td>1</td>\n",
       "    </tr>\n",
       "    <tr>\n",
       "      <th>4</th>\n",
       "      <td>43</td>\n",
       "      <td>0</td>\n",
       "      <td>1</td>\n",
       "      <td>0</td>\n",
       "      <td>1</td>\n",
       "    </tr>\n",
       "  </tbody>\n",
       "</table>\n",
       "</div>"
      ],
      "text/plain": [
       "   EXTRELNO  sendout  order  initiative  unknown\n",
       "0        19        0      0           0        1\n",
       "1        20        0      1           0        1\n",
       "2        35        0      1           0        1\n",
       "3        42        0      1           0        1\n",
       "4        43        0      1           0        1"
      ]
     },
     "execution_count": 32,
     "metadata": {},
     "output_type": "execute_result"
    }
   ],
   "source": [
    "# check\n",
    "paytypes.head()"
   ]
  },
  {
   "cell_type": "markdown",
   "metadata": {},
   "source": [
    "### 3.2.6. Preferred Language"
   ]
  },
  {
   "cell_type": "markdown",
   "metadata": {},
   "source": [
    "**Preferred mailing language**: get the preferred mailing language of a donor"
   ]
  },
  {
   "cell_type": "code",
   "execution_count": 33,
   "metadata": {},
   "outputs": [
    {
     "data": {
      "text/html": [
       "<div>\n",
       "<style scoped>\n",
       "    .dataframe tbody tr th:only-of-type {\n",
       "        vertical-align: middle;\n",
       "    }\n",
       "\n",
       "    .dataframe tbody tr th {\n",
       "        vertical-align: top;\n",
       "    }\n",
       "\n",
       "    .dataframe thead th {\n",
       "        text-align: right;\n",
       "    }\n",
       "</style>\n",
       "<table border=\"1\" class=\"dataframe\">\n",
       "  <thead>\n",
       "    <tr style=\"text-align: right;\">\n",
       "      <th></th>\n",
       "      <th>EXTRELNO</th>\n",
       "      <th>LANGUACODE_FR</th>\n",
       "      <th>LANGUACODE_NL</th>\n",
       "    </tr>\n",
       "  </thead>\n",
       "  <tbody>\n",
       "    <tr>\n",
       "      <th>0</th>\n",
       "      <td>19</td>\n",
       "      <td>0</td>\n",
       "      <td>1</td>\n",
       "    </tr>\n",
       "    <tr>\n",
       "      <th>1</th>\n",
       "      <td>20</td>\n",
       "      <td>0</td>\n",
       "      <td>1</td>\n",
       "    </tr>\n",
       "    <tr>\n",
       "      <th>2</th>\n",
       "      <td>35</td>\n",
       "      <td>0</td>\n",
       "      <td>1</td>\n",
       "    </tr>\n",
       "    <tr>\n",
       "      <th>3</th>\n",
       "      <td>42</td>\n",
       "      <td>0</td>\n",
       "      <td>1</td>\n",
       "    </tr>\n",
       "    <tr>\n",
       "      <th>4</th>\n",
       "      <td>43</td>\n",
       "      <td>0</td>\n",
       "      <td>1</td>\n",
       "    </tr>\n",
       "  </tbody>\n",
       "</table>\n",
       "</div>"
      ],
      "text/plain": [
       "   EXTRELNO  LANGUACODE_FR  LANGUACODE_NL\n",
       "0        19              0              1\n",
       "1        20              0              1\n",
       "2        35              0              1\n",
       "3        42              0              1\n",
       "4        43              0              1"
      ]
     },
     "execution_count": 33,
     "metadata": {},
     "output_type": "execute_result"
    }
   ],
   "source": [
    "# get preferred mailing language of donor\n",
    "language = pd.get_dummies(nameaddr, columns=['LANGUACODE'], drop_first = True)\n",
    "language = language[['EXTRELNO', 'LANGUACODE_FR', 'LANGUACODE_NL']]\n",
    "language.head()"
   ]
  },
  {
   "cell_type": "markdown",
   "metadata": {},
   "source": [
    "### 3.2.7. Complaints"
   ]
  },
  {
   "cell_type": "markdown",
   "metadata": {},
   "source": [
    "Complaint and direction: check if a donor has ever complaint or has given some kind of direction\n",
    "\n",
    "        CM: Complaint\n",
    "        I: Direction"
   ]
  },
  {
   "cell_type": "code",
   "execution_count": 34,
   "metadata": {},
   "outputs": [],
   "source": [
    "# get a unique set om communication types per donor\n",
    "complaint = communication_ind.groupby(\"EXTRELNO\").agg({\"CLASCODE\": set, \"CONTDIREC\": set}).reset_index()\n",
    "# create indicators for complaint and direction\n",
    "complaint[\"complaint\"] = complaint[\"CLASCODE\"].apply(lambda x: 1 if \"CM\" in x else 0)\n",
    "complaint[\"direction\"] = complaint[\"CONTDIREC\"].apply(lambda x: 1 if \"I\" in x else 0)\n",
    "# keep relevant variables\n",
    "complaint = complaint[[\"EXTRELNO\", \"complaint\", \"direction\"]]"
   ]
  },
  {
   "cell_type": "code",
   "execution_count": 35,
   "metadata": {},
   "outputs": [
    {
     "data": {
      "text/html": [
       "<div>\n",
       "<style scoped>\n",
       "    .dataframe tbody tr th:only-of-type {\n",
       "        vertical-align: middle;\n",
       "    }\n",
       "\n",
       "    .dataframe tbody tr th {\n",
       "        vertical-align: top;\n",
       "    }\n",
       "\n",
       "    .dataframe thead th {\n",
       "        text-align: right;\n",
       "    }\n",
       "</style>\n",
       "<table border=\"1\" class=\"dataframe\">\n",
       "  <thead>\n",
       "    <tr style=\"text-align: right;\">\n",
       "      <th></th>\n",
       "      <th>EXTRELNO</th>\n",
       "      <th>complaint</th>\n",
       "      <th>direction</th>\n",
       "    </tr>\n",
       "  </thead>\n",
       "  <tbody>\n",
       "    <tr>\n",
       "      <th>0</th>\n",
       "      <td>20</td>\n",
       "      <td>0</td>\n",
       "      <td>0</td>\n",
       "    </tr>\n",
       "    <tr>\n",
       "      <th>1</th>\n",
       "      <td>35</td>\n",
       "      <td>0</td>\n",
       "      <td>1</td>\n",
       "    </tr>\n",
       "    <tr>\n",
       "      <th>2</th>\n",
       "      <td>42</td>\n",
       "      <td>0</td>\n",
       "      <td>1</td>\n",
       "    </tr>\n",
       "    <tr>\n",
       "      <th>3</th>\n",
       "      <td>43</td>\n",
       "      <td>0</td>\n",
       "      <td>1</td>\n",
       "    </tr>\n",
       "    <tr>\n",
       "      <th>4</th>\n",
       "      <td>60</td>\n",
       "      <td>0</td>\n",
       "      <td>1</td>\n",
       "    </tr>\n",
       "  </tbody>\n",
       "</table>\n",
       "</div>"
      ],
      "text/plain": [
       "   EXTRELNO  complaint  direction\n",
       "0        20          0          0\n",
       "1        35          0          1\n",
       "2        42          0          1\n",
       "3        43          0          1\n",
       "4        60          0          1"
      ]
     },
     "execution_count": 35,
     "metadata": {},
     "output_type": "execute_result"
    }
   ],
   "source": [
    "# check\n",
    "complaint.head()"
   ]
  },
  {
   "cell_type": "markdown",
   "metadata": {},
   "source": [
    "We will already store all the independent variables in **one dataset**, which we can than **merge** with the dependent variables."
   ]
  },
  {
   "cell_type": "code",
   "execution_count": 36,
   "metadata": {},
   "outputs": [],
   "source": [
    "# create dataset with all independent features\n",
    "indep_basetable = (pd.merge(pd.DataFrame(customers[\"EXTRELNO\"]), frequency, how=\"left\", on=\"EXTRELNO\")\n",
    "                    .merge(recency, how=\"left\", on=\"EXTRELNO\")\n",
    "                    .merge(monetary_value, how=\"left\", on=\"EXTRELNO\")\n",
    "                    .merge(paytypes, how=\"left\", on=\"EXTRELNO\")\n",
    "                    .merge(complaint, how=\"left\", on=\"EXTRELNO\")\n",
    "                    .merge(language, how=\"left\", on=\"EXTRELNO\"))"
   ]
  },
  {
   "cell_type": "code",
   "execution_count": 37,
   "metadata": {},
   "outputs": [
    {
     "data": {
      "text/html": [
       "<div>\n",
       "<style scoped>\n",
       "    .dataframe tbody tr th:only-of-type {\n",
       "        vertical-align: middle;\n",
       "    }\n",
       "\n",
       "    .dataframe tbody tr th {\n",
       "        vertical-align: top;\n",
       "    }\n",
       "\n",
       "    .dataframe thead th {\n",
       "        text-align: right;\n",
       "    }\n",
       "</style>\n",
       "<table border=\"1\" class=\"dataframe\">\n",
       "  <thead>\n",
       "    <tr style=\"text-align: right;\">\n",
       "      <th></th>\n",
       "      <th>EXTRELNO</th>\n",
       "      <th>frequency</th>\n",
       "      <th>recency</th>\n",
       "      <th>total_value</th>\n",
       "      <th>average_value</th>\n",
       "      <th>sendout</th>\n",
       "      <th>order</th>\n",
       "      <th>initiative</th>\n",
       "      <th>unknown</th>\n",
       "      <th>complaint</th>\n",
       "      <th>direction</th>\n",
       "      <th>LANGUACODE_FR</th>\n",
       "      <th>LANGUACODE_NL</th>\n",
       "    </tr>\n",
       "  </thead>\n",
       "  <tbody>\n",
       "    <tr>\n",
       "      <th>0</th>\n",
       "      <td>26414</td>\n",
       "      <td>117</td>\n",
       "      <td>13</td>\n",
       "      <td>2257.13</td>\n",
       "      <td>19.291709</td>\n",
       "      <td>0</td>\n",
       "      <td>1</td>\n",
       "      <td>0</td>\n",
       "      <td>1</td>\n",
       "      <td>0.0</td>\n",
       "      <td>1.0</td>\n",
       "      <td>0</td>\n",
       "      <td>1</td>\n",
       "    </tr>\n",
       "    <tr>\n",
       "      <th>1</th>\n",
       "      <td>26419</td>\n",
       "      <td>47</td>\n",
       "      <td>56</td>\n",
       "      <td>2556.99</td>\n",
       "      <td>54.404043</td>\n",
       "      <td>1</td>\n",
       "      <td>0</td>\n",
       "      <td>0</td>\n",
       "      <td>1</td>\n",
       "      <td>0.0</td>\n",
       "      <td>1.0</td>\n",
       "      <td>0</td>\n",
       "      <td>1</td>\n",
       "    </tr>\n",
       "    <tr>\n",
       "      <th>2</th>\n",
       "      <td>26430</td>\n",
       "      <td>119</td>\n",
       "      <td>13</td>\n",
       "      <td>2299.28</td>\n",
       "      <td>19.321681</td>\n",
       "      <td>1</td>\n",
       "      <td>1</td>\n",
       "      <td>0</td>\n",
       "      <td>1</td>\n",
       "      <td>1.0</td>\n",
       "      <td>1.0</td>\n",
       "      <td>0</td>\n",
       "      <td>1</td>\n",
       "    </tr>\n",
       "    <tr>\n",
       "      <th>3</th>\n",
       "      <td>26431</td>\n",
       "      <td>14</td>\n",
       "      <td>203</td>\n",
       "      <td>2742.57</td>\n",
       "      <td>195.897857</td>\n",
       "      <td>1</td>\n",
       "      <td>0</td>\n",
       "      <td>0</td>\n",
       "      <td>1</td>\n",
       "      <td>0.0</td>\n",
       "      <td>0.0</td>\n",
       "      <td>0</td>\n",
       "      <td>1</td>\n",
       "    </tr>\n",
       "    <tr>\n",
       "      <th>4</th>\n",
       "      <td>26443</td>\n",
       "      <td>116</td>\n",
       "      <td>13</td>\n",
       "      <td>2276.95</td>\n",
       "      <td>19.628879</td>\n",
       "      <td>0</td>\n",
       "      <td>1</td>\n",
       "      <td>0</td>\n",
       "      <td>1</td>\n",
       "      <td>0.0</td>\n",
       "      <td>0.0</td>\n",
       "      <td>0</td>\n",
       "      <td>1</td>\n",
       "    </tr>\n",
       "  </tbody>\n",
       "</table>\n",
       "</div>"
      ],
      "text/plain": [
       "   EXTRELNO  frequency  recency  total_value  average_value  sendout  order  \\\n",
       "0     26414        117       13      2257.13      19.291709        0      1   \n",
       "1     26419         47       56      2556.99      54.404043        1      0   \n",
       "2     26430        119       13      2299.28      19.321681        1      1   \n",
       "3     26431         14      203      2742.57     195.897857        1      0   \n",
       "4     26443        116       13      2276.95      19.628879        0      1   \n",
       "\n",
       "   initiative  unknown  complaint  direction  LANGUACODE_FR  LANGUACODE_NL  \n",
       "0           0        1        0.0        1.0              0              1  \n",
       "1           0        1        0.0        1.0              0              1  \n",
       "2           0        1        1.0        1.0              0              1  \n",
       "3           0        1        0.0        0.0              0              1  \n",
       "4           0        1        0.0        0.0              0              1  "
      ]
     },
     "execution_count": 37,
     "metadata": {},
     "output_type": "execute_result"
    }
   ],
   "source": [
    "# check\n",
    "indep_basetable.head()"
   ]
  },
  {
   "cell_type": "code",
   "execution_count": 38,
   "metadata": {},
   "outputs": [
    {
     "data": {
      "text/plain": [
       "(7039, 13)"
      ]
     },
     "execution_count": 38,
     "metadata": {},
     "output_type": "execute_result"
    }
   ],
   "source": [
    "# check dimensions\n",
    "indep_basetable.shape"
   ]
  },
  {
   "cell_type": "markdown",
   "metadata": {},
   "source": [
    "## 3.3. Dependent Variables"
   ]
  },
  {
   "cell_type": "markdown",
   "metadata": {},
   "source": [
    "Since we have a **two-phase model** here, we need **two dependent variables**:\n",
    "\n",
    "- ``CLV`` is in this case defined as the sum of all discounted purchases in the dependent period (3 year)\n",
    "- ``CHURN`` is in this case defined as a customer who didn't donate anything in the dependent period (CLV=0)"
   ]
  },
  {
   "cell_type": "markdown",
   "metadata": {},
   "source": [
    "### 3.3.1. CLV"
   ]
  },
  {
   "cell_type": "code",
   "execution_count": 39,
   "metadata": {},
   "outputs": [],
   "source": [
    "# define the discount rate\n",
    "DISCOUNT_RATE = 0.05"
   ]
  },
  {
   "cell_type": "code",
   "execution_count": 40,
   "metadata": {},
   "outputs": [],
   "source": [
    "# get payhistory information from dependent period\n",
    "payhistory_dep = payhistory[(payhistory[\"PDATE\"] >= start_dependent) & (payhistory[\"PDATE\"] <= end_dependent)]"
   ]
  },
  {
   "cell_type": "code",
   "execution_count": 41,
   "metadata": {},
   "outputs": [],
   "source": [
    "# define function to get discounted transaction\n",
    "def get_discounted_transaction(trans_date, trans_val):\n",
    "    \n",
    "    # get discounted transaction\n",
    "    disc_trans = trans_val / ((1 + DISCOUNT_RATE) ** ((trans_date - start_dependent).days / 365.))\n",
    "    \n",
    "    # return\n",
    "    return(disc_trans)"
   ]
  },
  {
   "cell_type": "code",
   "execution_count": 42,
   "metadata": {},
   "outputs": [
    {
     "name": "stderr",
     "output_type": "stream",
     "text": [
      "C:\\Users\\dvmulder\\AppData\\Local\\Temp\\ipykernel_21116\\2755635735.py:2: SettingWithCopyWarning: \n",
      "A value is trying to be set on a copy of a slice from a DataFrame.\n",
      "Try using .loc[row_indexer,col_indexer] = value instead\n",
      "\n",
      "See the caveats in the documentation: https://pandas.pydata.org/pandas-docs/stable/user_guide/indexing.html#returning-a-view-versus-a-copy\n",
      "  payhistory_dep[\"PAMT_discounted\"] = payhistory_dep.apply(lambda x: get_discounted_transaction(x[\"PDATE\"], x[\"PAMT\"]), axis=1)\n"
     ]
    }
   ],
   "source": [
    "# discount each transaction by a daily discount rate\n",
    "payhistory_dep[\"PAMT_discounted\"] = payhistory_dep.apply(lambda x: get_discounted_transaction(x[\"PDATE\"], x[\"PAMT\"]), axis=1)"
   ]
  },
  {
   "cell_type": "code",
   "execution_count": 43,
   "metadata": {},
   "outputs": [],
   "source": [
    "# get total of discounted transaction per customer\n",
    "clv = payhistory_dep.groupby(\"EXTRELNO\").agg({\"PAMT_discounted\": sum}).reset_index()\n",
    "# rename columns\n",
    "clv.columns = [\"EXTRELNO\", \"CLV\"]"
   ]
  },
  {
   "cell_type": "code",
   "execution_count": 44,
   "metadata": {},
   "outputs": [
    {
     "data": {
      "text/html": [
       "<div>\n",
       "<style scoped>\n",
       "    .dataframe tbody tr th:only-of-type {\n",
       "        vertical-align: middle;\n",
       "    }\n",
       "\n",
       "    .dataframe tbody tr th {\n",
       "        vertical-align: top;\n",
       "    }\n",
       "\n",
       "    .dataframe thead th {\n",
       "        text-align: right;\n",
       "    }\n",
       "</style>\n",
       "<table border=\"1\" class=\"dataframe\">\n",
       "  <thead>\n",
       "    <tr style=\"text-align: right;\">\n",
       "      <th></th>\n",
       "      <th>EXTRELNO</th>\n",
       "      <th>CLV</th>\n",
       "    </tr>\n",
       "  </thead>\n",
       "  <tbody>\n",
       "    <tr>\n",
       "      <th>0</th>\n",
       "      <td>20</td>\n",
       "      <td>770.965937</td>\n",
       "    </tr>\n",
       "    <tr>\n",
       "      <th>1</th>\n",
       "      <td>35</td>\n",
       "      <td>770.965937</td>\n",
       "    </tr>\n",
       "    <tr>\n",
       "      <th>2</th>\n",
       "      <td>72</td>\n",
       "      <td>770.862336</td>\n",
       "    </tr>\n",
       "    <tr>\n",
       "      <th>3</th>\n",
       "      <td>81</td>\n",
       "      <td>2303.809274</td>\n",
       "    </tr>\n",
       "    <tr>\n",
       "      <th>4</th>\n",
       "      <td>89</td>\n",
       "      <td>748.721848</td>\n",
       "    </tr>\n",
       "  </tbody>\n",
       "</table>\n",
       "</div>"
      ],
      "text/plain": [
       "   EXTRELNO          CLV\n",
       "0        20   770.965937\n",
       "1        35   770.965937\n",
       "2        72   770.862336\n",
       "3        81  2303.809274\n",
       "4        89   748.721848"
      ]
     },
     "execution_count": 44,
     "metadata": {},
     "output_type": "execute_result"
    }
   ],
   "source": [
    "# check\n",
    "clv.head()"
   ]
  },
  {
   "cell_type": "markdown",
   "metadata": {},
   "source": [
    "### 3.3.2. Churn"
   ]
  },
  {
   "cell_type": "code",
   "execution_count": 45,
   "metadata": {},
   "outputs": [],
   "source": [
    "# merge clv dataset with customer data\n",
    "churn_clv = pd.merge(customers, clv, on=\"EXTRELNO\", how=\"left\")\n",
    "# only keep EXTRELNO and CLV\n",
    "churn_clv = churn_clv[[\"EXTRELNO\", \"CLV\"]]"
   ]
  },
  {
   "cell_type": "code",
   "execution_count": 46,
   "metadata": {},
   "outputs": [],
   "source": [
    "# set clv to 0 for customers that did not make any transaction during dependent period\n",
    "churn_clv[\"CLV\"] = churn_clv[\"CLV\"].fillna(0)\n",
    "# set churn to 1 for customers that did not make any transaction during dependent period\n",
    "churn_clv[\"churn\"] = np.where(churn_clv[\"CLV\"] > 0,0,1)"
   ]
  },
  {
   "cell_type": "code",
   "execution_count": 47,
   "metadata": {},
   "outputs": [
    {
     "data": {
      "text/html": [
       "<div>\n",
       "<style scoped>\n",
       "    .dataframe tbody tr th:only-of-type {\n",
       "        vertical-align: middle;\n",
       "    }\n",
       "\n",
       "    .dataframe tbody tr th {\n",
       "        vertical-align: top;\n",
       "    }\n",
       "\n",
       "    .dataframe thead th {\n",
       "        text-align: right;\n",
       "    }\n",
       "</style>\n",
       "<table border=\"1\" class=\"dataframe\">\n",
       "  <thead>\n",
       "    <tr style=\"text-align: right;\">\n",
       "      <th></th>\n",
       "      <th>EXTRELNO</th>\n",
       "      <th>CLV</th>\n",
       "      <th>churn</th>\n",
       "    </tr>\n",
       "  </thead>\n",
       "  <tbody>\n",
       "    <tr>\n",
       "      <th>0</th>\n",
       "      <td>26414</td>\n",
       "      <td>770.965937</td>\n",
       "      <td>0</td>\n",
       "    </tr>\n",
       "    <tr>\n",
       "      <th>1</th>\n",
       "      <td>26419</td>\n",
       "      <td>771.030576</td>\n",
       "      <td>0</td>\n",
       "    </tr>\n",
       "    <tr>\n",
       "      <th>2</th>\n",
       "      <td>26430</td>\n",
       "      <td>484.389230</td>\n",
       "      <td>0</td>\n",
       "    </tr>\n",
       "    <tr>\n",
       "      <th>3</th>\n",
       "      <td>26431</td>\n",
       "      <td>777.367765</td>\n",
       "      <td>0</td>\n",
       "    </tr>\n",
       "    <tr>\n",
       "      <th>4</th>\n",
       "      <td>26443</td>\n",
       "      <td>770.965937</td>\n",
       "      <td>0</td>\n",
       "    </tr>\n",
       "  </tbody>\n",
       "</table>\n",
       "</div>"
      ],
      "text/plain": [
       "   EXTRELNO         CLV  churn\n",
       "0     26414  770.965937      0\n",
       "1     26419  771.030576      0\n",
       "2     26430  484.389230      0\n",
       "3     26431  777.367765      0\n",
       "4     26443  770.965937      0"
      ]
     },
     "execution_count": 47,
     "metadata": {},
     "output_type": "execute_result"
    }
   ],
   "source": [
    "# check\n",
    "churn_clv.head()"
   ]
  },
  {
   "cell_type": "code",
   "execution_count": 48,
   "metadata": {},
   "outputs": [
    {
     "data": {
      "text/plain": [
       "0    91.575508\n",
       "1     8.424492\n",
       "Name: churn, dtype: float64"
      ]
     },
     "execution_count": 48,
     "metadata": {},
     "output_type": "execute_result"
    }
   ],
   "source": [
    "# check churn proportions\n",
    "churn_clv[\"churn\"].value_counts(normalize=True) * 100"
   ]
  },
  {
   "cell_type": "code",
   "execution_count": 49,
   "metadata": {},
   "outputs": [
    {
     "name": "stdout",
     "output_type": "stream",
     "text": [
      "mean CLV: 754.5486067420968\n",
      "stddev CLV: 307.0191700907327\n"
     ]
    }
   ],
   "source": [
    "# check mean and stddev of positive CLV\n",
    "print(\"mean CLV: %s\" %churn_clv[\"CLV\"][churn_clv[\"CLV\"] > 0].mean())\n",
    "print(\"stddev CLV: %s\" %churn_clv[\"CLV\"][churn_clv[\"CLV\"] > 0].std())"
   ]
  },
  {
   "cell_type": "code",
   "execution_count": 50,
   "metadata": {},
   "outputs": [
    {
     "name": "stdout",
     "output_type": "stream",
     "text": [
      "mean CLV: 690.6549348376444\n",
      "stddev CLV: 361.661059381804\n"
     ]
    }
   ],
   "source": [
    "# check mean and stddev of all\n",
    "print(\"mean CLV: %s\" %churn_clv[\"CLV\"].mean())\n",
    "print(\"stddev CLV: %s\" %churn_clv[\"CLV\"].std())"
   ]
  },
  {
   "cell_type": "code",
   "execution_count": 51,
   "metadata": {},
   "outputs": [
    {
     "data": {
      "image/png": "[encoded data removed]",
      "text/plain": [
       "<Figure size 500x500 with 1 Axes>"
      ]
     },
     "metadata": {},
     "output_type": "display_data"
    }
   ],
   "source": [
    "# plot distribution\n",
    "sns.displot(churn_clv[\"CLV\"][churn_clv[\"CLV\"] > 0], kind=\"kde\")\n",
    "plt.xlim(0, 5000)\n",
    "plt.show()"
   ]
  },
  {
   "cell_type": "code",
   "execution_count": 52,
   "metadata": {},
   "outputs": [
    {
     "data": {
      "image/png": "[encoded data removed]",
      "text/plain": [
       "<Figure size 500x500 with 1 Axes>"
      ]
     },
     "metadata": {},
     "output_type": "display_data"
    }
   ],
   "source": [
    "# plot distribution with churners added\n",
    "sns.displot(churn_clv[\"CLV\"], kind=\"kde\")\n",
    "plt.xlim(0, 5000)\n",
    "plt.show()"
   ]
  },
  {
   "cell_type": "code",
   "execution_count": 53,
   "metadata": {},
   "outputs": [
    {
     "data": {
      "text/plain": [
       "(7039, 3)"
      ]
     },
     "execution_count": 53,
     "metadata": {},
     "output_type": "execute_result"
    }
   ],
   "source": [
    "# check dimensions\n",
    "churn_clv.shape"
   ]
  },
  {
   "cell_type": "markdown",
   "metadata": {},
   "source": [
    "**Remember why we modelled churn in a two-phase model?** \n",
    "\n",
    "Because otherwise our sample would be **induced by zero values** for our regression model. However, our sample is induced much stronger by another value: the **default donation contracts**! (i.e., CLV around 770). So should we not tackle this? In fact it might be better to model this seperately, rather than churn: *default_value if P(default), E(CLV) otherwise*. Or even in a **three-phase model**!\n",
    "\n",
    "But in this case, we will be using the more default way to model CLV, with **churn probability** as secondary input, as this is the most common way. Be aware, however, that you might need to model it slightly different in reality. Always inspect your data!"
   ]
  },
  {
   "cell_type": "markdown",
   "metadata": {},
   "source": [
    "## 3.4. Basetable"
   ]
  },
  {
   "cell_type": "markdown",
   "metadata": {},
   "source": [
    "Create the **final basetable** by joining all the independent variables with the dependent variables"
   ]
  },
  {
   "cell_type": "code",
   "execution_count": 54,
   "metadata": {},
   "outputs": [],
   "source": [
    "# merge\n",
    "basetable = (pd.merge(indep_basetable, churn_clv, how=\"left\", on=\"EXTRELNO\"))"
   ]
  },
  {
   "cell_type": "code",
   "execution_count": 55,
   "metadata": {},
   "outputs": [
    {
     "data": {
      "text/html": [
       "<div>\n",
       "<style scoped>\n",
       "    .dataframe tbody tr th:only-of-type {\n",
       "        vertical-align: middle;\n",
       "    }\n",
       "\n",
       "    .dataframe tbody tr th {\n",
       "        vertical-align: top;\n",
       "    }\n",
       "\n",
       "    .dataframe thead th {\n",
       "        text-align: right;\n",
       "    }\n",
       "</style>\n",
       "<table border=\"1\" class=\"dataframe\">\n",
       "  <thead>\n",
       "    <tr style=\"text-align: right;\">\n",
       "      <th></th>\n",
       "      <th>EXTRELNO</th>\n",
       "      <th>frequency</th>\n",
       "      <th>recency</th>\n",
       "      <th>total_value</th>\n",
       "      <th>average_value</th>\n",
       "      <th>sendout</th>\n",
       "      <th>order</th>\n",
       "      <th>initiative</th>\n",
       "      <th>unknown</th>\n",
       "      <th>complaint</th>\n",
       "      <th>direction</th>\n",
       "      <th>LANGUACODE_FR</th>\n",
       "      <th>LANGUACODE_NL</th>\n",
       "      <th>CLV</th>\n",
       "      <th>churn</th>\n",
       "    </tr>\n",
       "  </thead>\n",
       "  <tbody>\n",
       "    <tr>\n",
       "      <th>0</th>\n",
       "      <td>26414</td>\n",
       "      <td>117</td>\n",
       "      <td>13</td>\n",
       "      <td>2257.13</td>\n",
       "      <td>19.291709</td>\n",
       "      <td>0</td>\n",
       "      <td>1</td>\n",
       "      <td>0</td>\n",
       "      <td>1</td>\n",
       "      <td>0.0</td>\n",
       "      <td>1.0</td>\n",
       "      <td>0</td>\n",
       "      <td>1</td>\n",
       "      <td>770.965937</td>\n",
       "      <td>0</td>\n",
       "    </tr>\n",
       "    <tr>\n",
       "      <th>1</th>\n",
       "      <td>26419</td>\n",
       "      <td>47</td>\n",
       "      <td>56</td>\n",
       "      <td>2556.99</td>\n",
       "      <td>54.404043</td>\n",
       "      <td>1</td>\n",
       "      <td>0</td>\n",
       "      <td>0</td>\n",
       "      <td>1</td>\n",
       "      <td>0.0</td>\n",
       "      <td>1.0</td>\n",
       "      <td>0</td>\n",
       "      <td>1</td>\n",
       "      <td>771.030576</td>\n",
       "      <td>0</td>\n",
       "    </tr>\n",
       "    <tr>\n",
       "      <th>2</th>\n",
       "      <td>26430</td>\n",
       "      <td>119</td>\n",
       "      <td>13</td>\n",
       "      <td>2299.28</td>\n",
       "      <td>19.321681</td>\n",
       "      <td>1</td>\n",
       "      <td>1</td>\n",
       "      <td>0</td>\n",
       "      <td>1</td>\n",
       "      <td>1.0</td>\n",
       "      <td>1.0</td>\n",
       "      <td>0</td>\n",
       "      <td>1</td>\n",
       "      <td>484.389230</td>\n",
       "      <td>0</td>\n",
       "    </tr>\n",
       "    <tr>\n",
       "      <th>3</th>\n",
       "      <td>26431</td>\n",
       "      <td>14</td>\n",
       "      <td>203</td>\n",
       "      <td>2742.57</td>\n",
       "      <td>195.897857</td>\n",
       "      <td>1</td>\n",
       "      <td>0</td>\n",
       "      <td>0</td>\n",
       "      <td>1</td>\n",
       "      <td>0.0</td>\n",
       "      <td>0.0</td>\n",
       "      <td>0</td>\n",
       "      <td>1</td>\n",
       "      <td>777.367765</td>\n",
       "      <td>0</td>\n",
       "    </tr>\n",
       "    <tr>\n",
       "      <th>4</th>\n",
       "      <td>26443</td>\n",
       "      <td>116</td>\n",
       "      <td>13</td>\n",
       "      <td>2276.95</td>\n",
       "      <td>19.628879</td>\n",
       "      <td>0</td>\n",
       "      <td>1</td>\n",
       "      <td>0</td>\n",
       "      <td>1</td>\n",
       "      <td>0.0</td>\n",
       "      <td>0.0</td>\n",
       "      <td>0</td>\n",
       "      <td>1</td>\n",
       "      <td>770.965937</td>\n",
       "      <td>0</td>\n",
       "    </tr>\n",
       "  </tbody>\n",
       "</table>\n",
       "</div>"
      ],
      "text/plain": [
       "   EXTRELNO  frequency  recency  total_value  average_value  sendout  order  \\\n",
       "0     26414        117       13      2257.13      19.291709        0      1   \n",
       "1     26419         47       56      2556.99      54.404043        1      0   \n",
       "2     26430        119       13      2299.28      19.321681        1      1   \n",
       "3     26431         14      203      2742.57     195.897857        1      0   \n",
       "4     26443        116       13      2276.95      19.628879        0      1   \n",
       "\n",
       "   initiative  unknown  complaint  direction  LANGUACODE_FR  LANGUACODE_NL  \\\n",
       "0           0        1        0.0        1.0              0              1   \n",
       "1           0        1        0.0        1.0              0              1   \n",
       "2           0        1        1.0        1.0              0              1   \n",
       "3           0        1        0.0        0.0              0              1   \n",
       "4           0        1        0.0        0.0              0              1   \n",
       "\n",
       "          CLV  churn  \n",
       "0  770.965937      0  \n",
       "1  771.030576      0  \n",
       "2  484.389230      0  \n",
       "3  777.367765      0  \n",
       "4  770.965937      0  "
      ]
     },
     "execution_count": 55,
     "metadata": {},
     "output_type": "execute_result"
    }
   ],
   "source": [
    "# check\n",
    "basetable.head()"
   ]
  },
  {
   "cell_type": "code",
   "execution_count": 56,
   "metadata": {},
   "outputs": [
    {
     "data": {
      "text/plain": [
       "(7039, 15)"
      ]
     },
     "execution_count": 56,
     "metadata": {},
     "output_type": "execute_result"
    }
   ],
   "source": [
    "# check dimensions of basetable\n",
    "basetable.shape"
   ]
  },
  {
   "cell_type": "markdown",
   "metadata": {},
   "source": [
    "# 4. Modeling"
   ]
  },
  {
   "cell_type": "markdown",
   "metadata": {},
   "source": [
    "## 4.1. Split basetable into training and test"
   ]
  },
  {
   "cell_type": "markdown",
   "metadata": {},
   "source": [
    "First, we are going to **randomly split** our basetable into a training and test set.\n",
    "        \n",
    "        training set: this data will be used to train our model\n",
    "        validation set: check which churn treshold works best\n",
    "        test set: this data will be used to get an unbiased evaluation of our model\n",
    "        \n",
    "For this specific case, we will put 70% of the data into the **training set** and 30% of the data into the **test set**."
   ]
  },
  {
   "cell_type": "code",
   "execution_count": 57,
   "metadata": {},
   "outputs": [],
   "source": [
    "# split data into train and test by making use of sklearn train_test_split function\n",
    "# set seed (random_state) equal to 33 to reproduce the same results\n",
    "basetable_train, basetable_test = train_test_split(basetable, test_size=0.3, random_state=33, stratify = basetable['churn'])"
   ]
  },
  {
   "cell_type": "code",
   "execution_count": 58,
   "metadata": {},
   "outputs": [
    {
     "name": "stdout",
     "output_type": "stream",
     "text": [
      "(2112, 15)\n",
      "(4927, 15)\n"
     ]
    }
   ],
   "source": [
    "# check dimensions\n",
    "print(basetable_test.shape)\n",
    "print(basetable_train.shape)"
   ]
  },
  {
   "cell_type": "markdown",
   "metadata": {},
   "source": [
    "Now split up into ``X`` and ``Y`` for the **fitting** of your models.\n",
    "\n",
    "**Remember**: We now have **two models**, so each model needs its own independent variables and dependent variable.\n",
    "    \n",
    "For the **churn model** we use ``all`` independent variables.  \n",
    "For the **clv model** we use ``recency``, ``frequency`` and ``monetary value`` (average + total)"
   ]
  },
  {
   "cell_type": "code",
   "execution_count": 59,
   "metadata": {},
   "outputs": [],
   "source": [
    "# get features and dependent variable for predicting churn \n",
    "train_X_churn = basetable_train.drop([\"EXTRELNO\", \"churn\", \"CLV\"], axis=1)\n",
    "train_y_churn = basetable_train[\"churn\"]\n",
    "\n",
    "test_X_churn = basetable_test.drop([\"EXTRELNO\", \"churn\", \"CLV\"], axis=1)\n",
    "test_y_churn = basetable_test[\"churn\"]"
   ]
  },
  {
   "cell_type": "code",
   "execution_count": 60,
   "metadata": {},
   "outputs": [],
   "source": [
    "# get features and dependent variable for predicting CLV\n",
    "train_X_clv = basetable_train[[\"recency\", \"frequency\", \"total_value\", \"average_value\"]]\n",
    "train_y_clv = basetable_train[\"CLV\"]\n",
    "\n",
    "test_X_clv = basetable_test[[\"recency\", \"frequency\", \"total_value\", \"average_value\"]]\n",
    "test_y_clv = basetable_test[\"CLV\"]"
   ]
  },
  {
   "cell_type": "markdown",
   "metadata": {},
   "source": [
    "## 4.2. Pre-Processing"
   ]
  },
  {
   "cell_type": "markdown",
   "metadata": {},
   "source": [
    "We will handle the **missing values** and **scaling** the same way we handled them during the churn case: replace missing values (besides recency) with ``0`` and create ``indicator`` that you imputed them."
   ]
  },
  {
   "cell_type": "code",
   "execution_count": 61,
   "metadata": {},
   "outputs": [
    {
     "data": {
      "text/plain": [
       "recency          0.0\n",
       "frequency        0.0\n",
       "total_value      0.0\n",
       "average_value    0.0\n",
       "dtype: float64"
      ]
     },
     "execution_count": 61,
     "metadata": {},
     "output_type": "execute_result"
    }
   ],
   "source": [
    "# check missing values in independent features of test set (clv model)\n",
    "test_X_clv.isnull().sum()/len(test_X_clv)"
   ]
  },
  {
   "cell_type": "code",
   "execution_count": 62,
   "metadata": {},
   "outputs": [
    {
     "data": {
      "text/plain": [
       "recency          0.0\n",
       "frequency        0.0\n",
       "total_value      0.0\n",
       "average_value    0.0\n",
       "dtype: float64"
      ]
     },
     "execution_count": 62,
     "metadata": {},
     "output_type": "execute_result"
    }
   ],
   "source": [
    "# check missing values in independent features of train set (clv model)\n",
    "train_X_clv.isnull().sum()/len(train_X_clv)"
   ]
  },
  {
   "cell_type": "code",
   "execution_count": 63,
   "metadata": {},
   "outputs": [
    {
     "data": {
      "text/plain": [
       "frequency        0.000000\n",
       "recency          0.000000\n",
       "total_value      0.000000\n",
       "average_value    0.000000\n",
       "sendout          0.000000\n",
       "order            0.000000\n",
       "initiative       0.000000\n",
       "unknown          0.000000\n",
       "complaint        0.001894\n",
       "direction        0.001894\n",
       "LANGUACODE_FR    0.000000\n",
       "LANGUACODE_NL    0.000000\n",
       "dtype: float64"
      ]
     },
     "execution_count": 63,
     "metadata": {},
     "output_type": "execute_result"
    }
   ],
   "source": [
    "# check missing values in independent features of test set (churn model)\n",
    "test_X_churn.isnull().sum()/len(test_X_churn)"
   ]
  },
  {
   "cell_type": "code",
   "execution_count": 64,
   "metadata": {},
   "outputs": [
    {
     "data": {
      "text/plain": [
       "frequency        0.000000\n",
       "recency          0.000000\n",
       "total_value      0.000000\n",
       "average_value    0.000000\n",
       "sendout          0.000000\n",
       "order            0.000000\n",
       "initiative       0.000000\n",
       "unknown          0.000000\n",
       "complaint        0.000203\n",
       "direction        0.000203\n",
       "LANGUACODE_FR    0.000000\n",
       "LANGUACODE_NL    0.000000\n",
       "dtype: float64"
      ]
     },
     "execution_count": 64,
     "metadata": {},
     "output_type": "execute_result"
    }
   ],
   "source": [
    "# check missing values in independent features of train set (churn model)\n",
    "train_X_churn.isnull().sum()/len(train_X_churn)"
   ]
  },
  {
   "cell_type": "markdown",
   "metadata": {},
   "source": [
    "As you can see there is **no imputation required** for CLV model! How is this possible? We used another **sampling definition**."
   ]
  },
  {
   "cell_type": "code",
   "execution_count": 65,
   "metadata": {},
   "outputs": [],
   "source": [
    "# only handle churn imputation\n",
    "train_X_churn['had_missing'] = train_X_churn.isnull().any(axis=1).astype(int)\n",
    "test_X_churn['had_missing'] = test_X_churn.isnull().any(axis=1).astype(int)\n",
    "\n",
    "# treatment other variables: no information used from training set ==> same code for train / test set (zero remains zero)\n",
    "train_X_churn[['complaint', 'direction']] = train_X_churn[['complaint', 'direction']].fillna(value=0)\n",
    "test_X_churn[['complaint', 'direction']] = test_X_churn[['complaint', 'direction']].fillna(value=0)"
   ]
  },
  {
   "cell_type": "markdown",
   "metadata": {},
   "source": [
    "Let's now perform the **scaling** on both sets (only features with range outside [0,1], like we did in the churn case):"
   ]
  },
  {
   "cell_type": "code",
   "execution_count": 66,
   "metadata": {},
   "outputs": [],
   "source": [
    "# scale both sets: only features with range outside [0,1] (cf. churn case)\n",
    "\n",
    "# scale numeric features from churn dataset\n",
    "scaler = MinMaxScaler()\n",
    "\n",
    "scaler.fit(train_X_churn[['total_value', 'average_value', 'recency', 'frequency']])\n",
    "\n",
    "train_X_churn[['total_value', 'average_value', 'recency', 'frequency']] = scaler.transform(train_X_churn[['total_value', 'average_value', 'recency', 'frequency']])\n",
    "test_X_churn[['total_value', 'average_value', 'recency', 'frequency']] = scaler.transform(test_X_churn[['total_value', 'average_value', 'recency', 'frequency']])"
   ]
  },
  {
   "cell_type": "code",
   "execution_count": 67,
   "metadata": {},
   "outputs": [
    {
     "name": "stderr",
     "output_type": "stream",
     "text": [
      "C:\\Users\\dvmulder\\AppData\\Local\\Temp\\ipykernel_21116\\2655930720.py:6: SettingWithCopyWarning: \n",
      "A value is trying to be set on a copy of a slice from a DataFrame.\n",
      "Try using .loc[row_indexer,col_indexer] = value instead\n",
      "\n",
      "See the caveats in the documentation: https://pandas.pydata.org/pandas-docs/stable/user_guide/indexing.html#returning-a-view-versus-a-copy\n",
      "  train_X_clv[['total_value', 'average_value', 'recency', 'frequency']] = scaler.transform(train_X_clv[['total_value', 'average_value', 'recency', 'frequency']])\n",
      "C:\\Users\\dvmulder\\AppData\\Local\\Temp\\ipykernel_21116\\2655930720.py:7: SettingWithCopyWarning: \n",
      "A value is trying to be set on a copy of a slice from a DataFrame.\n",
      "Try using .loc[row_indexer,col_indexer] = value instead\n",
      "\n",
      "See the caveats in the documentation: https://pandas.pydata.org/pandas-docs/stable/user_guide/indexing.html#returning-a-view-versus-a-copy\n",
      "  test_X_clv[['total_value', 'average_value', 'recency', 'frequency']] = scaler.transform(test_X_clv[['total_value', 'average_value', 'recency', 'frequency']])\n"
     ]
    }
   ],
   "source": [
    "# scale numeric features from clv dataset\n",
    "scaler = MinMaxScaler()\n",
    "\n",
    "scaler.fit(train_X_clv[['total_value', 'average_value', 'recency', 'frequency']])\n",
    "\n",
    "train_X_clv[['total_value', 'average_value', 'recency', 'frequency']] = scaler.transform(train_X_clv[['total_value', 'average_value', 'recency', 'frequency']])\n",
    "test_X_clv[['total_value', 'average_value', 'recency', 'frequency']] = scaler.transform(test_X_clv[['total_value', 'average_value', 'recency', 'frequency']])"
   ]
  },
  {
   "cell_type": "code",
   "execution_count": 68,
   "metadata": {},
   "outputs": [
    {
     "data": {
      "text/html": [
       "<div>\n",
       "<style scoped>\n",
       "    .dataframe tbody tr th:only-of-type {\n",
       "        vertical-align: middle;\n",
       "    }\n",
       "\n",
       "    .dataframe tbody tr th {\n",
       "        vertical-align: top;\n",
       "    }\n",
       "\n",
       "    .dataframe thead th {\n",
       "        text-align: right;\n",
       "    }\n",
       "</style>\n",
       "<table border=\"1\" class=\"dataframe\">\n",
       "  <thead>\n",
       "    <tr style=\"text-align: right;\">\n",
       "      <th></th>\n",
       "      <th>frequency</th>\n",
       "      <th>recency</th>\n",
       "      <th>total_value</th>\n",
       "      <th>average_value</th>\n",
       "      <th>sendout</th>\n",
       "      <th>order</th>\n",
       "      <th>initiative</th>\n",
       "      <th>unknown</th>\n",
       "      <th>complaint</th>\n",
       "      <th>direction</th>\n",
       "      <th>LANGUACODE_FR</th>\n",
       "      <th>LANGUACODE_NL</th>\n",
       "      <th>had_missing</th>\n",
       "    </tr>\n",
       "  </thead>\n",
       "  <tbody>\n",
       "    <tr>\n",
       "      <th>count</th>\n",
       "      <td>4927.000000</td>\n",
       "      <td>4927.000000</td>\n",
       "      <td>4927.000000</td>\n",
       "      <td>4927.000000</td>\n",
       "      <td>4927.000000</td>\n",
       "      <td>4927.000000</td>\n",
       "      <td>4927.000000</td>\n",
       "      <td>4927.000000</td>\n",
       "      <td>4927.000000</td>\n",
       "      <td>4927.000000</td>\n",
       "      <td>4927.000000</td>\n",
       "      <td>4927.000000</td>\n",
       "      <td>4927.000000</td>\n",
       "    </tr>\n",
       "    <tr>\n",
       "      <th>mean</th>\n",
       "      <td>0.092556</td>\n",
       "      <td>0.034604</td>\n",
       "      <td>0.092750</td>\n",
       "      <td>0.116818</td>\n",
       "      <td>0.588188</td>\n",
       "      <td>0.714228</td>\n",
       "      <td>0.012990</td>\n",
       "      <td>0.351329</td>\n",
       "      <td>0.100670</td>\n",
       "      <td>0.650294</td>\n",
       "      <td>0.086868</td>\n",
       "      <td>0.913132</td>\n",
       "      <td>0.000203</td>\n",
       "    </tr>\n",
       "    <tr>\n",
       "      <th>std</th>\n",
       "      <td>0.070280</td>\n",
       "      <td>0.104238</td>\n",
       "      <td>0.054027</td>\n",
       "      <td>0.140390</td>\n",
       "      <td>0.492211</td>\n",
       "      <td>0.451827</td>\n",
       "      <td>0.113241</td>\n",
       "      <td>0.477434</td>\n",
       "      <td>0.300922</td>\n",
       "      <td>0.476925</td>\n",
       "      <td>0.281671</td>\n",
       "      <td>0.281671</td>\n",
       "      <td>0.014247</td>\n",
       "    </tr>\n",
       "    <tr>\n",
       "      <th>min</th>\n",
       "      <td>0.000000</td>\n",
       "      <td>0.000000</td>\n",
       "      <td>0.000000</td>\n",
       "      <td>0.000000</td>\n",
       "      <td>0.000000</td>\n",
       "      <td>0.000000</td>\n",
       "      <td>0.000000</td>\n",
       "      <td>0.000000</td>\n",
       "      <td>0.000000</td>\n",
       "      <td>0.000000</td>\n",
       "      <td>0.000000</td>\n",
       "      <td>0.000000</td>\n",
       "      <td>0.000000</td>\n",
       "    </tr>\n",
       "    <tr>\n",
       "      <th>25%</th>\n",
       "      <td>0.031201</td>\n",
       "      <td>0.003594</td>\n",
       "      <td>0.053608</td>\n",
       "      <td>0.047292</td>\n",
       "      <td>0.000000</td>\n",
       "      <td>0.000000</td>\n",
       "      <td>0.000000</td>\n",
       "      <td>0.000000</td>\n",
       "      <td>0.000000</td>\n",
       "      <td>0.000000</td>\n",
       "      <td>0.000000</td>\n",
       "      <td>1.000000</td>\n",
       "      <td>0.000000</td>\n",
       "    </tr>\n",
       "    <tr>\n",
       "      <th>50%</th>\n",
       "      <td>0.070203</td>\n",
       "      <td>0.003594</td>\n",
       "      <td>0.105515</td>\n",
       "      <td>0.049954</td>\n",
       "      <td>1.000000</td>\n",
       "      <td>1.000000</td>\n",
       "      <td>0.000000</td>\n",
       "      <td>0.000000</td>\n",
       "      <td>0.000000</td>\n",
       "      <td>1.000000</td>\n",
       "      <td>0.000000</td>\n",
       "      <td>1.000000</td>\n",
       "      <td>0.000000</td>\n",
       "    </tr>\n",
       "    <tr>\n",
       "      <th>75%</th>\n",
       "      <td>0.162246</td>\n",
       "      <td>0.011612</td>\n",
       "      <td>0.123100</td>\n",
       "      <td>0.129882</td>\n",
       "      <td>1.000000</td>\n",
       "      <td>1.000000</td>\n",
       "      <td>0.000000</td>\n",
       "      <td>1.000000</td>\n",
       "      <td>0.000000</td>\n",
       "      <td>1.000000</td>\n",
       "      <td>0.000000</td>\n",
       "      <td>1.000000</td>\n",
       "      <td>0.000000</td>\n",
       "    </tr>\n",
       "    <tr>\n",
       "      <th>max</th>\n",
       "      <td>1.000000</td>\n",
       "      <td>1.000000</td>\n",
       "      <td>1.000000</td>\n",
       "      <td>1.000000</td>\n",
       "      <td>1.000000</td>\n",
       "      <td>1.000000</td>\n",
       "      <td>1.000000</td>\n",
       "      <td>1.000000</td>\n",
       "      <td>1.000000</td>\n",
       "      <td>1.000000</td>\n",
       "      <td>1.000000</td>\n",
       "      <td>1.000000</td>\n",
       "      <td>1.000000</td>\n",
       "    </tr>\n",
       "  </tbody>\n",
       "</table>\n",
       "</div>"
      ],
      "text/plain": [
       "         frequency      recency  total_value  average_value      sendout  \\\n",
       "count  4927.000000  4927.000000  4927.000000    4927.000000  4927.000000   \n",
       "mean      0.092556     0.034604     0.092750       0.116818     0.588188   \n",
       "std       0.070280     0.104238     0.054027       0.140390     0.492211   \n",
       "min       0.000000     0.000000     0.000000       0.000000     0.000000   \n",
       "25%       0.031201     0.003594     0.053608       0.047292     0.000000   \n",
       "50%       0.070203     0.003594     0.105515       0.049954     1.000000   \n",
       "75%       0.162246     0.011612     0.123100       0.129882     1.000000   \n",
       "max       1.000000     1.000000     1.000000       1.000000     1.000000   \n",
       "\n",
       "             order   initiative      unknown    complaint    direction  \\\n",
       "count  4927.000000  4927.000000  4927.000000  4927.000000  4927.000000   \n",
       "mean      0.714228     0.012990     0.351329     0.100670     0.650294   \n",
       "std       0.451827     0.113241     0.477434     0.300922     0.476925   \n",
       "min       0.000000     0.000000     0.000000     0.000000     0.000000   \n",
       "25%       0.000000     0.000000     0.000000     0.000000     0.000000   \n",
       "50%       1.000000     0.000000     0.000000     0.000000     1.000000   \n",
       "75%       1.000000     0.000000     1.000000     0.000000     1.000000   \n",
       "max       1.000000     1.000000     1.000000     1.000000     1.000000   \n",
       "\n",
       "       LANGUACODE_FR  LANGUACODE_NL  had_missing  \n",
       "count    4927.000000    4927.000000  4927.000000  \n",
       "mean        0.086868       0.913132     0.000203  \n",
       "std         0.281671       0.281671     0.014247  \n",
       "min         0.000000       0.000000     0.000000  \n",
       "25%         0.000000       1.000000     0.000000  \n",
       "50%         0.000000       1.000000     0.000000  \n",
       "75%         0.000000       1.000000     0.000000  \n",
       "max         1.000000       1.000000     1.000000  "
      ]
     },
     "execution_count": 68,
     "metadata": {},
     "output_type": "execute_result"
    }
   ],
   "source": [
    "# check\n",
    "train_X_churn.describe()"
   ]
  },
  {
   "cell_type": "code",
   "execution_count": 69,
   "metadata": {},
   "outputs": [
    {
     "data": {
      "text/html": [
       "<div>\n",
       "<style scoped>\n",
       "    .dataframe tbody tr th:only-of-type {\n",
       "        vertical-align: middle;\n",
       "    }\n",
       "\n",
       "    .dataframe tbody tr th {\n",
       "        vertical-align: top;\n",
       "    }\n",
       "\n",
       "    .dataframe thead th {\n",
       "        text-align: right;\n",
       "    }\n",
       "</style>\n",
       "<table border=\"1\" class=\"dataframe\">\n",
       "  <thead>\n",
       "    <tr style=\"text-align: right;\">\n",
       "      <th></th>\n",
       "      <th>recency</th>\n",
       "      <th>frequency</th>\n",
       "      <th>total_value</th>\n",
       "      <th>average_value</th>\n",
       "    </tr>\n",
       "  </thead>\n",
       "  <tbody>\n",
       "    <tr>\n",
       "      <th>count</th>\n",
       "      <td>4927.000000</td>\n",
       "      <td>4927.000000</td>\n",
       "      <td>4927.000000</td>\n",
       "      <td>4927.000000</td>\n",
       "    </tr>\n",
       "    <tr>\n",
       "      <th>mean</th>\n",
       "      <td>0.034604</td>\n",
       "      <td>0.092556</td>\n",
       "      <td>0.092750</td>\n",
       "      <td>0.116818</td>\n",
       "    </tr>\n",
       "    <tr>\n",
       "      <th>std</th>\n",
       "      <td>0.104238</td>\n",
       "      <td>0.070280</td>\n",
       "      <td>0.054027</td>\n",
       "      <td>0.140390</td>\n",
       "    </tr>\n",
       "    <tr>\n",
       "      <th>min</th>\n",
       "      <td>0.000000</td>\n",
       "      <td>0.000000</td>\n",
       "      <td>0.000000</td>\n",
       "      <td>0.000000</td>\n",
       "    </tr>\n",
       "    <tr>\n",
       "      <th>25%</th>\n",
       "      <td>0.003594</td>\n",
       "      <td>0.031201</td>\n",
       "      <td>0.053608</td>\n",
       "      <td>0.047292</td>\n",
       "    </tr>\n",
       "    <tr>\n",
       "      <th>50%</th>\n",
       "      <td>0.003594</td>\n",
       "      <td>0.070203</td>\n",
       "      <td>0.105515</td>\n",
       "      <td>0.049954</td>\n",
       "    </tr>\n",
       "    <tr>\n",
       "      <th>75%</th>\n",
       "      <td>0.011612</td>\n",
       "      <td>0.162246</td>\n",
       "      <td>0.123100</td>\n",
       "      <td>0.129882</td>\n",
       "    </tr>\n",
       "    <tr>\n",
       "      <th>max</th>\n",
       "      <td>1.000000</td>\n",
       "      <td>1.000000</td>\n",
       "      <td>1.000000</td>\n",
       "      <td>1.000000</td>\n",
       "    </tr>\n",
       "  </tbody>\n",
       "</table>\n",
       "</div>"
      ],
      "text/plain": [
       "           recency    frequency  total_value  average_value\n",
       "count  4927.000000  4927.000000  4927.000000    4927.000000\n",
       "mean      0.034604     0.092556     0.092750       0.116818\n",
       "std       0.104238     0.070280     0.054027       0.140390\n",
       "min       0.000000     0.000000     0.000000       0.000000\n",
       "25%       0.003594     0.031201     0.053608       0.047292\n",
       "50%       0.003594     0.070203     0.105515       0.049954\n",
       "75%       0.011612     0.162246     0.123100       0.129882\n",
       "max       1.000000     1.000000     1.000000       1.000000"
      ]
     },
     "execution_count": 69,
     "metadata": {},
     "output_type": "execute_result"
    }
   ],
   "source": [
    "# check\n",
    "train_X_clv.describe()"
   ]
  },
  {
   "cell_type": "markdown",
   "metadata": {},
   "source": [
    "## 4.3. Logistic Regression for Churn"
   ]
  },
  {
   "cell_type": "markdown",
   "metadata": {},
   "source": [
    "Next, we will fit a **logistic regression model** onto the training set. \n",
    "This model will try to find a relationship between the independent variables and the dependent variable (``churn``).\n",
    "\n",
    "Use the fitted model on the test set to get $p(no  Churn)$ for each donor.    "
   ]
  },
  {
   "cell_type": "code",
   "execution_count": 70,
   "metadata": {},
   "outputs": [
    {
     "data": {
      "text/html": [
       "<style>#sk-container-id-1 {color: black;background-color: white;}#sk-container-id-1 pre{padding: 0;}#sk-container-id-1 div.sk-toggleable {background-color: white;}#sk-container-id-1 label.sk-toggleable__label {cursor: pointer;display: block;width: 100%;margin-bottom: 0;padding: 0.3em;box-sizing: border-box;text-align: center;}#sk-container-id-1 label.sk-toggleable__label-arrow:before {content: \"▸\";float: left;margin-right: 0.25em;color: #696969;}#sk-container-id-1 label.sk-toggleable__label-arrow:hover:before {color: black;}#sk-container-id-1 div.sk-estimator:hover label.sk-toggleable__label-arrow:before {color: black;}#sk-container-id-1 div.sk-toggleable__content {max-height: 0;max-width: 0;overflow: hidden;text-align: left;background-color: #f0f8ff;}#sk-container-id-1 div.sk-toggleable__content pre {margin: 0.2em;color: black;border-radius: 0.25em;background-color: #f0f8ff;}#sk-container-id-1 input.sk-toggleable__control:checked~div.sk-toggleable__content {max-height: 200px;max-width: 100%;overflow: auto;}#sk-container-id-1 input.sk-toggleable__control:checked~label.sk-toggleable__label-arrow:before {content: \"▾\";}#sk-container-id-1 div.sk-estimator input.sk-toggleable__control:checked~label.sk-toggleable__label {background-color: #d4ebff;}#sk-container-id-1 div.sk-label input.sk-toggleable__control:checked~label.sk-toggleable__label {background-color: #d4ebff;}#sk-container-id-1 input.sk-hidden--visually {border: 0;clip: rect(1px 1px 1px 1px);clip: rect(1px, 1px, 1px, 1px);height: 1px;margin: -1px;overflow: hidden;padding: 0;position: absolute;width: 1px;}#sk-container-id-1 div.sk-estimator {font-family: monospace;background-color: #f0f8ff;border: 1px dotted black;border-radius: 0.25em;box-sizing: border-box;margin-bottom: 0.5em;}#sk-container-id-1 div.sk-estimator:hover {background-color: #d4ebff;}#sk-container-id-1 div.sk-parallel-item::after {content: \"\";width: 100%;border-bottom: 1px solid gray;flex-grow: 1;}#sk-container-id-1 div.sk-label:hover label.sk-toggleable__label {background-color: #d4ebff;}#sk-container-id-1 div.sk-serial::before {content: \"\";position: absolute;border-left: 1px solid gray;box-sizing: border-box;top: 0;bottom: 0;left: 50%;z-index: 0;}#sk-container-id-1 div.sk-serial {display: flex;flex-direction: column;align-items: center;background-color: white;padding-right: 0.2em;padding-left: 0.2em;position: relative;}#sk-container-id-1 div.sk-item {position: relative;z-index: 1;}#sk-container-id-1 div.sk-parallel {display: flex;align-items: stretch;justify-content: center;background-color: white;position: relative;}#sk-container-id-1 div.sk-item::before, #sk-container-id-1 div.sk-parallel-item::before {content: \"\";position: absolute;border-left: 1px solid gray;box-sizing: border-box;top: 0;bottom: 0;left: 50%;z-index: -1;}#sk-container-id-1 div.sk-parallel-item {display: flex;flex-direction: column;z-index: 1;position: relative;background-color: white;}#sk-container-id-1 div.sk-parallel-item:first-child::after {align-self: flex-end;width: 50%;}#sk-container-id-1 div.sk-parallel-item:last-child::after {align-self: flex-start;width: 50%;}#sk-container-id-1 div.sk-parallel-item:only-child::after {width: 0;}#sk-container-id-1 div.sk-dashed-wrapped {border: 1px dashed gray;margin: 0 0.4em 0.5em 0.4em;box-sizing: border-box;padding-bottom: 0.4em;background-color: white;}#sk-container-id-1 div.sk-label label {font-family: monospace;font-weight: bold;display: inline-block;line-height: 1.2em;}#sk-container-id-1 div.sk-label-container {text-align: center;}#sk-container-id-1 div.sk-container {/* jupyter's `normalize.less` sets `[hidden] { display: none; }` but bootstrap.min.css set `[hidden] { display: none !important; }` so we also need the `!important` here to be able to override the default hidden behavior on the sphinx rendered scikit-learn.org. See: https://github.com/scikit-learn/scikit-learn/issues/21755 */display: inline-block !important;position: relative;}#sk-container-id-1 div.sk-text-repr-fallback {display: none;}</style><div id=\"sk-container-id-1\" class=\"sk-top-container\"><div class=\"sk-text-repr-fallback\"><pre>LogisticRegression()</pre><b>In a Jupyter environment, please rerun this cell to show the HTML representation or trust the notebook. <br />On GitHub, the HTML representation is unable to render, please try loading this page with nbviewer.org.</b></div><div class=\"sk-container\" hidden><div class=\"sk-item\"><div class=\"sk-estimator sk-toggleable\"><input class=\"sk-toggleable__control sk-hidden--visually\" id=\"sk-estimator-id-1\" type=\"checkbox\" checked><label for=\"sk-estimator-id-1\" class=\"sk-toggleable__label sk-toggleable__label-arrow\">LogisticRegression</label><div class=\"sk-toggleable__content\"><pre>LogisticRegression()</pre></div></div></div></div></div>"
      ],
      "text/plain": [
       "LogisticRegression()"
      ]
     },
     "execution_count": 70,
     "metadata": {},
     "output_type": "execute_result"
    }
   ],
   "source": [
    "# initialize the model\n",
    "churn_model = LogisticRegression()\n",
    "\n",
    "# fit model on training data\n",
    "churn_model.fit(X = train_X_churn, y = train_y_churn)"
   ]
  },
  {
   "cell_type": "code",
   "execution_count": 71,
   "metadata": {},
   "outputs": [
    {
     "data": {
      "text/plain": [
       "array([[0.92798023, 0.07201977],\n",
       "       [0.93647656, 0.06352344],\n",
       "       [0.94604649, 0.05395351],\n",
       "       [0.97146869, 0.02853131],\n",
       "       [0.98070234, 0.01929766],\n",
       "       [0.98040563, 0.01959437],\n",
       "       [0.93982183, 0.06017817],\n",
       "       [0.92513662, 0.07486338],\n",
       "       [0.95274238, 0.04725762],\n",
       "       [0.93774833, 0.06225167]])"
      ]
     },
     "execution_count": 71,
     "metadata": {},
     "output_type": "execute_result"
    }
   ],
   "source": [
    "# get the predicted probabilities on the test set\n",
    "test_churn_preds = churn_model.predict_proba(test_X_churn)\n",
    "\n",
    "# check first 10 predicted probabilities: first column: predicted prob non-churn, second column: predicted prob churn\n",
    "test_churn_preds[:10]"
   ]
  },
  {
   "cell_type": "markdown",
   "metadata": {},
   "source": [
    "We only need the probability of **non-churning**, so select predictions for churn = 0 (i.e. probability of no churn) and **plot** the distribution of the probailities:"
   ]
  },
  {
   "cell_type": "code",
   "execution_count": 72,
   "metadata": {},
   "outputs": [],
   "source": [
    "# select first column\n",
    "p_non_churn = test_churn_preds[:,0]"
   ]
  },
  {
   "cell_type": "code",
   "execution_count": 73,
   "metadata": {},
   "outputs": [
    {
     "data": {
      "text/plain": [
       "array([0.92798023, 0.93647656, 0.94604649, ..., 0.94707076, 0.98057798,\n",
       "       0.95910123])"
      ]
     },
     "execution_count": 73,
     "metadata": {},
     "output_type": "execute_result"
    }
   ],
   "source": [
    "# show\n",
    "p_non_churn"
   ]
  },
  {
   "cell_type": "code",
   "execution_count": 74,
   "metadata": {},
   "outputs": [
    {
     "data": {
      "image/png": "[encoded data removed]",
      "text/plain": [
       "<Figure size 1000x600 with 1 Axes>"
      ]
     },
     "metadata": {},
     "output_type": "display_data"
    }
   ],
   "source": [
    "# plot distribution of probabilities\n",
    "plt.figure(figsize=(10, 6))\n",
    "sns.histplot(p_non_churn, stat=\"density\", bins=50, color=sns.color_palette(\"Set2\")[2])\n",
    "sns.kdeplot(p_non_churn, color='crimson')\n",
    "plt.title(\"Distribution of Non-Churn Probabilities\")\n",
    "plt.xlim(0, 1)\n",
    "plt.show()"
   ]
  },
  {
   "cell_type": "markdown",
   "metadata": {},
   "source": [
    "## 4.4. Linear Regression for CLV"
   ]
  },
  {
   "cell_type": "markdown",
   "metadata": {},
   "source": [
    "Next, we are going to train a model to **predict CLV**.  \n",
    "This model wil use the ``RFM variables`` as its features and will **only** be trained on examples with a **positive CLV**.  \n",
    "We only use those positive instances as the bias caused by the zeros is exactly what we're trying to solve: we want to **predict CLV if customers do not churn!**"
   ]
  },
  {
   "cell_type": "code",
   "execution_count": 75,
   "metadata": {},
   "outputs": [
    {
     "data": {
      "text/html": [
       "<style>#sk-container-id-2 {color: black;background-color: white;}#sk-container-id-2 pre{padding: 0;}#sk-container-id-2 div.sk-toggleable {background-color: white;}#sk-container-id-2 label.sk-toggleable__label {cursor: pointer;display: block;width: 100%;margin-bottom: 0;padding: 0.3em;box-sizing: border-box;text-align: center;}#sk-container-id-2 label.sk-toggleable__label-arrow:before {content: \"▸\";float: left;margin-right: 0.25em;color: #696969;}#sk-container-id-2 label.sk-toggleable__label-arrow:hover:before {color: black;}#sk-container-id-2 div.sk-estimator:hover label.sk-toggleable__label-arrow:before {color: black;}#sk-container-id-2 div.sk-toggleable__content {max-height: 0;max-width: 0;overflow: hidden;text-align: left;background-color: #f0f8ff;}#sk-container-id-2 div.sk-toggleable__content pre {margin: 0.2em;color: black;border-radius: 0.25em;background-color: #f0f8ff;}#sk-container-id-2 input.sk-toggleable__control:checked~div.sk-toggleable__content {max-height: 200px;max-width: 100%;overflow: auto;}#sk-container-id-2 input.sk-toggleable__control:checked~label.sk-toggleable__label-arrow:before {content: \"▾\";}#sk-container-id-2 div.sk-estimator input.sk-toggleable__control:checked~label.sk-toggleable__label {background-color: #d4ebff;}#sk-container-id-2 div.sk-label input.sk-toggleable__control:checked~label.sk-toggleable__label {background-color: #d4ebff;}#sk-container-id-2 input.sk-hidden--visually {border: 0;clip: rect(1px 1px 1px 1px);clip: rect(1px, 1px, 1px, 1px);height: 1px;margin: -1px;overflow: hidden;padding: 0;position: absolute;width: 1px;}#sk-container-id-2 div.sk-estimator {font-family: monospace;background-color: #f0f8ff;border: 1px dotted black;border-radius: 0.25em;box-sizing: border-box;margin-bottom: 0.5em;}#sk-container-id-2 div.sk-estimator:hover {background-color: #d4ebff;}#sk-container-id-2 div.sk-parallel-item::after {content: \"\";width: 100%;border-bottom: 1px solid gray;flex-grow: 1;}#sk-container-id-2 div.sk-label:hover label.sk-toggleable__label {background-color: #d4ebff;}#sk-container-id-2 div.sk-serial::before {content: \"\";position: absolute;border-left: 1px solid gray;box-sizing: border-box;top: 0;bottom: 0;left: 50%;z-index: 0;}#sk-container-id-2 div.sk-serial {display: flex;flex-direction: column;align-items: center;background-color: white;padding-right: 0.2em;padding-left: 0.2em;position: relative;}#sk-container-id-2 div.sk-item {position: relative;z-index: 1;}#sk-container-id-2 div.sk-parallel {display: flex;align-items: stretch;justify-content: center;background-color: white;position: relative;}#sk-container-id-2 div.sk-item::before, #sk-container-id-2 div.sk-parallel-item::before {content: \"\";position: absolute;border-left: 1px solid gray;box-sizing: border-box;top: 0;bottom: 0;left: 50%;z-index: -1;}#sk-container-id-2 div.sk-parallel-item {display: flex;flex-direction: column;z-index: 1;position: relative;background-color: white;}#sk-container-id-2 div.sk-parallel-item:first-child::after {align-self: flex-end;width: 50%;}#sk-container-id-2 div.sk-parallel-item:last-child::after {align-self: flex-start;width: 50%;}#sk-container-id-2 div.sk-parallel-item:only-child::after {width: 0;}#sk-container-id-2 div.sk-dashed-wrapped {border: 1px dashed gray;margin: 0 0.4em 0.5em 0.4em;box-sizing: border-box;padding-bottom: 0.4em;background-color: white;}#sk-container-id-2 div.sk-label label {font-family: monospace;font-weight: bold;display: inline-block;line-height: 1.2em;}#sk-container-id-2 div.sk-label-container {text-align: center;}#sk-container-id-2 div.sk-container {/* jupyter's `normalize.less` sets `[hidden] { display: none; }` but bootstrap.min.css set `[hidden] { display: none !important; }` so we also need the `!important` here to be able to override the default hidden behavior on the sphinx rendered scikit-learn.org. See: https://github.com/scikit-learn/scikit-learn/issues/21755 */display: inline-block !important;position: relative;}#sk-container-id-2 div.sk-text-repr-fallback {display: none;}</style><div id=\"sk-container-id-2\" class=\"sk-top-container\"><div class=\"sk-text-repr-fallback\"><pre>LinearRegression()</pre><b>In a Jupyter environment, please rerun this cell to show the HTML representation or trust the notebook. <br />On GitHub, the HTML representation is unable to render, please try loading this page with nbviewer.org.</b></div><div class=\"sk-container\" hidden><div class=\"sk-item\"><div class=\"sk-estimator sk-toggleable\"><input class=\"sk-toggleable__control sk-hidden--visually\" id=\"sk-estimator-id-2\" type=\"checkbox\" checked><label for=\"sk-estimator-id-2\" class=\"sk-toggleable__label sk-toggleable__label-arrow\">LinearRegression</label><div class=\"sk-toggleable__content\"><pre>LinearRegression()</pre></div></div></div></div></div>"
      ],
      "text/plain": [
       "LinearRegression()"
      ]
     },
     "execution_count": 75,
     "metadata": {},
     "output_type": "execute_result"
    }
   ],
   "source": [
    "# initialize the model\n",
    "clv_model = LinearRegression()\n",
    "\n",
    "# train the model on the training examples with positive CLV\n",
    "clv_model.fit(X=train_X_clv[train_y_churn == 0], y=train_y_clv[train_y_churn == 0])"
   ]
  },
  {
   "cell_type": "code",
   "execution_count": 76,
   "metadata": {},
   "outputs": [],
   "source": [
    "# predict the CLV values for the test set\n",
    "test_clv_preds = clv_model.predict(X=test_X_clv)"
   ]
  },
  {
   "cell_type": "markdown",
   "metadata": {},
   "source": [
    "We will now **adjust** those predictions for donors we assume to be churners. As you saw during the churn case, this treshold very important. We now simply use the **standard 50% cut-off**, but you can try out multiple tresholds and select the best one. To do so, you will need a **validation set** as you saw during the acquisition case."
   ]
  },
  {
   "cell_type": "code",
   "execution_count": 77,
   "metadata": {},
   "outputs": [],
   "source": [
    "# threshold predictions to get predictions for clv greater than or equal to zero\n",
    "predicted_retention = np.where(p_non_churn>0.5,1,0)\n",
    "\n",
    "# multiply with predicted CLV values to correct for customers with CLV = 0\n",
    "test_clv_preds_corrected = test_clv_preds * predicted_retention"
   ]
  },
  {
   "cell_type": "code",
   "execution_count": 78,
   "metadata": {},
   "outputs": [
    {
     "name": "stdout",
     "output_type": "stream",
     "text": [
      "non-churn prob: 0.93 -- original clv: 720.58 -- corrected clv: 720.58\n",
      "non-churn prob: 0.94 -- original clv: 815.14 -- corrected clv: 815.14\n",
      "non-churn prob: 0.95 -- original clv: 767.63 -- corrected clv: 767.63\n",
      "non-churn prob: 0.97 -- original clv: 635.29 -- corrected clv: 635.29\n",
      "non-churn prob: 0.98 -- original clv: 716.55 -- corrected clv: 716.55\n",
      "non-churn prob: 0.98 -- original clv: 821.66 -- corrected clv: 821.66\n",
      "non-churn prob: 0.94 -- original clv: 697.25 -- corrected clv: 697.25\n",
      "non-churn prob: 0.93 -- original clv: 792.49 -- corrected clv: 792.49\n",
      "non-churn prob: 0.95 -- original clv: 691.97 -- corrected clv: 691.97\n",
      "non-churn prob: 0.94 -- original clv: 781.47 -- corrected clv: 781.47\n"
     ]
    }
   ],
   "source": [
    "# inspect original and corrected CLV values for first 10 test examples\n",
    "for i in range(10):\n",
    "    print(\"non-churn prob: %s -- original clv: %s -- corrected clv: %s\" %(round(test_churn_preds[i, 0], 2), round(test_clv_preds[i], 2), round(test_clv_preds_corrected[i], 2)))"
   ]
  },
  {
   "cell_type": "markdown",
   "metadata": {},
   "source": [
    "# 5. Evaluation"
   ]
  },
  {
   "cell_type": "markdown",
   "metadata": {},
   "source": [
    "Evaluate by calculating ``MAE`` and ``RMSE`` and comparing against a **baseline model**."
   ]
  },
  {
   "cell_type": "code",
   "execution_count": 79,
   "metadata": {},
   "outputs": [
    {
     "name": "stdout",
     "output_type": "stream",
     "text": [
      "the RMSE is: 377.56366738578583\n",
      "the MAE is: 143.90472336620482\n"
     ]
    }
   ],
   "source": [
    "# get the MAE and RMSE of model\n",
    "rmse = mean_squared_error(y_true=test_y_clv, y_pred=test_clv_preds_corrected) ** 0.5\n",
    "mae = mean_absolute_error(y_true=test_y_clv, y_pred=test_clv_preds_corrected)\n",
    "\n",
    "print(\"the RMSE is: %s\" %rmse)\n",
    "print(\"the MAE is: %s\" %mae)"
   ]
  },
  {
   "cell_type": "code",
   "execution_count": 80,
   "metadata": {},
   "outputs": [
    {
     "name": "stdout",
     "output_type": "stream",
     "text": [
      "the RMSE of random model is: 437.1804330075091\n",
      "the MAE of random model is: 197.47764227684328\n"
     ]
    }
   ],
   "source": [
    "# get the MAE and RMSE of baseline model (here: the mean of training set)\n",
    "rmse = mean_squared_error(y_true=test_y_clv, y_pred=[np.mean(train_y_clv) for i in range(len(test_y_clv))]) ** 0.5\n",
    "mae = mean_absolute_error(y_true=test_y_clv, y_pred=[np.mean(train_y_clv) for i in range(len(test_y_clv))])\n",
    "\n",
    "print(\"the RMSE of random model is: %s\" %rmse)\n",
    "print(\"the MAE of random model is: %s\" %mae)"
   ]
  },
  {
   "cell_type": "code",
   "execution_count": 81,
   "metadata": {},
   "outputs": [
    {
     "data": {
      "text/plain": [
       "685.8117352149835"
      ]
     },
     "execution_count": 81,
     "metadata": {},
     "output_type": "execute_result"
    }
   ],
   "source": [
    "# check mean CLV value of donors in training set\n",
    "np.mean(train_y_clv) "
   ]
  },
  {
   "cell_type": "code",
   "execution_count": 82,
   "metadata": {},
   "outputs": [
    {
     "name": "stdout",
     "output_type": "stream",
     "text": [
      "the RMSE of random model is: 442.299560181064\n",
      "the MAE of random model is: 155.439306512303\n"
     ]
    }
   ],
   "source": [
    "# get the MAE and RMSE of baseline model (here: the median of training set)\n",
    "rmse = mean_squared_error(y_true=test_y_clv, y_pred=[np.median(train_y_clv) for i in range(len(test_y_clv))]) ** 0.5\n",
    "mae = mean_absolute_error(y_true=test_y_clv, y_pred=[np.median(train_y_clv) for i in range(len(test_y_clv))])\n",
    "\n",
    "print(\"the RMSE of random model is: %s\" %rmse)\n",
    "print(\"the MAE of random model is: %s\" %mae)"
   ]
  },
  {
   "cell_type": "code",
   "execution_count": 83,
   "metadata": {},
   "outputs": [
    {
     "data": {
      "text/plain": [
       "770.9659366739965"
      ]
     },
     "execution_count": 83,
     "metadata": {},
     "output_type": "execute_result"
    }
   ],
   "source": [
    "# check median CLV value of donors in training set\n",
    "np.median(train_y_clv) "
   ]
  },
  {
   "cell_type": "markdown",
   "metadata": {},
   "source": [
    "Performance is only slightly better than using baseline model. This is probably because it would have even been better to use a **three-phase model** which models $P(defaultValue)$ seperately."
   ]
  },
  {
   "cell_type": "code",
   "execution_count": 84,
   "metadata": {},
   "outputs": [],
   "source": [
    "# compare to migration modeling technique\n",
    "true = np.sum(test_y_clv)\n",
    "est_clv = np.sum(test_clv_preds_corrected)"
   ]
  },
  {
   "cell_type": "code",
   "execution_count": 85,
   "metadata": {},
   "outputs": [
    {
     "data": {
      "text/plain": [
       "0.021881032663575863"
      ]
     },
     "execution_count": 85,
     "metadata": {},
     "output_type": "execute_result"
    }
   ],
   "source": [
    "(est_clv-true)/true"
   ]
  },
  {
   "cell_type": "markdown",
   "metadata": {},
   "source": [
    "We are able to predict the **overall CLV** in the next 3 years with a **2.0% error rate**. This means that this approach approximately has **the same performance as migration modeling** on the aggregated level! \n",
    "\n",
    "Let's visualize how well our model performs by plotting the true CLV values next to our predicted CLV values. "
   ]
  },
  {
   "cell_type": "code",
   "execution_count": 86,
   "metadata": {},
   "outputs": [
    {
     "data": {
      "image/png": "[encoded data removed]",
      "text/plain": [
       "<Figure size 800x500 with 1 Axes>"
      ]
     },
     "metadata": {},
     "output_type": "display_data"
    }
   ],
   "source": [
    "# plot predictions versus real values\n",
    "plt.figure(figsize=(8, 5))\n",
    "plt.hist(x=test_y_clv, bins=10, range=[0, 1500], alpha=0.5,  label=\"True CLV values\")\n",
    "plt.hist(x=test_clv_preds_corrected, bins=10, range=[0, 1500], alpha=0.4, label=\"Predicted CLV values\")\n",
    "plt.legend(loc=\"upper right\")\n",
    "plt.xlabel(\"CLV values\")\n",
    "plt.ylabel(\"Frequency\")\n",
    "plt.show()"
   ]
  },
  {
   "cell_type": "markdown",
   "metadata": {},
   "source": [
    "**A little extra**: you can **order** the customers that have the highest predicted loss $(p(Churn) * E(CLV))$. Doing so, you know what customers will be **the most costly to lose**. These are the customers you need to focus on."
   ]
  },
  {
   "cell_type": "code",
   "execution_count": 87,
   "metadata": {},
   "outputs": [
    {
     "data": {
      "image/png": "[encoded data removed]",
      "text/plain": [
       "<Figure size 800x500 with 1 Axes>"
      ]
     },
     "metadata": {},
     "output_type": "display_data"
    }
   ],
   "source": [
    "# plot sorted expected loss\n",
    "test_expected_loss = test_clv_preds * test_churn_preds[:, 1]\n",
    "\n",
    "plt.figure(figsize=(8, 5))\n",
    "plt.plot(range(len(test_expected_loss)), sorted(test_expected_loss, reverse=True))\n",
    "plt.title(\"Expected Loss\")\n",
    "plt.xlabel(\"Customer\")\n",
    "plt.ylabel(\"Expected Loss\")\n",
    "plt.show()"
   ]
  }
 ],
 "metadata": {
  "kernelspec": {
   "display_name": "Python 3 (ipykernel)",
   "language": "python",
   "name": "python3"
  },
  "language_info": {
   "codemirror_mode": {
    "name": "ipython",
    "version": 3
   },
   "file_extension": ".py",
   "mimetype": "text/x-python",
   "name": "python",
   "nbconvert_exporter": "python",
   "pygments_lexer": "ipython3",
   "version": "3.9.13"
  }
 },
 "nbformat": 4,
 "nbformat_minor": 2
}
