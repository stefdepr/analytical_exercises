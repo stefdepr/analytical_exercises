{
 "cells": [
  {
   "cell_type": "markdown",
   "metadata": {},
   "source": [
    "# CLV Data Mining"
   ]
  },
  {
   "cell_type": "code",
   "execution_count": 1,
   "metadata": {},
   "outputs": [],
   "source": [
    "# import the required packages\n",
    "import pandas as pd \n",
    "import numpy as np\n",
    "\n",
    "import matplotlib.pyplot as plt\n",
    "import seaborn as sns\n",
    "\n",
    "from sklearn.preprocessing import LabelEncoder, MinMaxScaler\n",
    "from sklearn.model_selection import train_test_split\n",
    "from sklearn.linear_model import LogisticRegression, LinearRegression\n",
    "from sklearn.metrics import mean_absolute_error, mean_squared_error\n",
    "\n",
    "from datetime import datetime"
   ]
  },
  {
   "cell_type": "markdown",
   "metadata": {},
   "source": [
    "So far the **migration modeling**. Time to get back to our **data mining** methodology. \n",
    "\n",
    "We now know what we should do: model CLV during 2004-2006.\n",
    "\n",
    "We are going to create a **predictive model** with the same independent variables as in the **churn case**.\n",
    "\n",
    "The difference this time is our **dependent variable**: ``CLV``. \n",
    "We will give you the code to create the independent features, since you already learned how to model them during the churn case.\n",
    "\n",
    "**Two models** will be created:  \n",
    "- A classification churn model  \n",
    "- A regression clv model\n",
    "\n",
    "Because if we would simply regress CLV, our model would be **biased** towards those zeros, leading to a consistent underestimation.\n",
    "\n",
    "We are going to **predict CLV if customers did not churn**.\n",
    "\n",
    "(See theory)"
   ]
  },
  {
   "cell_type": "markdown",
   "metadata": {},
   "source": [
    "# 1. Data Exploration"
   ]
  },
  {
   "cell_type": "code",
   "execution_count": 2,
   "metadata": {},
   "outputs": [],
   "source": [
    "# import all the datasets\n",
    "extrel = pd.read_csv(\"./data/extrel.csv\")\n",
    "extrelty = pd.read_csv(\"./data/extrelty.csv\")\n",
    "communication = pd.read_csv(\"./data/communication.csv\")\n",
    "payhistory = pd.read_csv(\"./data/payhistory.csv\")\n",
    "nameaddr = pd.read_csv(\"./data/nameaddr.csv\")\n",
    "comclas = pd.read_csv(\"./data/comclas.csv\")\n",
    "commediu = pd.read_csv(\"./data/commediu.csv\")"
   ]
  },
  {
   "cell_type": "code",
   "execution_count": 3,
   "metadata": {
    "scrolled": true
   },
   "outputs": [
    {
     "data": {
      "text/plain": "   EXTRELNO EXRELACTCD  EXTRELSTDT  EXRELDATEN\n0     26414         CT  2008-01-30         NaT\n1     26419         FP  2005-02-26         NaT\n2     26424         FP  2005-02-26  2009-12-21\n3     26430         FP  2005-02-26  2019-01-28\n4     26430         CT  2010-03-04         NaT",
      "text/html": "<div>\n<style scoped>\n    .dataframe tbody tr th:only-of-type {\n        vertical-align: middle;\n    }\n\n    .dataframe tbody tr th {\n        vertical-align: top;\n    }\n\n    .dataframe thead th {\n        text-align: right;\n    }\n</style>\n<table border=\"1\" class=\"dataframe\">\n  <thead>\n    <tr style=\"text-align: right;\">\n      <th></th>\n      <th>EXTRELNO</th>\n      <th>EXRELACTCD</th>\n      <th>EXTRELSTDT</th>\n      <th>EXRELDATEN</th>\n    </tr>\n  </thead>\n  <tbody>\n    <tr>\n      <th>0</th>\n      <td>26414</td>\n      <td>CT</td>\n      <td>2008-01-30</td>\n      <td>NaT</td>\n    </tr>\n    <tr>\n      <th>1</th>\n      <td>26419</td>\n      <td>FP</td>\n      <td>2005-02-26</td>\n      <td>NaT</td>\n    </tr>\n    <tr>\n      <th>2</th>\n      <td>26424</td>\n      <td>FP</td>\n      <td>2005-02-26</td>\n      <td>2009-12-21</td>\n    </tr>\n    <tr>\n      <th>3</th>\n      <td>26430</td>\n      <td>FP</td>\n      <td>2005-02-26</td>\n      <td>2019-01-28</td>\n    </tr>\n    <tr>\n      <th>4</th>\n      <td>26430</td>\n      <td>CT</td>\n      <td>2010-03-04</td>\n      <td>NaT</td>\n    </tr>\n  </tbody>\n</table>\n</div>"
     },
     "execution_count": 3,
     "metadata": {},
     "output_type": "execute_result"
    }
   ],
   "source": [
    "# inspect first observation extrel\n",
    "extrel.head()"
   ]
  },
  {
   "cell_type": "code",
   "execution_count": 4,
   "metadata": {
    "scrolled": false
   },
   "outputs": [
    {
     "data": {
      "text/plain": [
       "EXTRELNO       int64\n",
       "EXRELACTCD    object\n",
       "EXTRELSTDT    object\n",
       "EXRELDATEN    object\n",
       "dtype: object"
      ]
     },
     "execution_count": 4,
     "metadata": {},
     "output_type": "execute_result"
    }
   ],
   "source": [
    "# inspect dtypes of columns\n",
    "extrel.dtypes"
   ]
  },
  {
   "cell_type": "code",
   "execution_count": 5,
   "metadata": {},
   "outputs": [
    {
     "data": {
      "text/plain": [
       "(26689, 4)"
      ]
     },
     "execution_count": 5,
     "metadata": {},
     "output_type": "execute_result"
    }
   ],
   "source": [
    "# inspect shape\n",
    "extrel.shape"
   ]
  },
  {
   "cell_type": "code",
   "execution_count": 6,
   "metadata": {},
   "outputs": [
    {
     "data": {
      "text/html": [
       "<div>\n",
       "<style scoped>\n",
       "    .dataframe tbody tr th:only-of-type {\n",
       "        vertical-align: middle;\n",
       "    }\n",
       "\n",
       "    .dataframe tbody tr th {\n",
       "        vertical-align: top;\n",
       "    }\n",
       "\n",
       "    .dataframe thead th {\n",
       "        text-align: right;\n",
       "    }\n",
       "</style>\n",
       "<table border=\"1\" class=\"dataframe\">\n",
       "  <thead>\n",
       "    <tr style=\"text-align: right;\">\n",
       "      <th></th>\n",
       "      <th>PID</th>\n",
       "      <th>PDATE</th>\n",
       "      <th>PAMT</th>\n",
       "      <th>EXTRELNO</th>\n",
       "      <th>PAYTYPECD</th>\n",
       "      <th>STATUS</th>\n",
       "    </tr>\n",
       "  </thead>\n",
       "  <tbody>\n",
       "    <tr>\n",
       "      <th>0</th>\n",
       "      <td>38</td>\n",
       "      <td>2006-12-28</td>\n",
       "      <td>9.57</td>\n",
       "      <td>19</td>\n",
       "      <td>X</td>\n",
       "      <td>CO</td>\n",
       "    </tr>\n",
       "    <tr>\n",
       "      <th>1</th>\n",
       "      <td>39</td>\n",
       "      <td>2006-12-28</td>\n",
       "      <td>41.32</td>\n",
       "      <td>20</td>\n",
       "      <td>X</td>\n",
       "      <td>CO</td>\n",
       "    </tr>\n",
       "    <tr>\n",
       "      <th>2</th>\n",
       "      <td>40</td>\n",
       "      <td>2006-12-28</td>\n",
       "      <td>13.10</td>\n",
       "      <td>20</td>\n",
       "      <td>X</td>\n",
       "      <td>CO</td>\n",
       "    </tr>\n",
       "    <tr>\n",
       "      <th>3</th>\n",
       "      <td>54091</td>\n",
       "      <td>2006-12-29</td>\n",
       "      <td>2.02</td>\n",
       "      <td>20</td>\n",
       "      <td>X</td>\n",
       "      <td>CO</td>\n",
       "    </tr>\n",
       "    <tr>\n",
       "      <th>4</th>\n",
       "      <td>104480</td>\n",
       "      <td>2007-05-16</td>\n",
       "      <td>0.50</td>\n",
       "      <td>20</td>\n",
       "      <td>D</td>\n",
       "      <td>OK</td>\n",
       "    </tr>\n",
       "  </tbody>\n",
       "</table>\n",
       "</div>"
      ],
      "text/plain": [
       "      PID       PDATE   PAMT  EXTRELNO PAYTYPECD STATUS\n",
       "0      38  2006-12-28   9.57        19         X     CO\n",
       "1      39  2006-12-28  41.32        20         X     CO\n",
       "2      40  2006-12-28  13.10        20         X     CO\n",
       "3   54091  2006-12-29   2.02        20         X     CO\n",
       "4  104480  2007-05-16   0.50        20         D     OK"
      ]
     },
     "execution_count": 6,
     "metadata": {},
     "output_type": "execute_result"
    }
   ],
   "source": [
    "# inspect payhistory\n",
    "payhistory.head()"
   ]
  },
  {
   "cell_type": "code",
   "execution_count": 7,
   "metadata": {},
   "outputs": [
    {
     "data": {
      "text/plain": [
       "(1205720, 6)"
      ]
     },
     "execution_count": 7,
     "metadata": {},
     "output_type": "execute_result"
    }
   ],
   "source": [
    "# inspect shape\n",
    "payhistory.shape"
   ]
  },
  {
   "cell_type": "markdown",
   "metadata": {},
   "source": [
    "## 2. Time Window"
   ]
  },
  {
   "cell_type": "code",
   "execution_count": 4,
   "metadata": {},
   "outputs": [],
   "source": [
    "# define the model building time window\n",
    "end_independent = datetime.strptime(\"22/11/2016\", \"%d/%m/%Y\")\n",
    "start_dependent = datetime.strptime(\"01/01/2017\", \"%d/%m/%Y\")\n",
    "end_dependent = datetime.strptime(\"31/12/2019\", \"%d/%m/%Y\")"
   ]
  },
  {
   "cell_type": "markdown",
   "metadata": {},
   "source": [
    "# 3. Data Preparation"
   ]
  },
  {
   "cell_type": "markdown",
   "metadata": {},
   "source": [
    "## 3.1. Customers"
   ]
  },
  {
   "cell_type": "markdown",
   "metadata": {},
   "source": [
    "We need to take a relevant subset of modelable customers just as we did in the churn case. Therefore we have to make **some constraints** in this CLV-case:\n",
    "\n",
    "1. The donors have to be **active during the independent period**: they needed to start their relationship with the company before the end of the independent period.\n",
    "2. We are **not interested** in donors that ended their relation before the start of the dependent.\n",
    "3. Extra condition in comparison to churn case : take only the donors that **made already a transaction by the end of the independent period**."
   ]
  },
  {
   "cell_type": "code",
   "execution_count": 5,
   "metadata": {},
   "outputs": [],
   "source": [
    "# convert start date EXTRELSTDT and end date EXRELDATEN to datetimes\n",
    "extrel[\"EXTRELSTDT\"] = pd.to_datetime(extrel[\"EXTRELSTDT\"], format='%Y-%m-%d')\n",
    "extrel[\"EXRELDATEN\"] = pd.to_datetime(extrel[\"EXRELDATEN\"], format='%Y-%m-%d')"
   ]
  },
  {
   "cell_type": "code",
   "execution_count": 6,
   "metadata": {},
   "outputs": [],
   "source": [
    "# extract the active donors\n",
    "active_customers = extrel[(extrel[\"EXTRELSTDT\"] <= end_independent) & \n",
    "                        ((extrel[\"EXRELDATEN\"] > start_dependent) | (extrel[\"EXRELDATEN\"].isnull()))]"
   ]
  },
  {
   "cell_type": "code",
   "execution_count": 7,
   "metadata": {},
   "outputs": [],
   "source": [
    "# get unique customers\n",
    "active_customers = active_customers[\"EXTRELNO\"].unique()\n",
    "# convert to DataFrame \n",
    "active_customers = pd.DataFrame(active_customers)\n",
    "# rename column\n",
    "active_customers.columns = [\"EXTRELNO\"]\n",
    "# sort by EXTRELNO \n",
    "active_customers = active_customers.sort_values(by=[\"EXTRELNO\"])"
   ]
  },
  {
   "cell_type": "code",
   "execution_count": 8,
   "metadata": {},
   "outputs": [],
   "source": [
    "# convert payhistory PDATE to datetime\n",
    "payhistory[\"PDATE\"] = pd.to_datetime(payhistory[\"PDATE\"], format='%Y-%m-%d')"
   ]
  },
  {
   "cell_type": "code",
   "execution_count": 9,
   "metadata": {},
   "outputs": [],
   "source": [
    "# extract only those transactions which were made before the end of the independent period\n",
    "payhistory_ind = payhistory[payhistory[\"PDATE\"] <= end_independent]\n",
    "# extract only observations with positive transactions\n",
    "payhistory_ind = payhistory_ind[payhistory_ind[\"PAMT\"] > 0]"
   ]
  },
  {
   "cell_type": "code",
   "execution_count": 10,
   "metadata": {},
   "outputs": [],
   "source": [
    "# sort data by extrelno and pdate\n",
    "payhistory_ind = payhistory_ind.sort_values(by=[\"EXTRELNO\", \"PDATE\"])"
   ]
  },
  {
   "cell_type": "code",
   "execution_count": 11,
   "metadata": {},
   "outputs": [],
   "source": [
    "# get unique set of customers with transactions during the independent period\n",
    "transaction_customers = payhistory_ind[\"EXTRELNO\"].unique()\n",
    "# convert to DataFrame\n",
    "transaction_customers = pd.DataFrame(transaction_customers)\n",
    "# rename column\n",
    "transaction_customers.columns = [\"EXTRELNO\"]"
   ]
  },
  {
   "cell_type": "code",
   "execution_count": 12,
   "metadata": {},
   "outputs": [],
   "source": [
    "# merge both tables to get active customers that made transaction during independent period\n",
    "customers = pd.merge(active_customers, transaction_customers, on=\"EXTRELNO\", how=\"inner\")"
   ]
  },
  {
   "cell_type": "code",
   "execution_count": 17,
   "metadata": {
    "scrolled": true
   },
   "outputs": [
    {
     "data": {
      "text/html": [
       "<div>\n",
       "<style scoped>\n",
       "    .dataframe tbody tr th:only-of-type {\n",
       "        vertical-align: middle;\n",
       "    }\n",
       "\n",
       "    .dataframe tbody tr th {\n",
       "        vertical-align: top;\n",
       "    }\n",
       "\n",
       "    .dataframe thead th {\n",
       "        text-align: right;\n",
       "    }\n",
       "</style>\n",
       "<table border=\"1\" class=\"dataframe\">\n",
       "  <thead>\n",
       "    <tr style=\"text-align: right;\">\n",
       "      <th></th>\n",
       "      <th>EXTRELNO</th>\n",
       "    </tr>\n",
       "  </thead>\n",
       "  <tbody>\n",
       "    <tr>\n",
       "      <th>0</th>\n",
       "      <td>26414</td>\n",
       "    </tr>\n",
       "    <tr>\n",
       "      <th>1</th>\n",
       "      <td>26419</td>\n",
       "    </tr>\n",
       "    <tr>\n",
       "      <th>2</th>\n",
       "      <td>26430</td>\n",
       "    </tr>\n",
       "    <tr>\n",
       "      <th>3</th>\n",
       "      <td>26431</td>\n",
       "    </tr>\n",
       "    <tr>\n",
       "      <th>4</th>\n",
       "      <td>26443</td>\n",
       "    </tr>\n",
       "  </tbody>\n",
       "</table>\n",
       "</div>"
      ],
      "text/plain": [
       "   EXTRELNO\n",
       "0     26414\n",
       "1     26419\n",
       "2     26430\n",
       "3     26431\n",
       "4     26443"
      ]
     },
     "execution_count": 17,
     "metadata": {},
     "output_type": "execute_result"
    }
   ],
   "source": [
    "# check\n",
    "customers.head()"
   ]
  },
  {
   "cell_type": "markdown",
   "metadata": {},
   "source": [
    "## 3.2. Independent Variables"
   ]
  },
  {
   "cell_type": "markdown",
   "metadata": {},
   "source": [
    "### 3.2.1. Independent information"
   ]
  },
  {
   "cell_type": "markdown",
   "metadata": {},
   "source": [
    "For creating the **independent variables** such as *recency*, *frequency*, *monetary value*, etc. we first need to make sure that we will only use information during the **independent period**."
   ]
  },
  {
   "cell_type": "code",
   "execution_count": 13,
   "metadata": {},
   "outputs": [
    {
     "data": {
      "text/plain": "      PID      PDATE   PAMT  EXTRELNO PAYTYPECD STATUS\n0      38 2006-12-28   9.57        19         X     CO\n1      39 2006-12-28  41.32        20         X     CO\n2      40 2006-12-28  13.10        20         X     CO\n3   54091 2006-12-29   2.02        20         X     CO\n4  104480 2007-05-16   0.50        20         D     OK",
      "text/html": "<div>\n<style scoped>\n    .dataframe tbody tr th:only-of-type {\n        vertical-align: middle;\n    }\n\n    .dataframe tbody tr th {\n        vertical-align: top;\n    }\n\n    .dataframe thead th {\n        text-align: right;\n    }\n</style>\n<table border=\"1\" class=\"dataframe\">\n  <thead>\n    <tr style=\"text-align: right;\">\n      <th></th>\n      <th>PID</th>\n      <th>PDATE</th>\n      <th>PAMT</th>\n      <th>EXTRELNO</th>\n      <th>PAYTYPECD</th>\n      <th>STATUS</th>\n    </tr>\n  </thead>\n  <tbody>\n    <tr>\n      <th>0</th>\n      <td>38</td>\n      <td>2006-12-28</td>\n      <td>9.57</td>\n      <td>19</td>\n      <td>X</td>\n      <td>CO</td>\n    </tr>\n    <tr>\n      <th>1</th>\n      <td>39</td>\n      <td>2006-12-28</td>\n      <td>41.32</td>\n      <td>20</td>\n      <td>X</td>\n      <td>CO</td>\n    </tr>\n    <tr>\n      <th>2</th>\n      <td>40</td>\n      <td>2006-12-28</td>\n      <td>13.10</td>\n      <td>20</td>\n      <td>X</td>\n      <td>CO</td>\n    </tr>\n    <tr>\n      <th>3</th>\n      <td>54091</td>\n      <td>2006-12-29</td>\n      <td>2.02</td>\n      <td>20</td>\n      <td>X</td>\n      <td>CO</td>\n    </tr>\n    <tr>\n      <th>4</th>\n      <td>104480</td>\n      <td>2007-05-16</td>\n      <td>0.50</td>\n      <td>20</td>\n      <td>D</td>\n      <td>OK</td>\n    </tr>\n  </tbody>\n</table>\n</div>"
     },
     "execution_count": 13,
     "metadata": {},
     "output_type": "execute_result"
    }
   ],
   "source": [
    "# the payhistory from independent period was already calculated in previous step\n",
    "payhistory_ind.head()"
   ]
  },
  {
   "cell_type": "code",
   "execution_count": 14,
   "metadata": {},
   "outputs": [],
   "source": [
    "# convert communication CONTDATE to datetime\n",
    "communication[\"CONTDATE\"] = pd.to_datetime(communication[\"CONTDATE\"], format='%Y-%m-%d')"
   ]
  },
  {
   "cell_type": "code",
   "execution_count": 15,
   "metadata": {},
   "outputs": [],
   "source": [
    "# extract only those transactions which were made before the end of the independent period\n",
    "communication_ind = communication[communication[\"CONTDATE\"] <= end_independent]"
   ]
  },
  {
   "cell_type": "code",
   "execution_count": 16,
   "metadata": {},
   "outputs": [],
   "source": [
    "# sort transactions by EXTRELNO and CONTDATE\n",
    "communication_ind = communication_ind.sort_values(by=[\"EXTRELNO\", \"CONTDATE\"])"
   ]
  },
  {
   "cell_type": "code",
   "execution_count": 17,
   "metadata": {
    "scrolled": true
   },
   "outputs": [
    {
     "data": {
      "text/plain": "   CONTID MEDIUMCODE MNTOPCODE CLASCODE  EXTRELNO CONTDIREC   CONTDATE\n0  405402         CI       CTS       CT        20         O 2007-05-06\n1  430904         CI       CTS       CT        20         O 2007-06-11\n2  592732         CI       CTS       CT        20         O 2007-10-18\n3  593375         CI       CTS       CT        20         O 2007-10-18\n4  618514         CI       CTS       CT        20         O 2007-11-25",
      "text/html": "<div>\n<style scoped>\n    .dataframe tbody tr th:only-of-type {\n        vertical-align: middle;\n    }\n\n    .dataframe tbody tr th {\n        vertical-align: top;\n    }\n\n    .dataframe thead th {\n        text-align: right;\n    }\n</style>\n<table border=\"1\" class=\"dataframe\">\n  <thead>\n    <tr style=\"text-align: right;\">\n      <th></th>\n      <th>CONTID</th>\n      <th>MEDIUMCODE</th>\n      <th>MNTOPCODE</th>\n      <th>CLASCODE</th>\n      <th>EXTRELNO</th>\n      <th>CONTDIREC</th>\n      <th>CONTDATE</th>\n    </tr>\n  </thead>\n  <tbody>\n    <tr>\n      <th>0</th>\n      <td>405402</td>\n      <td>CI</td>\n      <td>CTS</td>\n      <td>CT</td>\n      <td>20</td>\n      <td>O</td>\n      <td>2007-05-06</td>\n    </tr>\n    <tr>\n      <th>1</th>\n      <td>430904</td>\n      <td>CI</td>\n      <td>CTS</td>\n      <td>CT</td>\n      <td>20</td>\n      <td>O</td>\n      <td>2007-06-11</td>\n    </tr>\n    <tr>\n      <th>2</th>\n      <td>592732</td>\n      <td>CI</td>\n      <td>CTS</td>\n      <td>CT</td>\n      <td>20</td>\n      <td>O</td>\n      <td>2007-10-18</td>\n    </tr>\n    <tr>\n      <th>3</th>\n      <td>593375</td>\n      <td>CI</td>\n      <td>CTS</td>\n      <td>CT</td>\n      <td>20</td>\n      <td>O</td>\n      <td>2007-10-18</td>\n    </tr>\n    <tr>\n      <th>4</th>\n      <td>618514</td>\n      <td>CI</td>\n      <td>CTS</td>\n      <td>CT</td>\n      <td>20</td>\n      <td>O</td>\n      <td>2007-11-25</td>\n    </tr>\n  </tbody>\n</table>\n</div>"
     },
     "execution_count": 17,
     "metadata": {},
     "output_type": "execute_result"
    }
   ],
   "source": [
    "# check\n",
    "communication_ind.head()"
   ]
  },
  {
   "cell_type": "markdown",
   "metadata": {},
   "source": [
    "### 3.2.2. Frequency"
   ]
  },
  {
   "cell_type": "markdown",
   "metadata": {},
   "source": [
    "**Frequency**: the number of transactions made by a customer during the independent period"
   ]
  },
  {
   "cell_type": "code",
   "execution_count": 18,
   "metadata": {},
   "outputs": [],
   "source": [
    "# get the frequency: number of transactions per customer\n",
    "frequency = payhistory_ind[\"EXTRELNO\"].value_counts().reset_index()\n",
    "# rename columns\n",
    "frequency.columns = [\"EXTRELNO\", \"frequency\"]"
   ]
  },
  {
   "cell_type": "code",
   "execution_count": 24,
   "metadata": {},
   "outputs": [
    {
     "data": {
      "text/html": [
       "<div>\n",
       "<style scoped>\n",
       "    .dataframe tbody tr th:only-of-type {\n",
       "        vertical-align: middle;\n",
       "    }\n",
       "\n",
       "    .dataframe tbody tr th {\n",
       "        vertical-align: top;\n",
       "    }\n",
       "\n",
       "    .dataframe thead th {\n",
       "        text-align: right;\n",
       "    }\n",
       "</style>\n",
       "<table border=\"1\" class=\"dataframe\">\n",
       "  <thead>\n",
       "    <tr style=\"text-align: right;\">\n",
       "      <th></th>\n",
       "      <th>EXTRELNO</th>\n",
       "      <th>frequency</th>\n",
       "    </tr>\n",
       "  </thead>\n",
       "  <tbody>\n",
       "    <tr>\n",
       "      <th>0</th>\n",
       "      <td>1773</td>\n",
       "      <td>2131</td>\n",
       "    </tr>\n",
       "    <tr>\n",
       "      <th>1</th>\n",
       "      <td>35231</td>\n",
       "      <td>1121</td>\n",
       "    </tr>\n",
       "    <tr>\n",
       "      <th>2</th>\n",
       "      <td>34337</td>\n",
       "      <td>642</td>\n",
       "    </tr>\n",
       "    <tr>\n",
       "      <th>3</th>\n",
       "      <td>202611</td>\n",
       "      <td>610</td>\n",
       "    </tr>\n",
       "    <tr>\n",
       "      <th>4</th>\n",
       "      <td>2980</td>\n",
       "      <td>583</td>\n",
       "    </tr>\n",
       "  </tbody>\n",
       "</table>\n",
       "</div>"
      ],
      "text/plain": [
       "   EXTRELNO  frequency\n",
       "0      1773       2131\n",
       "1     35231       1121\n",
       "2     34337        642\n",
       "3    202611        610\n",
       "4      2980        583"
      ]
     },
     "execution_count": 24,
     "metadata": {},
     "output_type": "execute_result"
    }
   ],
   "source": [
    "# check\n",
    "frequency.head()"
   ]
  },
  {
   "cell_type": "markdown",
   "metadata": {},
   "source": [
    "### 3.2.3. Recency"
   ]
  },
  {
   "cell_type": "markdown",
   "metadata": {},
   "source": [
    "**Recency**: the number of days between a customer's last transaction and the end of the independent period"
   ]
  },
  {
   "cell_type": "code",
   "execution_count": 19,
   "metadata": {},
   "outputs": [],
   "source": [
    "# get the last transactions of each donor\n",
    "recency = payhistory_ind.groupby(\"EXTRELNO\").tail(1)[[\"EXTRELNO\", \"PDATE\"]]\n",
    "# get the recency in days \n",
    "recency[\"recency\"] = recency[\"PDATE\"].apply(lambda x: (end_independent - x).days)\n",
    "# drop PDATE\n",
    "recency = recency.drop(\"PDATE\", axis=1)"
   ]
  },
  {
   "cell_type": "code",
   "execution_count": 26,
   "metadata": {
    "scrolled": false
   },
   "outputs": [
    {
     "data": {
      "text/html": [
       "<div>\n",
       "<style scoped>\n",
       "    .dataframe tbody tr th:only-of-type {\n",
       "        vertical-align: middle;\n",
       "    }\n",
       "\n",
       "    .dataframe tbody tr th {\n",
       "        vertical-align: top;\n",
       "    }\n",
       "\n",
       "    .dataframe thead th {\n",
       "        text-align: right;\n",
       "    }\n",
       "</style>\n",
       "<table border=\"1\" class=\"dataframe\">\n",
       "  <thead>\n",
       "    <tr style=\"text-align: right;\">\n",
       "      <th></th>\n",
       "      <th>EXTRELNO</th>\n",
       "      <th>recency</th>\n",
       "    </tr>\n",
       "  </thead>\n",
       "  <tbody>\n",
       "    <tr>\n",
       "      <th>0</th>\n",
       "      <td>19</td>\n",
       "      <td>3617</td>\n",
       "    </tr>\n",
       "    <tr>\n",
       "      <th>120</th>\n",
       "      <td>20</td>\n",
       "      <td>13</td>\n",
       "    </tr>\n",
       "    <tr>\n",
       "      <th>275</th>\n",
       "      <td>35</td>\n",
       "      <td>13</td>\n",
       "    </tr>\n",
       "    <tr>\n",
       "      <th>397</th>\n",
       "      <td>42</td>\n",
       "      <td>1048</td>\n",
       "    </tr>\n",
       "    <tr>\n",
       "      <th>627</th>\n",
       "      <td>43</td>\n",
       "      <td>135</td>\n",
       "    </tr>\n",
       "  </tbody>\n",
       "</table>\n",
       "</div>"
      ],
      "text/plain": [
       "     EXTRELNO  recency\n",
       "0          19     3617\n",
       "120        20       13\n",
       "275        35       13\n",
       "397        42     1048\n",
       "627        43      135"
      ]
     },
     "execution_count": 26,
     "metadata": {},
     "output_type": "execute_result"
    }
   ],
   "source": [
    "# check\n",
    "recency.head()"
   ]
  },
  {
   "cell_type": "markdown",
   "metadata": {},
   "source": [
    "### 3.2.4. Monetary Value"
   ]
  },
  {
   "cell_type": "markdown",
   "metadata": {},
   "source": [
    "**Monetary value**: the average and total amount of transactions made by a customer during the independent period"
   ]
  },
  {
   "cell_type": "code",
   "execution_count": 20,
   "metadata": {},
   "outputs": [],
   "source": [
    "# get the total and average monetary value per customer\n",
    "monetary_value = payhistory_ind.groupby(\"EXTRELNO\").agg({\"PAMT\": [np.sum, np.mean]}).reset_index()\n",
    "# rename columns\n",
    "monetary_value.columns = [\"EXTRELNO\", \"total_value\", \"average_value\"]"
   ]
  },
  {
   "cell_type": "code",
   "execution_count": 28,
   "metadata": {
    "scrolled": true
   },
   "outputs": [
    {
     "data": {
      "text/html": [
       "<div>\n",
       "<style scoped>\n",
       "    .dataframe tbody tr th:only-of-type {\n",
       "        vertical-align: middle;\n",
       "    }\n",
       "\n",
       "    .dataframe tbody tr th {\n",
       "        vertical-align: top;\n",
       "    }\n",
       "\n",
       "    .dataframe thead th {\n",
       "        text-align: right;\n",
       "    }\n",
       "</style>\n",
       "<table border=\"1\" class=\"dataframe\">\n",
       "  <thead>\n",
       "    <tr style=\"text-align: right;\">\n",
       "      <th></th>\n",
       "      <th>EXTRELNO</th>\n",
       "      <th>total_value</th>\n",
       "      <th>average_value</th>\n",
       "    </tr>\n",
       "  </thead>\n",
       "  <tbody>\n",
       "    <tr>\n",
       "      <th>0</th>\n",
       "      <td>19</td>\n",
       "      <td>9.57</td>\n",
       "      <td>9.570000</td>\n",
       "    </tr>\n",
       "    <tr>\n",
       "      <th>1</th>\n",
       "      <td>20</td>\n",
       "      <td>2321.30</td>\n",
       "      <td>19.506723</td>\n",
       "    </tr>\n",
       "    <tr>\n",
       "      <th>2</th>\n",
       "      <td>35</td>\n",
       "      <td>2292.40</td>\n",
       "      <td>19.593162</td>\n",
       "    </tr>\n",
       "    <tr>\n",
       "      <th>3</th>\n",
       "      <td>42</td>\n",
       "      <td>1563.36</td>\n",
       "      <td>18.611429</td>\n",
       "    </tr>\n",
       "    <tr>\n",
       "      <th>4</th>\n",
       "      <td>43</td>\n",
       "      <td>4413.90</td>\n",
       "      <td>19.444493</td>\n",
       "    </tr>\n",
       "  </tbody>\n",
       "</table>\n",
       "</div>"
      ],
      "text/plain": [
       "   EXTRELNO  total_value  average_value\n",
       "0        19         9.57       9.570000\n",
       "1        20      2321.30      19.506723\n",
       "2        35      2292.40      19.593162\n",
       "3        42      1563.36      18.611429\n",
       "4        43      4413.90      19.444493"
      ]
     },
     "execution_count": 28,
     "metadata": {},
     "output_type": "execute_result"
    }
   ],
   "source": [
    "# check\n",
    "monetary_value.head()"
   ]
  },
  {
   "cell_type": "markdown",
   "metadata": {},
   "source": [
    "### 3.2.5. Paytypes"
   ]
  },
  {
   "cell_type": "markdown",
   "metadata": {},
   "source": [
    "**Paytype**: indication of whether a customer has ever used a particular paytype during the independent period \n",
    "\n",
    "         D: order\n",
    "         E: initiative\n",
    "         O: sendout\n",
    "         X: unknown"
   ]
  },
  {
   "cell_type": "code",
   "execution_count": 21,
   "metadata": {},
   "outputs": [],
   "source": [
    "# get a unique set of paytypes used per donor\n",
    "paytypes = pd.DataFrame(payhistory_ind.groupby(\"EXTRELNO\").agg({\"PAYTYPECD\": set}).reset_index())"
   ]
  },
  {
   "cell_type": "code",
   "execution_count": 22,
   "metadata": {},
   "outputs": [],
   "source": [
    "# create indicators for paytypes used per donor\n",
    "paytypes[\"sendout\"] = paytypes[\"PAYTYPECD\"].apply(lambda x: 1 if \"O\" in x else 0)\n",
    "paytypes[\"order\"] = paytypes[\"PAYTYPECD\"].apply(lambda x: 1 if \"D\" in x else 0)\n",
    "paytypes[\"initiative\"] = paytypes[\"PAYTYPECD\"].apply(lambda x: 1 if \"E\" in x else 0)\n",
    "paytypes[\"unknown\"] = paytypes[\"PAYTYPECD\"].apply(lambda x: 1 if len(x.difference(set([\"O\", \"D\", \"E\"]))) > 0 else 0)"
   ]
  },
  {
   "cell_type": "code",
   "execution_count": 23,
   "metadata": {},
   "outputs": [],
   "source": [
    "# drop the paytype column\n",
    "paytypes = paytypes.drop(\"PAYTYPECD\", axis=1)"
   ]
  },
  {
   "cell_type": "code",
   "execution_count": 32,
   "metadata": {
    "scrolled": false
   },
   "outputs": [
    {
     "data": {
      "text/html": [
       "<div>\n",
       "<style scoped>\n",
       "    .dataframe tbody tr th:only-of-type {\n",
       "        vertical-align: middle;\n",
       "    }\n",
       "\n",
       "    .dataframe tbody tr th {\n",
       "        vertical-align: top;\n",
       "    }\n",
       "\n",
       "    .dataframe thead th {\n",
       "        text-align: right;\n",
       "    }\n",
       "</style>\n",
       "<table border=\"1\" class=\"dataframe\">\n",
       "  <thead>\n",
       "    <tr style=\"text-align: right;\">\n",
       "      <th></th>\n",
       "      <th>EXTRELNO</th>\n",
       "      <th>sendout</th>\n",
       "      <th>order</th>\n",
       "      <th>initiative</th>\n",
       "      <th>unknown</th>\n",
       "    </tr>\n",
       "  </thead>\n",
       "  <tbody>\n",
       "    <tr>\n",
       "      <th>0</th>\n",
       "      <td>19</td>\n",
       "      <td>0</td>\n",
       "      <td>0</td>\n",
       "      <td>0</td>\n",
       "      <td>1</td>\n",
       "    </tr>\n",
       "    <tr>\n",
       "      <th>1</th>\n",
       "      <td>20</td>\n",
       "      <td>0</td>\n",
       "      <td>1</td>\n",
       "      <td>0</td>\n",
       "      <td>1</td>\n",
       "    </tr>\n",
       "    <tr>\n",
       "      <th>2</th>\n",
       "      <td>35</td>\n",
       "      <td>0</td>\n",
       "      <td>1</td>\n",
       "      <td>0</td>\n",
       "      <td>1</td>\n",
       "    </tr>\n",
       "    <tr>\n",
       "      <th>3</th>\n",
       "      <td>42</td>\n",
       "      <td>0</td>\n",
       "      <td>1</td>\n",
       "      <td>0</td>\n",
       "      <td>1</td>\n",
       "    </tr>\n",
       "    <tr>\n",
       "      <th>4</th>\n",
       "      <td>43</td>\n",
       "      <td>0</td>\n",
       "      <td>1</td>\n",
       "      <td>0</td>\n",
       "      <td>1</td>\n",
       "    </tr>\n",
       "  </tbody>\n",
       "</table>\n",
       "</div>"
      ],
      "text/plain": [
       "   EXTRELNO  sendout  order  initiative  unknown\n",
       "0        19        0      0           0        1\n",
       "1        20        0      1           0        1\n",
       "2        35        0      1           0        1\n",
       "3        42        0      1           0        1\n",
       "4        43        0      1           0        1"
      ]
     },
     "execution_count": 32,
     "metadata": {},
     "output_type": "execute_result"
    }
   ],
   "source": [
    "# check\n",
    "paytypes.head()"
   ]
  },
  {
   "cell_type": "markdown",
   "metadata": {},
   "source": [
    "### 3.2.6. Preferred Language"
   ]
  },
  {
   "cell_type": "markdown",
   "metadata": {},
   "source": [
    "**Preferred mailing language**: get the preferred mailing language of a donor"
   ]
  },
  {
   "cell_type": "code",
   "execution_count": 24,
   "metadata": {},
   "outputs": [
    {
     "data": {
      "text/plain": "   EXTRELNO  LANGUACODE_FR  LANGUACODE_NL\n0        19              0              1\n1        20              0              1\n2        35              0              1\n3        42              0              1\n4        43              0              1",
      "text/html": "<div>\n<style scoped>\n    .dataframe tbody tr th:only-of-type {\n        vertical-align: middle;\n    }\n\n    .dataframe tbody tr th {\n        vertical-align: top;\n    }\n\n    .dataframe thead th {\n        text-align: right;\n    }\n</style>\n<table border=\"1\" class=\"dataframe\">\n  <thead>\n    <tr style=\"text-align: right;\">\n      <th></th>\n      <th>EXTRELNO</th>\n      <th>LANGUACODE_FR</th>\n      <th>LANGUACODE_NL</th>\n    </tr>\n  </thead>\n  <tbody>\n    <tr>\n      <th>0</th>\n      <td>19</td>\n      <td>0</td>\n      <td>1</td>\n    </tr>\n    <tr>\n      <th>1</th>\n      <td>20</td>\n      <td>0</td>\n      <td>1</td>\n    </tr>\n    <tr>\n      <th>2</th>\n      <td>35</td>\n      <td>0</td>\n      <td>1</td>\n    </tr>\n    <tr>\n      <th>3</th>\n      <td>42</td>\n      <td>0</td>\n      <td>1</td>\n    </tr>\n    <tr>\n      <th>4</th>\n      <td>43</td>\n      <td>0</td>\n      <td>1</td>\n    </tr>\n  </tbody>\n</table>\n</div>"
     },
     "execution_count": 24,
     "metadata": {},
     "output_type": "execute_result"
    }
   ],
   "source": [
    "# get preferred mailing language of donor\n",
    "language = pd.get_dummies(nameaddr, columns=['LANGUACODE'], drop_first = True)\n",
    "language = language[['EXTRELNO', 'LANGUACODE_FR', 'LANGUACODE_NL']]\n",
    "language.head()"
   ]
  },
  {
   "cell_type": "markdown",
   "metadata": {},
   "source": [
    "### 3.2.7. Complaints"
   ]
  },
  {
   "cell_type": "markdown",
   "metadata": {},
   "source": [
    "Complaint and direction: check if a donor has ever complaint or has given some kind of direction\n",
    "\n",
    "        CM: Complaint\n",
    "        I: Direction"
   ]
  },
  {
   "cell_type": "code",
   "execution_count": 25,
   "metadata": {},
   "outputs": [],
   "source": [
    "# get a unique set om communication types per donor\n",
    "complaint = communication_ind.groupby(\"EXTRELNO\").agg({\"CLASCODE\": set, \"CONTDIREC\": set}).reset_index()\n",
    "# create indicators for complaint and direction\n",
    "complaint[\"complaint\"] = complaint[\"CLASCODE\"].apply(lambda x: 1 if \"CM\" in x else 0)\n",
    "complaint[\"direction\"] = complaint[\"CONTDIREC\"].apply(lambda x: 1 if \"I\" in x else 0)\n",
    "# keep relevant variables\n",
    "complaint = complaint[[\"EXTRELNO\", \"complaint\", \"direction\"]]"
   ]
  },
  {
   "cell_type": "code",
   "execution_count": 35,
   "metadata": {},
   "outputs": [
    {
     "data": {
      "text/html": [
       "<div>\n",
       "<style scoped>\n",
       "    .dataframe tbody tr th:only-of-type {\n",
       "        vertical-align: middle;\n",
       "    }\n",
       "\n",
       "    .dataframe tbody tr th {\n",
       "        vertical-align: top;\n",
       "    }\n",
       "\n",
       "    .dataframe thead th {\n",
       "        text-align: right;\n",
       "    }\n",
       "</style>\n",
       "<table border=\"1\" class=\"dataframe\">\n",
       "  <thead>\n",
       "    <tr style=\"text-align: right;\">\n",
       "      <th></th>\n",
       "      <th>EXTRELNO</th>\n",
       "      <th>complaint</th>\n",
       "      <th>direction</th>\n",
       "    </tr>\n",
       "  </thead>\n",
       "  <tbody>\n",
       "    <tr>\n",
       "      <th>0</th>\n",
       "      <td>20</td>\n",
       "      <td>0</td>\n",
       "      <td>0</td>\n",
       "    </tr>\n",
       "    <tr>\n",
       "      <th>1</th>\n",
       "      <td>35</td>\n",
       "      <td>0</td>\n",
       "      <td>1</td>\n",
       "    </tr>\n",
       "    <tr>\n",
       "      <th>2</th>\n",
       "      <td>42</td>\n",
       "      <td>0</td>\n",
       "      <td>1</td>\n",
       "    </tr>\n",
       "    <tr>\n",
       "      <th>3</th>\n",
       "      <td>43</td>\n",
       "      <td>0</td>\n",
       "      <td>1</td>\n",
       "    </tr>\n",
       "    <tr>\n",
       "      <th>4</th>\n",
       "      <td>60</td>\n",
       "      <td>0</td>\n",
       "      <td>1</td>\n",
       "    </tr>\n",
       "  </tbody>\n",
       "</table>\n",
       "</div>"
      ],
      "text/plain": [
       "   EXTRELNO  complaint  direction\n",
       "0        20          0          0\n",
       "1        35          0          1\n",
       "2        42          0          1\n",
       "3        43          0          1\n",
       "4        60          0          1"
      ]
     },
     "execution_count": 35,
     "metadata": {},
     "output_type": "execute_result"
    }
   ],
   "source": [
    "# check\n",
    "complaint.head()"
   ]
  },
  {
   "cell_type": "markdown",
   "metadata": {},
   "source": [
    "We will already store all the independent variables in **one dataset**, which we can than **merge** with the dependent variables."
   ]
  },
  {
   "cell_type": "code",
   "execution_count": 26,
   "metadata": {},
   "outputs": [],
   "source": [
    "# create dataset with all independent features\n",
    "indep_basetable = (pd.merge(pd.DataFrame(customers[\"EXTRELNO\"]), frequency, how=\"left\", on=\"EXTRELNO\")\n",
    "                    .merge(recency, how=\"left\", on=\"EXTRELNO\")\n",
    "                    .merge(monetary_value, how=\"left\", on=\"EXTRELNO\")\n",
    "                    .merge(paytypes, how=\"left\", on=\"EXTRELNO\")\n",
    "                    .merge(complaint, how=\"left\", on=\"EXTRELNO\")\n",
    "                    .merge(language, how=\"left\", on=\"EXTRELNO\"))"
   ]
  },
  {
   "cell_type": "code",
   "execution_count": 37,
   "metadata": {},
   "outputs": [
    {
     "data": {
      "text/html": [
       "<div>\n",
       "<style scoped>\n",
       "    .dataframe tbody tr th:only-of-type {\n",
       "        vertical-align: middle;\n",
       "    }\n",
       "\n",
       "    .dataframe tbody tr th {\n",
       "        vertical-align: top;\n",
       "    }\n",
       "\n",
       "    .dataframe thead th {\n",
       "        text-align: right;\n",
       "    }\n",
       "</style>\n",
       "<table border=\"1\" class=\"dataframe\">\n",
       "  <thead>\n",
       "    <tr style=\"text-align: right;\">\n",
       "      <th></th>\n",
       "      <th>EXTRELNO</th>\n",
       "      <th>frequency</th>\n",
       "      <th>recency</th>\n",
       "      <th>total_value</th>\n",
       "      <th>average_value</th>\n",
       "      <th>sendout</th>\n",
       "      <th>order</th>\n",
       "      <th>initiative</th>\n",
       "      <th>unknown</th>\n",
       "      <th>complaint</th>\n",
       "      <th>direction</th>\n",
       "      <th>LANGUACODE_FR</th>\n",
       "      <th>LANGUACODE_NL</th>\n",
       "    </tr>\n",
       "  </thead>\n",
       "  <tbody>\n",
       "    <tr>\n",
       "      <th>0</th>\n",
       "      <td>26414</td>\n",
       "      <td>117</td>\n",
       "      <td>13</td>\n",
       "      <td>2257.13</td>\n",
       "      <td>19.291709</td>\n",
       "      <td>0</td>\n",
       "      <td>1</td>\n",
       "      <td>0</td>\n",
       "      <td>1</td>\n",
       "      <td>0.0</td>\n",
       "      <td>1.0</td>\n",
       "      <td>0</td>\n",
       "      <td>1</td>\n",
       "    </tr>\n",
       "    <tr>\n",
       "      <th>1</th>\n",
       "      <td>26419</td>\n",
       "      <td>47</td>\n",
       "      <td>56</td>\n",
       "      <td>2556.99</td>\n",
       "      <td>54.404043</td>\n",
       "      <td>1</td>\n",
       "      <td>0</td>\n",
       "      <td>0</td>\n",
       "      <td>1</td>\n",
       "      <td>0.0</td>\n",
       "      <td>1.0</td>\n",
       "      <td>0</td>\n",
       "      <td>1</td>\n",
       "    </tr>\n",
       "    <tr>\n",
       "      <th>2</th>\n",
       "      <td>26430</td>\n",
       "      <td>119</td>\n",
       "      <td>13</td>\n",
       "      <td>2299.28</td>\n",
       "      <td>19.321681</td>\n",
       "      <td>1</td>\n",
       "      <td>1</td>\n",
       "      <td>0</td>\n",
       "      <td>1</td>\n",
       "      <td>1.0</td>\n",
       "      <td>1.0</td>\n",
       "      <td>0</td>\n",
       "      <td>1</td>\n",
       "    </tr>\n",
       "    <tr>\n",
       "      <th>3</th>\n",
       "      <td>26431</td>\n",
       "      <td>14</td>\n",
       "      <td>203</td>\n",
       "      <td>2742.57</td>\n",
       "      <td>195.897857</td>\n",
       "      <td>1</td>\n",
       "      <td>0</td>\n",
       "      <td>0</td>\n",
       "      <td>1</td>\n",
       "      <td>0.0</td>\n",
       "      <td>0.0</td>\n",
       "      <td>0</td>\n",
       "      <td>1</td>\n",
       "    </tr>\n",
       "    <tr>\n",
       "      <th>4</th>\n",
       "      <td>26443</td>\n",
       "      <td>116</td>\n",
       "      <td>13</td>\n",
       "      <td>2276.95</td>\n",
       "      <td>19.628879</td>\n",
       "      <td>0</td>\n",
       "      <td>1</td>\n",
       "      <td>0</td>\n",
       "      <td>1</td>\n",
       "      <td>0.0</td>\n",
       "      <td>0.0</td>\n",
       "      <td>0</td>\n",
       "      <td>1</td>\n",
       "    </tr>\n",
       "  </tbody>\n",
       "</table>\n",
       "</div>"
      ],
      "text/plain": [
       "   EXTRELNO  frequency  recency  total_value  average_value  sendout  order  \\\n",
       "0     26414        117       13      2257.13      19.291709        0      1   \n",
       "1     26419         47       56      2556.99      54.404043        1      0   \n",
       "2     26430        119       13      2299.28      19.321681        1      1   \n",
       "3     26431         14      203      2742.57     195.897857        1      0   \n",
       "4     26443        116       13      2276.95      19.628879        0      1   \n",
       "\n",
       "   initiative  unknown  complaint  direction  LANGUACODE_FR  LANGUACODE_NL  \n",
       "0           0        1        0.0        1.0              0              1  \n",
       "1           0        1        0.0        1.0              0              1  \n",
       "2           0        1        1.0        1.0              0              1  \n",
       "3           0        1        0.0        0.0              0              1  \n",
       "4           0        1        0.0        0.0              0              1  "
      ]
     },
     "execution_count": 37,
     "metadata": {},
     "output_type": "execute_result"
    }
   ],
   "source": [
    "# check\n",
    "indep_basetable.head()"
   ]
  },
  {
   "cell_type": "code",
   "execution_count": 38,
   "metadata": {},
   "outputs": [
    {
     "data": {
      "text/plain": [
       "(7039, 13)"
      ]
     },
     "execution_count": 38,
     "metadata": {},
     "output_type": "execute_result"
    }
   ],
   "source": [
    "# check dimensions\n",
    "indep_basetable.shape"
   ]
  },
  {
   "cell_type": "markdown",
   "metadata": {},
   "source": [
    "## 3.3. Dependent Variables"
   ]
  },
  {
   "cell_type": "markdown",
   "metadata": {},
   "source": [
    "Since we have a **two-phase model** here, we need **two dependent variables**:\n",
    "\n",
    "- ``CLV`` is in this case defined as the sum of all discounted purchases in the dependent period (3 year)\n",
    "- ``CHURN`` is in this case defined as a customer who didn't donate anything in the dependent period (CLV=0)"
   ]
  },
  {
   "cell_type": "markdown",
   "metadata": {},
   "source": [
    "### 3.3.1. CLV"
   ]
  },
  {
   "cell_type": "code",
   "execution_count": 31,
   "metadata": {},
   "outputs": [],
   "source": [
    "# define the discount rate\n",
    "DISCOUNT_RATE = 0.05"
   ]
  },
  {
   "cell_type": "code",
   "execution_count": 32,
   "metadata": {},
   "outputs": [],
   "source": [
    "# get payhistory information from dependent period\n",
    "payhistory_dep = payhistory[(payhistory[\"PDATE\"] >= start_dependent) & (payhistory[\"PDATE\"] <= end_dependent)]"
   ]
  },
  {
   "cell_type": "code",
   "execution_count": 33,
   "outputs": [
    {
     "data": {
      "text/plain": "             PID      PDATE  PAMT  EXTRELNO PAYTYPECD STATUS\n122      3958746 2017-01-10  23.0        20         D     OK\n123      3989899 2017-02-08  23.0        20         D     OK\n124      4020717 2017-03-08  23.0        20         D     OK\n125      4051630 2017-04-10  23.0        20         D     OK\n126      4081980 2017-05-08  23.0        20         D     OK\n...          ...        ...   ...       ...       ...    ...\n1205700  5074768 2019-12-30  30.0    244569         E     OK\n1205703  5073823 2019-12-26  25.0    244586         E     OK\n1205708  5073817 2019-12-26  25.0    244638         E     OK\n1205711  5075134 2019-12-30  25.0    244677         E     OK\n1205714  5074786 2019-12-30  30.0    244728         E     OK\n\n[294032 rows x 6 columns]",
      "text/html": "<div>\n<style scoped>\n    .dataframe tbody tr th:only-of-type {\n        vertical-align: middle;\n    }\n\n    .dataframe tbody tr th {\n        vertical-align: top;\n    }\n\n    .dataframe thead th {\n        text-align: right;\n    }\n</style>\n<table border=\"1\" class=\"dataframe\">\n  <thead>\n    <tr style=\"text-align: right;\">\n      <th></th>\n      <th>PID</th>\n      <th>PDATE</th>\n      <th>PAMT</th>\n      <th>EXTRELNO</th>\n      <th>PAYTYPECD</th>\n      <th>STATUS</th>\n    </tr>\n  </thead>\n  <tbody>\n    <tr>\n      <th>122</th>\n      <td>3958746</td>\n      <td>2017-01-10</td>\n      <td>23.0</td>\n      <td>20</td>\n      <td>D</td>\n      <td>OK</td>\n    </tr>\n    <tr>\n      <th>123</th>\n      <td>3989899</td>\n      <td>2017-02-08</td>\n      <td>23.0</td>\n      <td>20</td>\n      <td>D</td>\n      <td>OK</td>\n    </tr>\n    <tr>\n      <th>124</th>\n      <td>4020717</td>\n      <td>2017-03-08</td>\n      <td>23.0</td>\n      <td>20</td>\n      <td>D</td>\n      <td>OK</td>\n    </tr>\n    <tr>\n      <th>125</th>\n      <td>4051630</td>\n      <td>2017-04-10</td>\n      <td>23.0</td>\n      <td>20</td>\n      <td>D</td>\n      <td>OK</td>\n    </tr>\n    <tr>\n      <th>126</th>\n      <td>4081980</td>\n      <td>2017-05-08</td>\n      <td>23.0</td>\n      <td>20</td>\n      <td>D</td>\n      <td>OK</td>\n    </tr>\n    <tr>\n      <th>...</th>\n      <td>...</td>\n      <td>...</td>\n      <td>...</td>\n      <td>...</td>\n      <td>...</td>\n      <td>...</td>\n    </tr>\n    <tr>\n      <th>1205700</th>\n      <td>5074768</td>\n      <td>2019-12-30</td>\n      <td>30.0</td>\n      <td>244569</td>\n      <td>E</td>\n      <td>OK</td>\n    </tr>\n    <tr>\n      <th>1205703</th>\n      <td>5073823</td>\n      <td>2019-12-26</td>\n      <td>25.0</td>\n      <td>244586</td>\n      <td>E</td>\n      <td>OK</td>\n    </tr>\n    <tr>\n      <th>1205708</th>\n      <td>5073817</td>\n      <td>2019-12-26</td>\n      <td>25.0</td>\n      <td>244638</td>\n      <td>E</td>\n      <td>OK</td>\n    </tr>\n    <tr>\n      <th>1205711</th>\n      <td>5075134</td>\n      <td>2019-12-30</td>\n      <td>25.0</td>\n      <td>244677</td>\n      <td>E</td>\n      <td>OK</td>\n    </tr>\n    <tr>\n      <th>1205714</th>\n      <td>5074786</td>\n      <td>2019-12-30</td>\n      <td>30.0</td>\n      <td>244728</td>\n      <td>E</td>\n      <td>OK</td>\n    </tr>\n  </tbody>\n</table>\n<p>294032 rows × 6 columns</p>\n</div>"
     },
     "execution_count": 33,
     "metadata": {},
     "output_type": "execute_result"
    }
   ],
   "source": [
    "payhistory_dep"
   ],
   "metadata": {
    "collapsed": false
   }
  },
  {
   "cell_type": "markdown",
   "metadata": {},
   "source": [
    "**Exercise:**\n",
    "\n",
    "1. Define a **function** that discounts a certain transaction by making use of the ``DISCOUNT_RATE``. This function should take 2 parameters: the date if the transaction ``PDATE`` and the amount donated ``PAMT``.\n",
    "2. **Apply** the function on the *payhistory_dep* data set and put the results in a column called ``PAMT_discounted``.\n",
    "3. Get the **total** discounted amount **per donor** and **check** results."
   ]
  },
  {
   "cell_type": "code",
   "execution_count": 34,
   "metadata": {},
   "outputs": [
    {
     "name": "stderr",
     "output_type": "stream",
     "text": [
      "C:\\Users\\stefd\\AppData\\Local\\Temp\\ipykernel_22364\\2966981048.py:9: SettingWithCopyWarning: \n",
      "A value is trying to be set on a copy of a slice from a DataFrame.\n",
      "Try using .loc[row_indexer,col_indexer] = value instead\n",
      "\n",
      "See the caveats in the documentation: https://pandas.pydata.org/pandas-docs/stable/user_guide/indexing.html#returning-a-view-versus-a-copy\n",
      "  payhistory_dep[\"PAMT_discounted\"] = payhistory_dep.apply(lambda x: get_discounted_transaction(x[\"PDATE\"],x[\"PAMT\"]), axis=1)\n"
     ]
    },
    {
     "data": {
      "text/plain": "       EXTRELNO        PID    PAMT  PAMT_discounted\n0            20  162553452   828.0       770.965937\n1            35  162565113   828.0       770.965937\n2            72   54155449   828.0       770.862336\n3            81  163543526  2484.0      2303.809274\n4            89  166930548   805.0       748.721848\n...         ...        ...     ...              ...\n10906    244569    5074768    30.0        25.922057\n10907    244586    5073823    25.0        21.613268\n10908    244638    5073817    25.0        21.613268\n10909    244677    5075134    25.0        21.601714\n10910    244728    5074786    30.0        25.922057\n\n[10911 rows x 4 columns]",
      "text/html": "<div>\n<style scoped>\n    .dataframe tbody tr th:only-of-type {\n        vertical-align: middle;\n    }\n\n    .dataframe tbody tr th {\n        vertical-align: top;\n    }\n\n    .dataframe thead th {\n        text-align: right;\n    }\n</style>\n<table border=\"1\" class=\"dataframe\">\n  <thead>\n    <tr style=\"text-align: right;\">\n      <th></th>\n      <th>EXTRELNO</th>\n      <th>PID</th>\n      <th>PAMT</th>\n      <th>PAMT_discounted</th>\n    </tr>\n  </thead>\n  <tbody>\n    <tr>\n      <th>0</th>\n      <td>20</td>\n      <td>162553452</td>\n      <td>828.0</td>\n      <td>770.965937</td>\n    </tr>\n    <tr>\n      <th>1</th>\n      <td>35</td>\n      <td>162565113</td>\n      <td>828.0</td>\n      <td>770.965937</td>\n    </tr>\n    <tr>\n      <th>2</th>\n      <td>72</td>\n      <td>54155449</td>\n      <td>828.0</td>\n      <td>770.862336</td>\n    </tr>\n    <tr>\n      <th>3</th>\n      <td>81</td>\n      <td>163543526</td>\n      <td>2484.0</td>\n      <td>2303.809274</td>\n    </tr>\n    <tr>\n      <th>4</th>\n      <td>89</td>\n      <td>166930548</td>\n      <td>805.0</td>\n      <td>748.721848</td>\n    </tr>\n    <tr>\n      <th>...</th>\n      <td>...</td>\n      <td>...</td>\n      <td>...</td>\n      <td>...</td>\n    </tr>\n    <tr>\n      <th>10906</th>\n      <td>244569</td>\n      <td>5074768</td>\n      <td>30.0</td>\n      <td>25.922057</td>\n    </tr>\n    <tr>\n      <th>10907</th>\n      <td>244586</td>\n      <td>5073823</td>\n      <td>25.0</td>\n      <td>21.613268</td>\n    </tr>\n    <tr>\n      <th>10908</th>\n      <td>244638</td>\n      <td>5073817</td>\n      <td>25.0</td>\n      <td>21.613268</td>\n    </tr>\n    <tr>\n      <th>10909</th>\n      <td>244677</td>\n      <td>5075134</td>\n      <td>25.0</td>\n      <td>21.601714</td>\n    </tr>\n    <tr>\n      <th>10910</th>\n      <td>244728</td>\n      <td>5074786</td>\n      <td>30.0</td>\n      <td>25.922057</td>\n    </tr>\n  </tbody>\n</table>\n<p>10911 rows × 4 columns</p>\n</div>"
     },
     "execution_count": 34,
     "metadata": {},
     "output_type": "execute_result"
    }
   ],
   "source": [
    "def get_discounted_transaction(trans_date, trans_val):\n",
    "\n",
    "    # get discounted transaction\n",
    "    disc_trans = trans_val / ((1 + DISCOUNT_RATE) ** ((trans_date - start_dependent).days / 365.))\n",
    "\n",
    "    # return\n",
    "    return(disc_trans)\n",
    "\n",
    "payhistory_dep[\"PAMT_discounted\"] = payhistory_dep.apply(lambda x: get_discounted_transaction(x[\"PDATE\"],x[\"PAMT\"]), axis=1)\n",
    "\n",
    "total_amount = payhistory_dep.groupby(\"EXTRELNO\").sum().reset_index()\n",
    "total_amount\n",
    "\n"
   ]
  },
  {
   "cell_type": "code",
   "execution_count": 35,
   "outputs": [
    {
     "data": {
      "text/plain": "       EXTRELNO          CLV\n0            20   770.965937\n1            35   770.965937\n2            72   770.862336\n3            81  2303.809274\n4            89   748.721848\n...         ...          ...\n10906    244569    25.922057\n10907    244586    21.613268\n10908    244638    21.613268\n10909    244677    21.601714\n10910    244728    25.922057\n\n[10911 rows x 2 columns]",
      "text/html": "<div>\n<style scoped>\n    .dataframe tbody tr th:only-of-type {\n        vertical-align: middle;\n    }\n\n    .dataframe tbody tr th {\n        vertical-align: top;\n    }\n\n    .dataframe thead th {\n        text-align: right;\n    }\n</style>\n<table border=\"1\" class=\"dataframe\">\n  <thead>\n    <tr style=\"text-align: right;\">\n      <th></th>\n      <th>EXTRELNO</th>\n      <th>CLV</th>\n    </tr>\n  </thead>\n  <tbody>\n    <tr>\n      <th>0</th>\n      <td>20</td>\n      <td>770.965937</td>\n    </tr>\n    <tr>\n      <th>1</th>\n      <td>35</td>\n      <td>770.965937</td>\n    </tr>\n    <tr>\n      <th>2</th>\n      <td>72</td>\n      <td>770.862336</td>\n    </tr>\n    <tr>\n      <th>3</th>\n      <td>81</td>\n      <td>2303.809274</td>\n    </tr>\n    <tr>\n      <th>4</th>\n      <td>89</td>\n      <td>748.721848</td>\n    </tr>\n    <tr>\n      <th>...</th>\n      <td>...</td>\n      <td>...</td>\n    </tr>\n    <tr>\n      <th>10906</th>\n      <td>244569</td>\n      <td>25.922057</td>\n    </tr>\n    <tr>\n      <th>10907</th>\n      <td>244586</td>\n      <td>21.613268</td>\n    </tr>\n    <tr>\n      <th>10908</th>\n      <td>244638</td>\n      <td>21.613268</td>\n    </tr>\n    <tr>\n      <th>10909</th>\n      <td>244677</td>\n      <td>21.601714</td>\n    </tr>\n    <tr>\n      <th>10910</th>\n      <td>244728</td>\n      <td>25.922057</td>\n    </tr>\n  </tbody>\n</table>\n<p>10911 rows × 2 columns</p>\n</div>"
     },
     "execution_count": 35,
     "metadata": {},
     "output_type": "execute_result"
    }
   ],
   "source": [
    "clv = total_amount[[\"EXTRELNO\", \"PAMT_discounted\"]]\n",
    "clv.columns = [\"EXTRELNO\", \"CLV\"]\n",
    "clv"
   ],
   "metadata": {
    "collapsed": false
   }
  },
  {
   "cell_type": "markdown",
   "metadata": {},
   "source": [
    "### 3.3.2. Churn"
   ]
  },
  {
   "cell_type": "markdown",
   "metadata": {},
   "source": [
    "**Exercise:**\n",
    "\n",
    "1. **Merge** clv dataset with customer data and only keep the columns ``EXTRELNO`` and ``CLV``.\n",
    "2. **Set CLV to zero** for customers that did not make any transactions (i.e., donations) during the dependent period. NOTE: also check for **missing values* and hwo to handle them.\n",
    "3. Check **churn proportions** and check the difference between mean and standard deviation of **all** donors versus only donors with a **positive CLV**.\n",
    "4. Plot distribution of CLV of **all** donors versus only donors with a **positive CLV**.\n",
    "5. Check **how many** observations are left."
   ]
  },
  {
   "cell_type": "code",
   "execution_count": 40,
   "metadata": {},
   "outputs": [
    {
     "data": {
      "text/plain": "      EXTRELNO         CLV  churned\n0        26414  770.965937        0\n1        26419  771.030576        0\n2        26430  484.389230        0\n3        26431  777.367765        0\n4        26443  770.965937        0\n...        ...         ...      ...\n7034    232369  770.965937        0\n7035    232377  793.760524        0\n7036    232395  838.006453        0\n7037    232434  770.862336        0\n7038    232447  793.938283        0\n\n[7039 rows x 3 columns]",
      "text/html": "<div>\n<style scoped>\n    .dataframe tbody tr th:only-of-type {\n        vertical-align: middle;\n    }\n\n    .dataframe tbody tr th {\n        vertical-align: top;\n    }\n\n    .dataframe thead th {\n        text-align: right;\n    }\n</style>\n<table border=\"1\" class=\"dataframe\">\n  <thead>\n    <tr style=\"text-align: right;\">\n      <th></th>\n      <th>EXTRELNO</th>\n      <th>CLV</th>\n      <th>churned</th>\n    </tr>\n  </thead>\n  <tbody>\n    <tr>\n      <th>0</th>\n      <td>26414</td>\n      <td>770.965937</td>\n      <td>0</td>\n    </tr>\n    <tr>\n      <th>1</th>\n      <td>26419</td>\n      <td>771.030576</td>\n      <td>0</td>\n    </tr>\n    <tr>\n      <th>2</th>\n      <td>26430</td>\n      <td>484.389230</td>\n      <td>0</td>\n    </tr>\n    <tr>\n      <th>3</th>\n      <td>26431</td>\n      <td>777.367765</td>\n      <td>0</td>\n    </tr>\n    <tr>\n      <th>4</th>\n      <td>26443</td>\n      <td>770.965937</td>\n      <td>0</td>\n    </tr>\n    <tr>\n      <th>...</th>\n      <td>...</td>\n      <td>...</td>\n      <td>...</td>\n    </tr>\n    <tr>\n      <th>7034</th>\n      <td>232369</td>\n      <td>770.965937</td>\n      <td>0</td>\n    </tr>\n    <tr>\n      <th>7035</th>\n      <td>232377</td>\n      <td>793.760524</td>\n      <td>0</td>\n    </tr>\n    <tr>\n      <th>7036</th>\n      <td>232395</td>\n      <td>838.006453</td>\n      <td>0</td>\n    </tr>\n    <tr>\n      <th>7037</th>\n      <td>232434</td>\n      <td>770.862336</td>\n      <td>0</td>\n    </tr>\n    <tr>\n      <th>7038</th>\n      <td>232447</td>\n      <td>793.938283</td>\n      <td>0</td>\n    </tr>\n  </tbody>\n</table>\n<p>7039 rows × 3 columns</p>\n</div>"
     },
     "execution_count": 40,
     "metadata": {},
     "output_type": "execute_result"
    }
   ],
   "source": [
    "# Write your code here\n",
    "merge = pd.merge(left=customers[\"EXTRELNO\"], right=clv, on=\"EXTRELNO\", how=\"left\")\n",
    "merge[\"CLV\"] = merge[\"CLV\"].fillna(0)\n",
    "merge[\"churned\"] = np.where(merge[\"CLV\"] > 0, 0, 1)\n",
    "merge\n"
   ]
  },
  {
   "cell_type": "code",
   "execution_count": 47,
   "outputs": [],
   "source": [
    "mean_all_donors = merge[\"CLV\"].mean()\n",
    "sd_all_donors = merge[\"CLV\"].std()"
   ],
   "metadata": {
    "collapsed": false
   }
  },
  {
   "cell_type": "code",
   "execution_count": 48,
   "outputs": [],
   "source": [
    "mean_pos_donors = merge.groupby(\"churned\")[\"CLV\"].mean()\n",
    "mean_pos_donors = mean_pos_donors[0]\n",
    "\n",
    "sd_pos_donors = merge.groupby(\"churned\")[\"CLV\"].std()\n",
    "sd_pos_donors = sd_pos_donors[0]"
   ],
   "metadata": {
    "collapsed": false
   }
  },
  {
   "cell_type": "code",
   "execution_count": 49,
   "outputs": [
    {
     "name": "stdout",
     "output_type": "stream",
     "text": [
      "mean all donors: 690.6549348376129\n",
      "standard deviation all donors: 361.66105938180493\n",
      "mean positive clv donors: 754.548606742097\n",
      "standard deviation positive clv donors: 307.01917009073236\n"
     ]
    }
   ],
   "source": [
    "print(f'mean all donors: {mean_all_donors}\\nstandard deviation all donors: {sd_all_donors}\\nmean positive clv donors: {mean_pos_donors}\\nstandard deviation positive clv donors: {sd_pos_donors}')"
   ],
   "metadata": {
    "collapsed": false
   }
  },
  {
   "cell_type": "markdown",
   "metadata": {},
   "source": [
    "**Remember why we modelled churn in a two-phase model?** \n",
    "\n",
    "Because otherwise our sample would be **induced by zero values** for our regression model. However, our sample is induced much stronger by another value: the **default donation contracts**! (i.e., CLV around 770). So should we not tackle this? In fact it might be better to model this seperately, rather than churn: *default_value if P(default), E(CLV) otherwise*. Or even in a **three-phase model**!\n",
    "\n",
    "But in this case, we will be using the more default way to model CLV, with **churn probability** as secondary input, as this is the most common way. Be aware, however, that you might need to model it slightly different in reality. Always inspect your data!"
   ]
  },
  {
   "cell_type": "markdown",
   "metadata": {},
   "source": [
    "## 3.4. Basetable"
   ]
  },
  {
   "cell_type": "markdown",
   "metadata": {},
   "source": [
    "Create the **final basetable** by joining all the independent variables with the dependent variables"
   ]
  },
  {
   "cell_type": "code",
   "execution_count": 51,
   "metadata": {},
   "outputs": [
    {
     "data": {
      "text/plain": "   EXTRELNO  frequency  recency  total_value  average_value  sendout  order  \\\n0     26414        117       13      2257.13      19.291709        0      1   \n1     26419         47       56      2556.99      54.404043        1      0   \n2     26430        119       13      2299.28      19.321681        1      1   \n3     26431         14      203      2742.57     195.897857        1      0   \n4     26443        116       13      2276.95      19.628879        0      1   \n\n   initiative  unknown  complaint  direction  LANGUACODE_FR  LANGUACODE_NL  \\\n0           0        1        0.0        1.0              0              1   \n1           0        1        0.0        1.0              0              1   \n2           0        1        1.0        1.0              0              1   \n3           0        1        0.0        0.0              0              1   \n4           0        1        0.0        0.0              0              1   \n\n          CLV  churned  \n0  770.965937        0  \n1  771.030576        0  \n2  484.389230        0  \n3  777.367765        0  \n4  770.965937        0  ",
      "text/html": "<div>\n<style scoped>\n    .dataframe tbody tr th:only-of-type {\n        vertical-align: middle;\n    }\n\n    .dataframe tbody tr th {\n        vertical-align: top;\n    }\n\n    .dataframe thead th {\n        text-align: right;\n    }\n</style>\n<table border=\"1\" class=\"dataframe\">\n  <thead>\n    <tr style=\"text-align: right;\">\n      <th></th>\n      <th>EXTRELNO</th>\n      <th>frequency</th>\n      <th>recency</th>\n      <th>total_value</th>\n      <th>average_value</th>\n      <th>sendout</th>\n      <th>order</th>\n      <th>initiative</th>\n      <th>unknown</th>\n      <th>complaint</th>\n      <th>direction</th>\n      <th>LANGUACODE_FR</th>\n      <th>LANGUACODE_NL</th>\n      <th>CLV</th>\n      <th>churned</th>\n    </tr>\n  </thead>\n  <tbody>\n    <tr>\n      <th>0</th>\n      <td>26414</td>\n      <td>117</td>\n      <td>13</td>\n      <td>2257.13</td>\n      <td>19.291709</td>\n      <td>0</td>\n      <td>1</td>\n      <td>0</td>\n      <td>1</td>\n      <td>0.0</td>\n      <td>1.0</td>\n      <td>0</td>\n      <td>1</td>\n      <td>770.965937</td>\n      <td>0</td>\n    </tr>\n    <tr>\n      <th>1</th>\n      <td>26419</td>\n      <td>47</td>\n      <td>56</td>\n      <td>2556.99</td>\n      <td>54.404043</td>\n      <td>1</td>\n      <td>0</td>\n      <td>0</td>\n      <td>1</td>\n      <td>0.0</td>\n      <td>1.0</td>\n      <td>0</td>\n      <td>1</td>\n      <td>771.030576</td>\n      <td>0</td>\n    </tr>\n    <tr>\n      <th>2</th>\n      <td>26430</td>\n      <td>119</td>\n      <td>13</td>\n      <td>2299.28</td>\n      <td>19.321681</td>\n      <td>1</td>\n      <td>1</td>\n      <td>0</td>\n      <td>1</td>\n      <td>1.0</td>\n      <td>1.0</td>\n      <td>0</td>\n      <td>1</td>\n      <td>484.389230</td>\n      <td>0</td>\n    </tr>\n    <tr>\n      <th>3</th>\n      <td>26431</td>\n      <td>14</td>\n      <td>203</td>\n      <td>2742.57</td>\n      <td>195.897857</td>\n      <td>1</td>\n      <td>0</td>\n      <td>0</td>\n      <td>1</td>\n      <td>0.0</td>\n      <td>0.0</td>\n      <td>0</td>\n      <td>1</td>\n      <td>777.367765</td>\n      <td>0</td>\n    </tr>\n    <tr>\n      <th>4</th>\n      <td>26443</td>\n      <td>116</td>\n      <td>13</td>\n      <td>2276.95</td>\n      <td>19.628879</td>\n      <td>0</td>\n      <td>1</td>\n      <td>0</td>\n      <td>1</td>\n      <td>0.0</td>\n      <td>0.0</td>\n      <td>0</td>\n      <td>1</td>\n      <td>770.965937</td>\n      <td>0</td>\n    </tr>\n  </tbody>\n</table>\n</div>"
     },
     "execution_count": 51,
     "metadata": {},
     "output_type": "execute_result"
    }
   ],
   "source": [
    "# Write your code here\n",
    "basetable = pd.merge(indep_basetable, merge, on=\"EXTRELNO\", how=\"left\")\n",
    "basetable.head()"
   ]
  },
  {
   "cell_type": "markdown",
   "metadata": {},
   "source": [
    "# 4. Modeling"
   ]
  },
  {
   "cell_type": "markdown",
   "metadata": {},
   "source": [
    "## 4.1. Split basetable into training and test"
   ]
  },
  {
   "cell_type": "markdown",
   "metadata": {},
   "source": [
    "First, we are going to **randomly split** our basetable into a training and test set.\n",
    "        \n",
    "        training set: this data will be used to train our model\n",
    "        validation set: check which churn treshold works best\n",
    "        test set: this data will be used to get an unbiased evaluation of our model\n",
    "        \n",
    "For this specific case, we will put 70% of the data into the **training set** and 30% of the data into the **test set**."
   ]
  },
  {
   "cell_type": "code",
   "execution_count": 53,
   "metadata": {},
   "outputs": [],
   "source": [
    "# Write your code here\n",
    "basetable_train, basetable_test = train_test_split(basetable, test_size=0.3, random_state=33, stratify = basetable[\"churned\"])\n"
   ]
  },
  {
   "cell_type": "markdown",
   "metadata": {},
   "source": [
    "Now split up into ``X`` and ``Y`` for the **fitting** of your models.\n",
    "\n",
    "**Remember**: We now have **two models**, so each model needs its own independent variables and dependent variable.\n",
    "    \n",
    "For the **churn model** we use ``all`` independent variables.  \n",
    "For the **clv model** we use ``recency``, ``frequency`` and ``monetary value`` (average + total)"
   ]
  },
  {
   "cell_type": "code",
   "execution_count": 56,
   "metadata": {},
   "outputs": [],
   "source": [
    "# Write your code here\n",
    "train_X_churn = basetable_train.drop([\"EXTRELNO\", \"churned\", \"CLV\"], axis=1)\n",
    "train_y_churn = basetable_train[\"churned\"]\n",
    "\n",
    "test_X_churn = basetable_test.drop([\"EXTRELNO\", \"churned\", \"CLV\"], axis=1)\n",
    "test_y_churn = basetable_test[\"churned\"]\n"
   ]
  },
  {
   "cell_type": "code",
   "execution_count": 57,
   "outputs": [],
   "source": [
    "train_X_clv = basetable_train[[\"recency\", \"frequency\", \"total_value\", \"average_value\"]]\n",
    "train_y_clv = basetable_train[\"CLV\"]\n",
    "\n",
    "test_X_clv = basetable_test[[\"recency\", \"frequency\", \"total_value\", \"average_value\"]]\n",
    "test_y_clv = basetable_test[\"CLV\"]"
   ],
   "metadata": {
    "collapsed": false
   }
  },
  {
   "cell_type": "markdown",
   "metadata": {},
   "source": [
    "## 4.2. Pre-Processing"
   ]
  },
  {
   "cell_type": "markdown",
   "metadata": {},
   "source": [
    "We will handle the **missing values** and **scaling** the same way we handled them during the churn case: replace missing values (besides recency!) with **0** and create ``indicator`` that you imputed them. Let's first check whether we have missing values in the first place:"
   ]
  },
  {
   "cell_type": "code",
   "execution_count": null,
   "metadata": {},
   "outputs": [],
   "source": [
    "# Write your code here\n",
    "\n"
   ]
  },
  {
   "cell_type": "markdown",
   "metadata": {},
   "source": [
    "As you can see there is **no imputation required** for CLV model! How is this possible? We used another **sampling definition**. So we only have to handle missing values in the churn dataset."
   ]
  },
  {
   "cell_type": "code",
   "execution_count": null,
   "metadata": {},
   "outputs": [],
   "source": [
    "# Write your code here\n",
    "\n"
   ]
  },
  {
   "cell_type": "markdown",
   "metadata": {},
   "source": [
    "Let's now perform the **scaling** on BOTH datasets (only features with range outside [0,1], like we did in the churn case):"
   ]
  },
  {
   "cell_type": "code",
   "execution_count": null,
   "metadata": {},
   "outputs": [],
   "source": [
    "# Write your code here\n",
    "\n"
   ]
  },
  {
   "cell_type": "code",
   "execution_count": null,
   "metadata": {},
   "outputs": [],
   "source": [
    "# Write your code here\n",
    "\n"
   ]
  },
  {
   "cell_type": "markdown",
   "metadata": {},
   "source": [
    "## 4.3. Logistic Regression for Churn"
   ]
  },
  {
   "cell_type": "markdown",
   "metadata": {},
   "source": [
    "Next, we will fit a **logistic regression model** onto the training set. \n",
    "This model will try to find a relationship between the independent variables and the dependent variable (``churn``).  "
   ]
  },
  {
   "cell_type": "code",
   "execution_count": null,
   "metadata": {},
   "outputs": [],
   "source": [
    "# Write your code here\n",
    "\n"
   ]
  },
  {
   "cell_type": "markdown",
   "metadata": {},
   "source": [
    "Use the fitted model on the test set to get $p(no  Churn)$ for each donor and check results.  "
   ]
  },
  {
   "cell_type": "code",
   "execution_count": null,
   "metadata": {},
   "outputs": [],
   "source": [
    "# Write your code here\n",
    "\n"
   ]
  },
  {
   "cell_type": "markdown",
   "metadata": {},
   "source": [
    "We only need the probability of **non-churning**, so select predictions for churn = 0 (i.e. probability of no churn) and **plot** the distribution of the probailities:"
   ]
  },
  {
   "cell_type": "code",
   "execution_count": null,
   "metadata": {},
   "outputs": [],
   "source": [
    "# Write your code here\n",
    "\n"
   ]
  },
  {
   "cell_type": "markdown",
   "metadata": {},
   "source": [
    "## 4.4. Linear Regression for CLV"
   ]
  },
  {
   "cell_type": "markdown",
   "metadata": {},
   "source": [
    "Next, we are going to train a model to **predict CLV**. This model wil use the ``RFM variables`` as its features and will **only** be trained on examples with a **positive CLV**. We only use those positive instances as the bias caused by the zeros is exactly what we're trying to solve: we want to **predict CLV if customers do not churn!**"
   ]
  },
  {
   "cell_type": "code",
   "execution_count": null,
   "metadata": {},
   "outputs": [],
   "source": [
    "# Write your code here\n",
    "\n"
   ]
  },
  {
   "cell_type": "markdown",
   "metadata": {},
   "source": [
    "We will now **adjust** those predictions for donors we assume to be churners. As you saw during the churn case, this treshold very important. We now simply use the **standard 50% cut-off**, but you can try out multiple tresholds and select the best one. To do so, you will need a **validation set** as you saw during the acquisition case."
   ]
  },
  {
   "cell_type": "code",
   "execution_count": null,
   "metadata": {},
   "outputs": [],
   "source": [
    "# Write your code here\n",
    "\n"
   ]
  },
  {
   "cell_type": "markdown",
   "metadata": {},
   "source": [
    "# 5. Evaluation"
   ]
  },
  {
   "cell_type": "markdown",
   "metadata": {},
   "source": [
    "Evaluate by calculating ``MAE`` and ``RMSE`` and comparing against a **baseline model**."
   ]
  },
  {
   "cell_type": "code",
   "execution_count": null,
   "metadata": {},
   "outputs": [],
   "source": [
    "# Write your code here\n",
    "\n"
   ]
  },
  {
   "cell_type": "code",
   "execution_count": null,
   "metadata": {},
   "outputs": [],
   "source": [
    "# Write your code here\n",
    "\n"
   ]
  },
  {
   "cell_type": "code",
   "execution_count": null,
   "metadata": {},
   "outputs": [],
   "source": [
    "# Write your code here\n",
    "\n"
   ]
  },
  {
   "cell_type": "markdown",
   "metadata": {},
   "source": [
    "Performance is only slightly better than using baseline model. This is probably because it would have even been better to use a **three-phase model** which models $P(defaultValue)$ seperately. Let's compare the **total CLV** (i.e., all donors) of our migration model to the the total CLV in reality."
   ]
  },
  {
   "cell_type": "code",
   "execution_count": null,
   "metadata": {},
   "outputs": [],
   "source": [
    "# Write your code here\n",
    "\n"
   ]
  },
  {
   "cell_type": "markdown",
   "metadata": {},
   "source": [
    "We are able to predict the **overall CLV** in the next 3 years with a **2.0% error rate**. This means that this approach approximately has **the same performance as migration modeling** on the aggregated level! \n",
    "\n",
    "Let's visualize how well our model performs by plotting the true CLV values next to our predicted CLV values. "
   ]
  },
  {
   "cell_type": "code",
   "execution_count": null,
   "metadata": {},
   "outputs": [],
   "source": [
    "# Write your code here\n",
    "\n"
   ]
  },
  {
   "cell_type": "markdown",
   "metadata": {},
   "source": [
    "**A little extra**: you can **order** the customers that have the highest predicted loss $(p(Churn) * E(CLV))$. Doing so, you know what customers will be **the most costly to lose**. These are the customers you need to focus on."
   ]
  },
  {
   "cell_type": "code",
   "execution_count": null,
   "metadata": {},
   "outputs": [],
   "source": [
    "# Write your code here\n",
    "\n"
   ]
  }
 ],
 "metadata": {
  "kernelspec": {
   "display_name": "Python 3 (ipykernel)",
   "language": "python",
   "name": "python3"
  },
  "language_info": {
   "codemirror_mode": {
    "name": "ipython",
    "version": 3
   },
   "file_extension": ".py",
   "mimetype": "text/x-python",
   "name": "python",
   "nbconvert_exporter": "python",
   "pygments_lexer": "ipython3",
   "version": "3.9.13"
  }
 },
 "nbformat": 4,
 "nbformat_minor": 2
}
