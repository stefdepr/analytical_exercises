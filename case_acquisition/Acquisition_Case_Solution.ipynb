{
 "cells": [
  {
   "cell_type": "markdown",
   "metadata": {},
   "source": [
    "# Acquisition"
   ]
  },
  {
   "cell_type": "code",
   "execution_count": 6,
   "metadata": {},
   "outputs": [],
   "source": [
    "# import the required packages\n",
    "import numpy as np \n",
    "import pandas as pd\n",
    "\n",
    "import re\n",
    "\n",
    "import matplotlib.pyplot as plt\n",
    "import seaborn as sns\n",
    "\n",
    "from sklearn.preprocessing import MinMaxScaler\n",
    "from sklearn.model_selection import train_test_split\n",
    "from sklearn.linear_model import LogisticRegression\n",
    "from sklearn.metrics import roc_auc_score, roc_curve"
   ]
  },
  {
   "cell_type": "markdown",
   "metadata": {},
   "source": [
    "# Case Overview"
   ]
  },
  {
   "cell_type": "markdown",
   "metadata": {},
   "source": [
    "- A B2B company conducted an **acquisition campaign** in which they tried to convert leads into customers.\n",
    "  In addition, they registered which leads eventually converted into profitable customers and which leads didn't.\n",
    "    \n",
    "    \n",
    "- The **B2B** company also gathered information about the **characteristics of the leads**:\n",
    "    \n",
    "   \n",
    "    a) The commercial dataset: this is a dataset which was bought from commercial vendors who are specialized in\n",
    "       collecting data from companies such as revenue, net profit, cashflow, number of employees etc. \n",
    "       This data is often expensive and contains a lot of missing values.\n",
    "    \n",
    "    \n",
    "    a) The web dataset: this is a dataset which was scraped from the web.\n",
    "       This is a very cheap source of information but needs a lot of preprocessing since it is unstructured.\n",
    "       Initially, it contained the textual data found on the website (if available) of each company. \n",
    "       In a next step, a text mining algorithm (Singular Value Decomposition) was used to convert this textual \n",
    "       data in 200 numerical variables (SVD_1, SVD_2, ..., SVD_200). \n",
    "       These variables somehow represent concepts which were found across all the\n",
    "       websites and the values for these variables represent how much a company focused on this concept on its \n",
    "       website. This dataset also contains the Target variable which represents whether a company was converted \n",
    "       into a profitable customer or not.\n",
    "      \n",
    "- The B2B company wants to **build a model** that tries to find a relationship between the characteristics of the leads on the one hand and the probability of converting into a profitable customer on the other hand. This would allow the B2B company to **only target leads with a high probability of converting** into a profitable customer."
   ]
  },
  {
   "cell_type": "markdown",
   "metadata": {},
   "source": [
    "The following pictures gives a **quick overview** of the case:"
   ]
  },
  {
   "cell_type": "markdown",
   "metadata": {},
   "source": [
    "<img src=\"./Data/acquisition_case_workflow.png\" width=\"800\">"
   ]
  },
  {
   "cell_type": "markdown",
   "metadata": {},
   "source": [
    "The following picture visualizes how **Singular Value Decomposition** (**SVD**) works:"
   ]
  },
  {
   "cell_type": "markdown",
   "metadata": {},
   "source": [
    "<img src=\"./data/lsi.png\" width=\"500\">"
   ]
  },
  {
   "cell_type": "markdown",
   "metadata": {},
   "source": [
    "# 1. Data Exploration"
   ]
  },
  {
   "cell_type": "code",
   "execution_count": 7,
   "metadata": {},
   "outputs": [],
   "source": [
    "# import web data\n",
    "web_data = pd.read_csv(\"./data/web1.csv\", encoding=\"latin1\")\n",
    "\n",
    "# import commercial data, but with NACE_code as a string variable to keep leading zero \n",
    "commercial_data = pd.read_csv(\"./data/commercial1.csv\", encoding=\"latin1\", dtype={'NACE_code': object})"
   ]
  },
  {
   "cell_type": "code",
   "execution_count": 8,
   "metadata": {},
   "outputs": [
    {
     "data": {
      "text/plain": "                                                 URI  \\\n0  file://C:\\sas\\small2\\n2-1313http%3A--www.melis...   \n1  file://C:\\sas\\small2\\n2-1327http%3A--www.auto-...   \n2  file://C:\\sas\\small2\\n2-1346http%3A--www.ac-me...   \n\n                                             NAME  TARGET  _DOCUMENT_  \\\n0        n2-1313http%3A--www.melisard.de-.txt.htm       0           1   \n1    n2-1327http%3A--www.auto-boehler.de-.txt.htm       0           2   \n2  n2-1346http%3A--www.ac-metallteile.de-.txt.htm       0           3   \n\n     _SVD_1    _SVD_2    _SVD_3    _SVD_4    _SVD_5    _SVD_6  ...  _SVD_192  \\\n0  0.390678 -0.118327  0.199925 -0.200753  0.053916 -0.104150  ... -0.013452   \n1  0.463090 -0.121661 -0.149195  0.222979 -0.097737  0.000127  ... -0.066052   \n2  0.425443 -0.192835 -0.162892  0.221980  0.106563 -0.120675  ...  0.010257   \n\n   _SVD_193  _SVD_194  _SVD_195  _SVD_196  _SVD_197  _SVD_198  _SVD_199  \\\n0  0.011185 -0.002033  0.005218 -0.007452  0.007244 -0.005440  0.012882   \n1  0.028640  0.020099 -0.013749 -0.006084 -0.004447  0.032138  0.020648   \n2  0.006590  0.058038  0.016583 -0.005697 -0.013547 -0.005410 -0.015903   \n\n   _SVD_200   _SVDLEN_  \n0 -0.000899  62.478443  \n1 -0.009978  36.631883  \n2  0.006741  43.768915  \n\n[3 rows x 205 columns]",
      "text/html": "<div>\n<style scoped>\n    .dataframe tbody tr th:only-of-type {\n        vertical-align: middle;\n    }\n\n    .dataframe tbody tr th {\n        vertical-align: top;\n    }\n\n    .dataframe thead th {\n        text-align: right;\n    }\n</style>\n<table border=\"1\" class=\"dataframe\">\n  <thead>\n    <tr style=\"text-align: right;\">\n      <th></th>\n      <th>URI</th>\n      <th>NAME</th>\n      <th>TARGET</th>\n      <th>_DOCUMENT_</th>\n      <th>_SVD_1</th>\n      <th>_SVD_2</th>\n      <th>_SVD_3</th>\n      <th>_SVD_4</th>\n      <th>_SVD_5</th>\n      <th>_SVD_6</th>\n      <th>...</th>\n      <th>_SVD_192</th>\n      <th>_SVD_193</th>\n      <th>_SVD_194</th>\n      <th>_SVD_195</th>\n      <th>_SVD_196</th>\n      <th>_SVD_197</th>\n      <th>_SVD_198</th>\n      <th>_SVD_199</th>\n      <th>_SVD_200</th>\n      <th>_SVDLEN_</th>\n    </tr>\n  </thead>\n  <tbody>\n    <tr>\n      <th>0</th>\n      <td>file://C:\\sas\\small2\\n2-1313http%3A--www.melis...</td>\n      <td>n2-1313http%3A--www.melisard.de-.txt.htm</td>\n      <td>0</td>\n      <td>1</td>\n      <td>0.390678</td>\n      <td>-0.118327</td>\n      <td>0.199925</td>\n      <td>-0.200753</td>\n      <td>0.053916</td>\n      <td>-0.104150</td>\n      <td>...</td>\n      <td>-0.013452</td>\n      <td>0.011185</td>\n      <td>-0.002033</td>\n      <td>0.005218</td>\n      <td>-0.007452</td>\n      <td>0.007244</td>\n      <td>-0.005440</td>\n      <td>0.012882</td>\n      <td>-0.000899</td>\n      <td>62.478443</td>\n    </tr>\n    <tr>\n      <th>1</th>\n      <td>file://C:\\sas\\small2\\n2-1327http%3A--www.auto-...</td>\n      <td>n2-1327http%3A--www.auto-boehler.de-.txt.htm</td>\n      <td>0</td>\n      <td>2</td>\n      <td>0.463090</td>\n      <td>-0.121661</td>\n      <td>-0.149195</td>\n      <td>0.222979</td>\n      <td>-0.097737</td>\n      <td>0.000127</td>\n      <td>...</td>\n      <td>-0.066052</td>\n      <td>0.028640</td>\n      <td>0.020099</td>\n      <td>-0.013749</td>\n      <td>-0.006084</td>\n      <td>-0.004447</td>\n      <td>0.032138</td>\n      <td>0.020648</td>\n      <td>-0.009978</td>\n      <td>36.631883</td>\n    </tr>\n    <tr>\n      <th>2</th>\n      <td>file://C:\\sas\\small2\\n2-1346http%3A--www.ac-me...</td>\n      <td>n2-1346http%3A--www.ac-metallteile.de-.txt.htm</td>\n      <td>0</td>\n      <td>3</td>\n      <td>0.425443</td>\n      <td>-0.192835</td>\n      <td>-0.162892</td>\n      <td>0.221980</td>\n      <td>0.106563</td>\n      <td>-0.120675</td>\n      <td>...</td>\n      <td>0.010257</td>\n      <td>0.006590</td>\n      <td>0.058038</td>\n      <td>0.016583</td>\n      <td>-0.005697</td>\n      <td>-0.013547</td>\n      <td>-0.005410</td>\n      <td>-0.015903</td>\n      <td>0.006741</td>\n      <td>43.768915</td>\n    </tr>\n  </tbody>\n</table>\n<p>3 rows × 205 columns</p>\n</div>"
     },
     "execution_count": 8,
     "metadata": {},
     "output_type": "execute_result"
    }
   ],
   "source": [
    "# inspect the first three observations of the web data\n",
    "web_data.head(3)"
   ]
  },
  {
   "cell_type": "code",
   "execution_count": 9,
   "metadata": {},
   "outputs": [
    {
     "data": {
      "text/plain": "(14227, 205)"
     },
     "execution_count": 9,
     "metadata": {},
     "output_type": "execute_result"
    }
   ],
   "source": [
    "# inspect web data shape\n",
    "web_data.shape"
   ]
  },
  {
   "cell_type": "code",
   "execution_count": 10,
   "metadata": {},
   "outputs": [
    {
     "data": {
      "text/plain": "         F1                                       Company_name NACE_code  \\\n0   25954.0  GEBR. ALT BAU- UND BRENNSTOFF-FACHHANDEL GMBH ...      4673   \n1  215453.0                                BIO MARKT NORD GMBH      4631   \n2    4881.0  DATA MODUL AG, PRODUKTION UND VERTRIEB VON ELE...      4651   \n\n   Op__Rev_th_EUR_Last_avail__yr    Web_site_addresses  \\\n0                       8147.124           www.-alt.de   \n1                            NaN  www.-biomarktnord.de   \n2                      98542.000   www.-data-modul.com   \n\n   Cash_flow_th_EUR_Last_avail__yr  Number_of_employees_Last_avail__  \\\n0                         -702.418                               NaN   \n1                              NaN                              37.0   \n2                          316.000                             377.0   \n\n   Total_assets_th_EUR_Last_avail__  Long_term_debt_th_EUR_Last_avail  \\\n0                          -137.687                           907.340   \n1                          5663.853                           763.598   \n2                         60464.000                          3444.000   \n\n   Loans_th_EUR_Last_avail__yr  Capital_th_EUR_Last_avail__yr  \\\n0                          NaN                         -822.0   \n1                          NaN                          259.0   \n2                      18647.0                        30724.0   \n\n   Sales_th_EUR_Last_avail__yr  Gross_profit_th_EUR_Last_avail__  \\\n0                     8073.996                               NaN   \n1                          NaN                               NaN   \n2                    98705.000                           20985.0   \n\n   Profit_margin___Last_avail__yr  Liquidity_ratio_x_Last_avail__yr  \\\n0                        0.336277                               NaN   \n1                             NaN                               NaN   \n2                       -0.720025                          1.448288   \n\n   Average_cost_of_employee__th__EU  Profit_per_employee__th__EUR_Las  \\\n0                               NaN                               NaN   \n1                               NaN                           4.00000   \n2                         74.617544                           5.17193   \n\n   Total_assets_per_employee__th__E  Earnings_yield_______current  \n0                               NaN                           NaN  \n1                        470.853000                           NaN  \n2                        203.235088                     -4.461526  ",
      "text/html": "<div>\n<style scoped>\n    .dataframe tbody tr th:only-of-type {\n        vertical-align: middle;\n    }\n\n    .dataframe tbody tr th {\n        vertical-align: top;\n    }\n\n    .dataframe thead th {\n        text-align: right;\n    }\n</style>\n<table border=\"1\" class=\"dataframe\">\n  <thead>\n    <tr style=\"text-align: right;\">\n      <th></th>\n      <th>F1</th>\n      <th>Company_name</th>\n      <th>NACE_code</th>\n      <th>Op__Rev_th_EUR_Last_avail__yr</th>\n      <th>Web_site_addresses</th>\n      <th>Cash_flow_th_EUR_Last_avail__yr</th>\n      <th>Number_of_employees_Last_avail__</th>\n      <th>Total_assets_th_EUR_Last_avail__</th>\n      <th>Long_term_debt_th_EUR_Last_avail</th>\n      <th>Loans_th_EUR_Last_avail__yr</th>\n      <th>Capital_th_EUR_Last_avail__yr</th>\n      <th>Sales_th_EUR_Last_avail__yr</th>\n      <th>Gross_profit_th_EUR_Last_avail__</th>\n      <th>Profit_margin___Last_avail__yr</th>\n      <th>Liquidity_ratio_x_Last_avail__yr</th>\n      <th>Average_cost_of_employee__th__EU</th>\n      <th>Profit_per_employee__th__EUR_Las</th>\n      <th>Total_assets_per_employee__th__E</th>\n      <th>Earnings_yield_______current</th>\n    </tr>\n  </thead>\n  <tbody>\n    <tr>\n      <th>0</th>\n      <td>25954.0</td>\n      <td>GEBR. ALT BAU- UND BRENNSTOFF-FACHHANDEL GMBH ...</td>\n      <td>4673</td>\n      <td>8147.124</td>\n      <td>www.-alt.de</td>\n      <td>-702.418</td>\n      <td>NaN</td>\n      <td>-137.687</td>\n      <td>907.340</td>\n      <td>NaN</td>\n      <td>-822.0</td>\n      <td>8073.996</td>\n      <td>NaN</td>\n      <td>0.336277</td>\n      <td>NaN</td>\n      <td>NaN</td>\n      <td>NaN</td>\n      <td>NaN</td>\n      <td>NaN</td>\n    </tr>\n    <tr>\n      <th>1</th>\n      <td>215453.0</td>\n      <td>BIO MARKT NORD GMBH</td>\n      <td>4631</td>\n      <td>NaN</td>\n      <td>www.-biomarktnord.de</td>\n      <td>NaN</td>\n      <td>37.0</td>\n      <td>5663.853</td>\n      <td>763.598</td>\n      <td>NaN</td>\n      <td>259.0</td>\n      <td>NaN</td>\n      <td>NaN</td>\n      <td>NaN</td>\n      <td>NaN</td>\n      <td>NaN</td>\n      <td>4.00000</td>\n      <td>470.853000</td>\n      <td>NaN</td>\n    </tr>\n    <tr>\n      <th>2</th>\n      <td>4881.0</td>\n      <td>DATA MODUL AG, PRODUKTION UND VERTRIEB VON ELE...</td>\n      <td>4651</td>\n      <td>98542.000</td>\n      <td>www.-data-modul.com</td>\n      <td>316.000</td>\n      <td>377.0</td>\n      <td>60464.000</td>\n      <td>3444.000</td>\n      <td>18647.0</td>\n      <td>30724.0</td>\n      <td>98705.000</td>\n      <td>20985.0</td>\n      <td>-0.720025</td>\n      <td>1.448288</td>\n      <td>74.617544</td>\n      <td>5.17193</td>\n      <td>203.235088</td>\n      <td>-4.461526</td>\n    </tr>\n  </tbody>\n</table>\n</div>"
     },
     "execution_count": 10,
     "metadata": {},
     "output_type": "execute_result"
    }
   ],
   "source": [
    "# inspect the first three observations of the commercial data\n",
    "commercial_data.head(3)"
   ]
  },
  {
   "cell_type": "code",
   "execution_count": 11,
   "metadata": {},
   "outputs": [
    {
     "data": {
      "text/plain": "(375876, 19)"
     },
     "execution_count": 11,
     "metadata": {},
     "output_type": "execute_result"
    }
   ],
   "source": [
    "# inspect commercial data shape\n",
    "commercial_data.shape"
   ]
  },
  {
   "cell_type": "markdown",
   "metadata": {},
   "source": [
    "# 2. Data Preparation"
   ]
  },
  {
   "cell_type": "markdown",
   "metadata": {},
   "source": [
    "## 2.1. Merge Commercial and Web data"
   ]
  },
  {
   "cell_type": "markdown",
   "metadata": {},
   "source": [
    "As a first step, we are going to merge the commercial and web datasets together to obtain a large dataset with **all possible explanatory variables**. Since the website address can be found in both datasets, we are going to **merge the commercial data with the web data by the website address**.\n",
    "\n",
    "In the web data, the website address can be found in the `NAME` variable, but it is not yet in the correct format.\n",
    "The website address is always located between the substring \"3A--\" and its domain extension \".at\" or \".de\" (the companies from which the websites were scraped were all located in Germany or Austria). \n",
    "\n",
    "So for example the website address for the observation with `NAME` variable \"n2-1327http%3A--www.auto-boehler.de-.txt.htm\" is www.auto-boehler.de"
   ]
  },
  {
   "cell_type": "markdown",
   "metadata": {},
   "source": [
    "**Exercise 1**:\n",
    "    \n",
    "1) **Remove** every observation from the web data where the domain extention .at or .de cannot be found in the NAME variable (we are only interested in companies with a valid website address)\n",
    "       \n",
    "       \n",
    "2) Extract all the website adresses from ``NAME`` variable and store it in a **new column** called ``Web_site_addresses``\n",
    "    \n",
    "    \n",
    "3) **Add** \"www.\" to websites where this is missing (this is necessary to obtain the correct matches between the  web data and commercial data)"
   ]
  },
  {
   "cell_type": "code",
   "execution_count": 12,
   "metadata": {},
   "outputs": [],
   "source": [
    "# remove observations which have no domain extensions .at or .de in website\n",
    "web_data = web_data[(web_data[\"NAME\"].str.contains(\".at\")) | (web_data[\"NAME\"].str.contains(\".de\"))]"
   ]
  },
  {
   "cell_type": "code",
   "execution_count": 13,
   "metadata": {},
   "outputs": [],
   "source": [
    "# extract website from NAME variable and store it in a new variable \"Web_site_addresses\"\n",
    "web_data[\"Web_site_addresses\"] = web_data[\"NAME\"].apply(lambda x: x[x.index(\"3A--\")+4:x.index(\".at\") +3] if \".at\" in x else x[x.index(\"3A--\")+4:x.index(\".de\")+3])"
   ]
  },
  {
   "cell_type": "code",
   "execution_count": 14,
   "metadata": {},
   "outputs": [],
   "source": [
    "# add www. to website adresses\n",
    "web_data[\"Web_site_addresses\"] = web_data[\"Web_site_addresses\"].apply(lambda x: \"www.\" + x if \"www.\" not in x else x)"
   ]
  },
  {
   "cell_type": "markdown",
   "metadata": {},
   "source": [
    "Let's check whether your code was correct by comparing the `NAME` variable with the newly created `Web_site_addresses` variable for the **first 5 observations** in the web data."
   ]
  },
  {
   "cell_type": "code",
   "execution_count": 15,
   "metadata": {},
   "outputs": [
    {
     "data": {
      "text/plain": "                                             NAME     Web_site_addresses\n0        n2-1313http%3A--www.melisard.de-.txt.htm        www.melisard.de\n1    n2-1327http%3A--www.auto-boehler.de-.txt.htm    www.auto-boehler.de\n2  n2-1346http%3A--www.ac-metallteile.de-.txt.htm  www.ac-metallteile.de\n3    n2-1361http%3A--www.awelldigital.de-.txt.htm    www.awelldigital.de\n4       n2-1393http%3A--www.paulbooch.de-.txt.htm       www.paulbooch.de",
      "text/html": "<div>\n<style scoped>\n    .dataframe tbody tr th:only-of-type {\n        vertical-align: middle;\n    }\n\n    .dataframe tbody tr th {\n        vertical-align: top;\n    }\n\n    .dataframe thead th {\n        text-align: right;\n    }\n</style>\n<table border=\"1\" class=\"dataframe\">\n  <thead>\n    <tr style=\"text-align: right;\">\n      <th></th>\n      <th>NAME</th>\n      <th>Web_site_addresses</th>\n    </tr>\n  </thead>\n  <tbody>\n    <tr>\n      <th>0</th>\n      <td>n2-1313http%3A--www.melisard.de-.txt.htm</td>\n      <td>www.melisard.de</td>\n    </tr>\n    <tr>\n      <th>1</th>\n      <td>n2-1327http%3A--www.auto-boehler.de-.txt.htm</td>\n      <td>www.auto-boehler.de</td>\n    </tr>\n    <tr>\n      <th>2</th>\n      <td>n2-1346http%3A--www.ac-metallteile.de-.txt.htm</td>\n      <td>www.ac-metallteile.de</td>\n    </tr>\n    <tr>\n      <th>3</th>\n      <td>n2-1361http%3A--www.awelldigital.de-.txt.htm</td>\n      <td>www.awelldigital.de</td>\n    </tr>\n    <tr>\n      <th>4</th>\n      <td>n2-1393http%3A--www.paulbooch.de-.txt.htm</td>\n      <td>www.paulbooch.de</td>\n    </tr>\n  </tbody>\n</table>\n</div>"
     },
     "execution_count": 15,
     "metadata": {},
     "output_type": "execute_result"
    }
   ],
   "source": [
    "# check\n",
    "web_data[[\"NAME\", \"Web_site_addresses\"]].head(5)"
   ]
  },
  {
   "cell_type": "markdown",
   "metadata": {},
   "source": [
    "**Exercise 2**:\n",
    "    \n",
    "1) **Merge** the web data and commercial data by the website address into a new DataFrame called basetable\n",
    "    \n",
    "    \n",
    "2) **Inspect** the first 3 observations of the basetable"
   ]
  },
  {
   "cell_type": "code",
   "execution_count": 16,
   "metadata": {},
   "outputs": [],
   "source": [
    "# merge web data with commercial data\n",
    "basetable = pd.merge(left=commercial_data, right=web_data, on=\"Web_site_addresses\", how=\"inner\")"
   ]
  },
  {
   "cell_type": "code",
   "execution_count": 17,
   "metadata": {},
   "outputs": [
    {
     "data": {
      "text/plain": "        F1                                       Company_name NACE_code  \\\n0  35867.0                       1-2-3 GEBÄUDEMANAGEMENT GMBH      6832   \n1  78669.0                            1A PERSONALPARTNER GMBH      7820   \n2  49946.0  2 K KREATIVKONZEPT GESELLSCHAFT FÜR EFFEKTIVE ...      7311   \n\n   Op__Rev_th_EUR_Last_avail__yr         Web_site_addresses  \\\n0                         4807.0             www.1-2-3gm.de   \n1                         2133.0  www.1a-personalpartner.de   \n2                         2842.0                 www.2-k.de   \n\n   Cash_flow_th_EUR_Last_avail__yr  Number_of_employees_Last_avail__  \\\n0                              NaN                               NaN   \n1                              NaN                               NaN   \n2                              NaN                               NaN   \n\n   Total_assets_th_EUR_Last_avail__  Long_term_debt_th_EUR_Last_avail  \\\n0                           723.714                          -733.529   \n1                          7987.706                           872.000   \n2                         -3959.834                          -571.000   \n\n   Loans_th_EUR_Last_avail__yr  ...  _SVD_192  _SVD_193  _SVD_194  _SVD_195  \\\n0                      -1475.0  ... -0.045802 -0.020668 -0.034812 -0.019691   \n1                       8132.0  ...  0.012936  0.005614  0.025265  0.020918   \n2                      -5418.0  ...  0.010125  0.006644  0.009632  0.006227   \n\n   _SVD_196  _SVD_197  _SVD_198  _SVD_199  _SVD_200   _SVDLEN_  \n0 -0.008253  0.038824 -0.023298  0.064798  0.011593  26.117231  \n1  0.027040  0.007349 -0.036119 -0.039724  0.012309  30.332482  \n2  0.022338  0.004339 -0.006715  0.019218 -0.029916  60.150309  \n\n[3 rows x 224 columns]",
      "text/html": "<div>\n<style scoped>\n    .dataframe tbody tr th:only-of-type {\n        vertical-align: middle;\n    }\n\n    .dataframe tbody tr th {\n        vertical-align: top;\n    }\n\n    .dataframe thead th {\n        text-align: right;\n    }\n</style>\n<table border=\"1\" class=\"dataframe\">\n  <thead>\n    <tr style=\"text-align: right;\">\n      <th></th>\n      <th>F1</th>\n      <th>Company_name</th>\n      <th>NACE_code</th>\n      <th>Op__Rev_th_EUR_Last_avail__yr</th>\n      <th>Web_site_addresses</th>\n      <th>Cash_flow_th_EUR_Last_avail__yr</th>\n      <th>Number_of_employees_Last_avail__</th>\n      <th>Total_assets_th_EUR_Last_avail__</th>\n      <th>Long_term_debt_th_EUR_Last_avail</th>\n      <th>Loans_th_EUR_Last_avail__yr</th>\n      <th>...</th>\n      <th>_SVD_192</th>\n      <th>_SVD_193</th>\n      <th>_SVD_194</th>\n      <th>_SVD_195</th>\n      <th>_SVD_196</th>\n      <th>_SVD_197</th>\n      <th>_SVD_198</th>\n      <th>_SVD_199</th>\n      <th>_SVD_200</th>\n      <th>_SVDLEN_</th>\n    </tr>\n  </thead>\n  <tbody>\n    <tr>\n      <th>0</th>\n      <td>35867.0</td>\n      <td>1-2-3 GEBÄUDEMANAGEMENT GMBH</td>\n      <td>6832</td>\n      <td>4807.0</td>\n      <td>www.1-2-3gm.de</td>\n      <td>NaN</td>\n      <td>NaN</td>\n      <td>723.714</td>\n      <td>-733.529</td>\n      <td>-1475.0</td>\n      <td>...</td>\n      <td>-0.045802</td>\n      <td>-0.020668</td>\n      <td>-0.034812</td>\n      <td>-0.019691</td>\n      <td>-0.008253</td>\n      <td>0.038824</td>\n      <td>-0.023298</td>\n      <td>0.064798</td>\n      <td>0.011593</td>\n      <td>26.117231</td>\n    </tr>\n    <tr>\n      <th>1</th>\n      <td>78669.0</td>\n      <td>1A PERSONALPARTNER GMBH</td>\n      <td>7820</td>\n      <td>2133.0</td>\n      <td>www.1a-personalpartner.de</td>\n      <td>NaN</td>\n      <td>NaN</td>\n      <td>7987.706</td>\n      <td>872.000</td>\n      <td>8132.0</td>\n      <td>...</td>\n      <td>0.012936</td>\n      <td>0.005614</td>\n      <td>0.025265</td>\n      <td>0.020918</td>\n      <td>0.027040</td>\n      <td>0.007349</td>\n      <td>-0.036119</td>\n      <td>-0.039724</td>\n      <td>0.012309</td>\n      <td>30.332482</td>\n    </tr>\n    <tr>\n      <th>2</th>\n      <td>49946.0</td>\n      <td>2 K KREATIVKONZEPT GESELLSCHAFT FÜR EFFEKTIVE ...</td>\n      <td>7311</td>\n      <td>2842.0</td>\n      <td>www.2-k.de</td>\n      <td>NaN</td>\n      <td>NaN</td>\n      <td>-3959.834</td>\n      <td>-571.000</td>\n      <td>-5418.0</td>\n      <td>...</td>\n      <td>0.010125</td>\n      <td>0.006644</td>\n      <td>0.009632</td>\n      <td>0.006227</td>\n      <td>0.022338</td>\n      <td>0.004339</td>\n      <td>-0.006715</td>\n      <td>0.019218</td>\n      <td>-0.029916</td>\n      <td>60.150309</td>\n    </tr>\n  </tbody>\n</table>\n<p>3 rows × 224 columns</p>\n</div>"
     },
     "execution_count": 17,
     "metadata": {},
     "output_type": "execute_result"
    }
   ],
   "source": [
    "# check\n",
    "basetable.head(3)"
   ]
  },
  {
   "cell_type": "code",
   "execution_count": 18,
   "metadata": {},
   "outputs": [
    {
     "data": {
      "text/plain": "(8621, 224)"
     },
     "execution_count": 18,
     "metadata": {},
     "output_type": "execute_result"
    }
   ],
   "source": [
    "# check shape\n",
    "basetable.shape"
   ]
  },
  {
   "cell_type": "markdown",
   "metadata": {},
   "source": [
    "Now we can inspect the **distribution of the dependent variable** which is represented by the `TARGET` variable. This variable indicates whether a company was successfully converted into a profitable customer (`TARGET`=1) or not (`TARGET`=0)"
   ]
  },
  {
   "cell_type": "code",
   "execution_count": 19,
   "metadata": {
    "scrolled": true
   },
   "outputs": [
    {
     "data": {
      "text/plain": "1    0.645749\n0    0.354251\nName: TARGET, dtype: float64"
     },
     "execution_count": 19,
     "metadata": {},
     "output_type": "execute_result"
    }
   ],
   "source": [
    "# inspect the distribution of profitable vs non-profitable customers of the new basetable\n",
    "basetable[\"TARGET\"].value_counts(normalize=True)"
   ]
  },
  {
   "cell_type": "markdown",
   "metadata": {},
   "source": [
    "## 2.2. Variable Creation"
   ]
  },
  {
   "cell_type": "markdown",
   "metadata": {},
   "source": [
    "The `NACE` code is a variable that came from the commercial data and indicates the **economic sector** of the company \n",
    "and could be an important predictor. Let's have a look in how many different economic sectors the companies from are dataset are active:"
   ]
  },
  {
   "cell_type": "code",
   "execution_count": 20,
   "metadata": {
    "scrolled": true
   },
   "outputs": [
    {
     "name": "stdout",
     "output_type": "stream",
     "text": [
      "Number of different economic sectors: 528\n"
     ]
    }
   ],
   "source": [
    "print(\"Number of different economic sectors: %s\" %len(set(basetable[\"NACE_code\"])))"
   ]
  },
  {
   "cell_type": "markdown",
   "metadata": {},
   "source": [
    "The high number of different economic sectors present in our dataset could result in the model not finding a clear relationship between an economic sector and the probability of successful conversion.\n",
    "Hence, we are going to **extract the first digit** of the ``NACE_code``, which equals the general economic sector in which the company is active. \n",
    "\n",
    "For example, the economic sector *\"Manufacture of Electrical Household Appliances\"* with NACE code 2751 is a subcategory of the general economic sector *\"Manufacturing\"*, which is represented by the number 2 in the NACE code. This will **reduce the number of different categories** significantly and will help the model in finding a relationship between the economic sector of a company and the dependent variable."
   ]
  },
  {
   "cell_type": "markdown",
   "metadata": {},
   "source": [
    "**Exercise 3**:\n",
    "    \n",
    "1) Extract the **first digit** of the ``NACE_code`` variable and store it in a new column called ``NACE_1``. **Compare** the ``NACE_code`` and ``NACE_1`` variables for the first 3 observations to inspect whether your code was correct.\n",
    "       "
   ]
  },
  {
   "cell_type": "code",
   "execution_count": 21,
   "metadata": {},
   "outputs": [],
   "source": [
    "# extract first digit of nace code\n",
    "basetable[\"NACE_1\"] = basetable[\"NACE_code\"].apply(lambda x: int(x[0]))"
   ]
  },
  {
   "cell_type": "code",
   "execution_count": 22,
   "metadata": {},
   "outputs": [
    {
     "data": {
      "text/plain": "  NACE_code  NACE_1\n0      6832       6\n1      7820       7\n2      7311       7\n3      7112       7\n4      2896       2",
      "text/html": "<div>\n<style scoped>\n    .dataframe tbody tr th:only-of-type {\n        vertical-align: middle;\n    }\n\n    .dataframe tbody tr th {\n        vertical-align: top;\n    }\n\n    .dataframe thead th {\n        text-align: right;\n    }\n</style>\n<table border=\"1\" class=\"dataframe\">\n  <thead>\n    <tr style=\"text-align: right;\">\n      <th></th>\n      <th>NACE_code</th>\n      <th>NACE_1</th>\n    </tr>\n  </thead>\n  <tbody>\n    <tr>\n      <th>0</th>\n      <td>6832</td>\n      <td>6</td>\n    </tr>\n    <tr>\n      <th>1</th>\n      <td>7820</td>\n      <td>7</td>\n    </tr>\n    <tr>\n      <th>2</th>\n      <td>7311</td>\n      <td>7</td>\n    </tr>\n    <tr>\n      <th>3</th>\n      <td>7112</td>\n      <td>7</td>\n    </tr>\n    <tr>\n      <th>4</th>\n      <td>2896</td>\n      <td>2</td>\n    </tr>\n  </tbody>\n</table>\n</div>"
     },
     "execution_count": 22,
     "metadata": {},
     "output_type": "execute_result"
    }
   ],
   "source": [
    "# check\n",
    "basetable[[\"NACE_code\", \"NACE_1\"]].head(5)"
   ]
  },
  {
   "cell_type": "markdown",
   "metadata": {},
   "source": [
    "Finally, we are going to **drop** all the variables we don't need for the analysis"
   ]
  },
  {
   "cell_type": "code",
   "execution_count": 23,
   "metadata": {},
   "outputs": [],
   "source": [
    "# define the columns we are going to drop\n",
    "columns_to_drop = [\"F1\", \"Company_name\", \"Web_site_addresses\", \"URI\", \"NAME\",\"_SVDLEN_\", \"_DOCUMENT_\", \"NACE_code\"]\n",
    "# drop these colums from the basetable\n",
    "basetable = basetable.drop(columns_to_drop, axis=1)"
   ]
  },
  {
   "cell_type": "markdown",
   "metadata": {},
   "source": [
    "# 3. Train - Val - Test Split"
   ]
  },
  {
   "cell_type": "markdown",
   "metadata": {},
   "source": [
    "For this specific case, we will **train several models** and **select the best performing model as our final model**.\n",
    "Therefore, we will split our data into **3 different sets**: the *training set*, *validation set* and *test set*.\n",
    "\n",
    "   - The ``training set`` will be used for training all the models \n",
    "   - The ``validation set`` will be used for evaluating all the models and selecting the best model\n",
    "   - The ``test set`` will be used for evaluating the best model"
   ]
  },
  {
   "cell_type": "code",
   "execution_count": 24,
   "metadata": {},
   "outputs": [],
   "source": [
    "# split data randomly into training and test set (set seed to 33 to replicate same results)\n",
    "basetable_train, basetable_test = train_test_split(basetable, test_size=0.6, random_state=33)\n",
    "# split test set randomly into validation and test set\n",
    "basetable_val, basetable_test = train_test_split(basetable_test, test_size=0.5, random_state=33)"
   ]
  },
  {
   "cell_type": "code",
   "execution_count": 25,
   "metadata": {},
   "outputs": [
    {
     "name": "stdout",
     "output_type": "stream",
     "text": [
      "(3448, 217)\n",
      "(2586, 217)\n",
      "(2587, 217)\n"
     ]
    }
   ],
   "source": [
    "# check shapes\n",
    "print(basetable_train.shape)\n",
    "print(basetable_val.shape)\n",
    "print(basetable_test.shape)"
   ]
  },
  {
   "cell_type": "markdown",
   "metadata": {},
   "source": [
    "# 4. Missing Value Imputation"
   ]
  },
  {
   "cell_type": "markdown",
   "metadata": {},
   "source": [
    "Next, we are going to **handle missing values**. In general, there exist **2 strategies** for dealing with missing values: \n",
    "\n",
    "1) Removing variables with missing values.\n",
    "2) Imputing the missing values of the variables. \n",
    "\n",
    "Missing values of ``numeric variables`` are often imputed by the **mean** of the observed values of that variable, while missing values of ``categorical variables`` are often imputed by the **mode** of the observed values of that variable. These statistics are **calculated on the the training set** and are used to **impute the missing values of the training, validation AND test set**."
   ]
  },
  {
   "cell_type": "code",
   "execution_count": 26,
   "metadata": {},
   "outputs": [
    {
     "name": "stdout",
     "output_type": "stream",
     "text": [
      "Op__Rev_th_EUR_Last_avail__yr  :  1542\n",
      "Cash_flow_th_EUR_Last_avail__yr  :  2649\n",
      "Number_of_employees_Last_avail__  :  2221\n",
      "Total_assets_th_EUR_Last_avail__  :  457\n",
      "Long_term_debt_th_EUR_Last_avail  :  477\n",
      "Loans_th_EUR_Last_avail__yr  :  1433\n",
      "Capital_th_EUR_Last_avail__yr  :  488\n",
      "Sales_th_EUR_Last_avail__yr  :  1748\n",
      "Gross_profit_th_EUR_Last_avail__  :  3433\n",
      "Profit_margin___Last_avail__yr  :  2899\n",
      "Liquidity_ratio_x_Last_avail__yr  :  1385\n",
      "Average_cost_of_employee__th__EU  :  2829\n",
      "Profit_per_employee__th__EUR_Las  :  2221\n",
      "Total_assets_per_employee__th__E  :  2646\n",
      "Earnings_yield_______current  :  3434\n"
     ]
    }
   ],
   "source": [
    "# inspect missing values per variable in training set\n",
    "for col in basetable_train.columns:\n",
    "    col_missings = basetable_train[col].isnull().sum()\n",
    "    if col_missings > 0:\n",
    "        print(col, \" : \", col_missings)"
   ]
  },
  {
   "cell_type": "markdown",
   "metadata": {},
   "source": [
    "For this specific case, we are first going to **drop variables** with more than 50% of the observations missing in the training set. For variables with less than 50% of the observations missings in the training set, we are going to **impute** the missing values with their mean."
   ]
  },
  {
   "cell_type": "markdown",
   "metadata": {},
   "source": [
    "**Exercise 4**:\n",
    "    \n",
    "1) Get the **percentage of missing values** per variable in training set.\n",
    "    \n",
    "    \n",
    "2) **Store** the names of the variables with more than 50% of the observations missing **in a list** and **drop** these from the basetable.\n",
    "       \n",
    "       \n",
    "3) **Drop** the variables from the train, validation and test set."
   ]
  },
  {
   "cell_type": "code",
   "execution_count": 27,
   "metadata": {},
   "outputs": [],
   "source": [
    "# get the proportion of missing values per variables\n",
    "percent_missing = basetable_train.isnull().sum() / len(basetable_train)\n",
    "# store in dataFrame\n",
    "percent_missing = pd.DataFrame(percent_missing).reset_index()\n",
    "# rename variables\n",
    "percent_missing.columns = [\"variable_name\", \"percent_missing\"]"
   ]
  },
  {
   "cell_type": "code",
   "execution_count": 28,
   "metadata": {},
   "outputs": [
    {
     "data": {
      "text/plain": "                      variable_name  percent_missing\n0     Op__Rev_th_EUR_Last_avail__yr         0.447216\n1   Cash_flow_th_EUR_Last_avail__yr         0.768271\n2  Number_of_employees_Last_avail__         0.644142\n3  Total_assets_th_EUR_Last_avail__         0.132541\n4  Long_term_debt_th_EUR_Last_avail         0.138341",
      "text/html": "<div>\n<style scoped>\n    .dataframe tbody tr th:only-of-type {\n        vertical-align: middle;\n    }\n\n    .dataframe tbody tr th {\n        vertical-align: top;\n    }\n\n    .dataframe thead th {\n        text-align: right;\n    }\n</style>\n<table border=\"1\" class=\"dataframe\">\n  <thead>\n    <tr style=\"text-align: right;\">\n      <th></th>\n      <th>variable_name</th>\n      <th>percent_missing</th>\n    </tr>\n  </thead>\n  <tbody>\n    <tr>\n      <th>0</th>\n      <td>Op__Rev_th_EUR_Last_avail__yr</td>\n      <td>0.447216</td>\n    </tr>\n    <tr>\n      <th>1</th>\n      <td>Cash_flow_th_EUR_Last_avail__yr</td>\n      <td>0.768271</td>\n    </tr>\n    <tr>\n      <th>2</th>\n      <td>Number_of_employees_Last_avail__</td>\n      <td>0.644142</td>\n    </tr>\n    <tr>\n      <th>3</th>\n      <td>Total_assets_th_EUR_Last_avail__</td>\n      <td>0.132541</td>\n    </tr>\n    <tr>\n      <th>4</th>\n      <td>Long_term_debt_th_EUR_Last_avail</td>\n      <td>0.138341</td>\n    </tr>\n  </tbody>\n</table>\n</div>"
     },
     "execution_count": 28,
     "metadata": {},
     "output_type": "execute_result"
    }
   ],
   "source": [
    "# check\n",
    "percent_missing.head()"
   ]
  },
  {
   "cell_type": "code",
   "execution_count": 29,
   "metadata": {},
   "outputs": [],
   "source": [
    "# store variables with more than 50% of the observations missing in a list\n",
    "variables_to_drop = list(percent_missing[\"variable_name\"][percent_missing[\"percent_missing\"] > 0.50])"
   ]
  },
  {
   "cell_type": "code",
   "execution_count": 30,
   "metadata": {},
   "outputs": [
    {
     "data": {
      "text/plain": "['Cash_flow_th_EUR_Last_avail__yr',\n 'Number_of_employees_Last_avail__',\n 'Sales_th_EUR_Last_avail__yr',\n 'Gross_profit_th_EUR_Last_avail__',\n 'Profit_margin___Last_avail__yr',\n 'Average_cost_of_employee__th__EU',\n 'Profit_per_employee__th__EUR_Las',\n 'Total_assets_per_employee__th__E',\n 'Earnings_yield_______current']"
     },
     "execution_count": 30,
     "metadata": {},
     "output_type": "execute_result"
    }
   ],
   "source": [
    "# check\n",
    "variables_to_drop"
   ]
  },
  {
   "cell_type": "code",
   "execution_count": 31,
   "metadata": {},
   "outputs": [],
   "source": [
    "# drop variables from train, validation and test set\n",
    "basetable_train = basetable_train.drop(columns=variables_to_drop, axis=1)\n",
    "basetable_val = basetable_val.drop(columns=variables_to_drop, axis=1)\n",
    "basetable_test = basetable_test.drop(columns=variables_to_drop, axis=1)"
   ]
  },
  {
   "cell_type": "markdown",
   "metadata": {},
   "source": [
    "**Exercise 5**:\n",
    "    \n",
    "1) Get the **mean** of all the numeric variables of the training set.\n",
    "    \n",
    "    \n",
    "2) **Impute** the missing values of the training, validation and test set.\n",
    "    \n",
    "    \n",
    "3) Inspect number of **missing values** in training, validation and test set."
   ]
  },
  {
   "cell_type": "code",
   "execution_count": 32,
   "metadata": {},
   "outputs": [
    {
     "name": "stdout",
     "output_type": "stream",
     "text": [
      "0\n",
      "0\n",
      "0\n"
     ]
    }
   ],
   "source": [
    "# get mean of every numeric variable in training set\n",
    "mean_dict = dict(basetable_train.mean())\n",
    "basetable_train = basetable_train.fillna(mean_dict)\n",
    "basetable_val = basetable_val.fillna(mean_dict)\n",
    "basetable_test = basetable_test.fillna(mean_dict)\n",
    "print(basetable_train.isnull().sum().sum())\n",
    "print(basetable_val.isnull().sum().sum())\n",
    "print(basetable_test.isnull().sum().sum())"
   ]
  },
  {
   "cell_type": "code",
   "execution_count": 33,
   "metadata": {},
   "outputs": [
    {
     "data": {
      "text/plain": "{'Op__Rev_th_EUR_Last_avail__yr': 58583.6856096537,\n 'Total_assets_th_EUR_Last_avail__': 39872.203179204334,\n 'Long_term_debt_th_EUR_Last_avail': 6974.83848502187,\n 'Loans_th_EUR_Last_avail__yr': 1538.139695285359,\n 'Capital_th_EUR_Last_avail__yr': 2454.0094787162393,\n 'Liquidity_ratio_x_Last_avail__yr': 3.56707527129545,\n 'TARGET': 0.6508120649651972,\n '_SVD_1': 0.4726701480846564,\n '_SVD_2': -0.0980615621125581,\n '_SVD_3': -0.09093354583352657,\n '_SVD_4': 0.051447287016299546,\n '_SVD_5': 0.06897833371244229,\n '_SVD_6': 0.023134963902731755,\n '_SVD_7': -0.024239507093576185,\n '_SVD_8': -0.009716250886861974,\n '_SVD_9': -0.014235413379814408,\n '_SVD_10': 0.008802945689965196,\n '_SVD_11': -0.021338125234163095,\n '_SVD_12': -0.009008660760266837,\n '_SVD_13': 0.0016618562681264485,\n '_SVD_14': 0.0018164814343967482,\n '_SVD_15': -0.008159412397679816,\n '_SVD_16': 0.010395307738977379,\n '_SVD_17': 0.002901523394415606,\n '_SVD_18': 0.001858091098582948,\n '_SVD_19': -0.00029401290944625834,\n '_SVD_20': 0.005066885639939679,\n '_SVD_21': -0.0010824048591647325,\n '_SVD_22': -0.0013995550488109043,\n '_SVD_23': 0.003730406125503768,\n '_SVD_24': -0.0014243578568491277,\n '_SVD_25': 0.009760535332489865,\n '_SVD_26': 0.002056365934773775,\n '_SVD_27': 0.003433834152320191,\n '_SVD_28': 0.0013480689572215755,\n '_SVD_29': 0.002414990307192577,\n '_SVD_30': -0.00413474492235311,\n '_SVD_31': -0.00990247761778211,\n '_SVD_32': 0.010645939674332918,\n '_SVD_33': 0.0016586472616879394,\n '_SVD_34': -0.0021806070028712304,\n '_SVD_35': 0.0028720974534222686,\n '_SVD_36': 0.0009378366495359619,\n '_SVD_37': -0.0025210857014464345,\n '_SVD_38': 0.005734463284686782,\n '_SVD_39': -0.000277192476418505,\n '_SVD_40': 0.009552352945929024,\n '_SVD_41': -0.004507423078770301,\n '_SVD_42': -0.0017562393897657242,\n '_SVD_43': -0.0013061139569717224,\n '_SVD_44': 0.0008247428060324841,\n '_SVD_45': 0.001895652694605572,\n '_SVD_46': 0.0012559995459106744,\n '_SVD_47': -0.00281682948487297,\n '_SVD_48': 0.0028062100649312765,\n '_SVD_49': 0.0011005617678654302,\n '_SVD_50': 0.0003048640218097457,\n '_SVD_51': 0.0018083659179814323,\n '_SVD_52': 0.00241898774086427,\n '_SVD_53': -0.0005979798231438454,\n '_SVD_54': 0.0027462995787569063,\n '_SVD_55': -0.003349104946930096,\n '_SVD_56': 0.0018661205635150749,\n '_SVD_57': -0.0005746953053944317,\n '_SVD_58': 0.00012233145013674466,\n '_SVD_59': 0.0022966815743619465,\n '_SVD_60': -0.001972110611370679,\n '_SVD_61': -0.0005849058086340777,\n '_SVD_62': -0.002462746324786287,\n '_SVD_63': 0.00165757942468097,\n '_SVD_64': 0.003205852256583529,\n '_SVD_65': -0.00031570787587470987,\n '_SVD_66': -0.003446812808816702,\n '_SVD_67': -0.0031116183708940043,\n '_SVD_68': 0.0005360018439965181,\n '_SVD_69': 0.0008194607298476681,\n '_SVD_70': -0.002004103842199833,\n '_SVD_71': 0.0001478533372749421,\n '_SVD_72': -0.0011402732407478865,\n '_SVD_73': 0.0036817292634280774,\n '_SVD_74': 0.001157361134338747,\n '_SVD_75': 0.0035830328875967785,\n '_SVD_76': -5.7190167209919785e-05,\n '_SVD_77': -0.0009994703852668177,\n '_SVD_78': 0.0027439746392456522,\n '_SVD_79': 0.0002667366374770879,\n '_SVD_80': -0.0009323951244194611,\n '_SVD_81': -0.0020886825170832986,\n '_SVD_82': 0.0011314317823955926,\n '_SVD_83': 0.0006884818760339331,\n '_SVD_84': -0.00010852838407772637,\n '_SVD_85': -0.0005697385271171728,\n '_SVD_86': -0.0005222030887180978,\n '_SVD_87': -0.0006730261944895594,\n '_SVD_88': -0.00020626202517401608,\n '_SVD_89': 0.002242057184394438,\n '_SVD_90': 2.246145127610218e-05,\n '_SVD_91': -0.0014695555118619482,\n '_SVD_92': -0.0022077812327436232,\n '_SVD_93': -0.0032158010294373682,\n '_SVD_94': 0.000298510701102088,\n '_SVD_95': -0.0003561270411542918,\n '_SVD_96': 0.00042609418021403707,\n '_SVD_97': -3.7941485295822274e-05,\n '_SVD_98': -0.0024968970868039426,\n '_SVD_99': 0.0022813112683294635,\n '_SVD_100': -0.0020806256135730903,\n '_SVD_101': -0.001608481005394433,\n '_SVD_102': -0.0006872959220162121,\n '_SVD_103': -0.0018694127375000061,\n '_SVD_104': 0.0008206829712587004,\n '_SVD_105': 0.0008376485153712296,\n '_SVD_106': -0.0025206140533132896,\n '_SVD_107': 0.000929992416763342,\n '_SVD_108': -0.0010367060613073963,\n '_SVD_109': 0.000259132586118444,\n '_SVD_110': -0.001822435451371714,\n '_SVD_111': 0.0017304452108538241,\n '_SVD_112': -0.001973029566906615,\n '_SVD_113': -0.0009860738056786608,\n '_SVD_114': -0.000304247221261053,\n '_SVD_115': 0.0006692424738689106,\n '_SVD_116': 0.00017818750928074286,\n '_SVD_117': -0.0021600964407482606,\n '_SVD_118': 0.000549232842577726,\n '_SVD_119': 0.001622853667401385,\n '_SVD_120': 0.0021019516503919607,\n '_SVD_121': 0.0017708858706786562,\n '_SVD_122': 0.0004903233676157463,\n '_SVD_123': -0.0006477060403238481,\n '_SVD_124': 0.0012817086274651947,\n '_SVD_125': 0.00032437958106148465,\n '_SVD_126': -0.00032538920691647325,\n '_SVD_127': -0.0010319060341357333,\n '_SVD_128': 0.0008498478793863094,\n '_SVD_129': 0.0025257870396666444,\n '_SVD_130': 0.0007484602162703,\n '_SVD_131': 0.001665959520388631,\n '_SVD_132': -0.000752208125570998,\n '_SVD_133': -0.0016777842810324847,\n '_SVD_134': -0.00011265976656250039,\n '_SVD_135': 8.222868126693666e-05,\n '_SVD_136': 0.0008920846427204202,\n '_SVD_137': -0.0013059559194605538,\n '_SVD_138': -0.00020863713672865462,\n '_SVD_139': 0.001080324985556842,\n '_SVD_140': -3.948467920533597e-05,\n '_SVD_141': 0.0006646344682085267,\n '_SVD_142': 0.0006392950105568454,\n '_SVD_143': -0.00030977908154408425,\n '_SVD_144': -0.00037490829773781826,\n '_SVD_145': 0.0029017081493526694,\n '_SVD_146': -0.00030409044255974517,\n '_SVD_147': -0.0014470036128770329,\n '_SVD_148': 0.0017848348873799292,\n '_SVD_149': -0.00045788180929929304,\n '_SVD_150': -0.00230832257479699,\n '_SVD_151': 0.0006842964552784227,\n '_SVD_152': 0.0010479512706412424,\n '_SVD_153': -0.00041719499147331774,\n '_SVD_154': 0.0009441017595872961,\n '_SVD_155': -0.0009741845610208822,\n '_SVD_156': 0.0008510677473607881,\n '_SVD_157': -0.0008191621803364261,\n '_SVD_158': -0.0017540333800684503,\n '_SVD_159': 0.00027380846690574123,\n '_SVD_160': -3.468911429814381e-05,\n '_SVD_161': 0.0018505627042343417,\n '_SVD_162': 0.0015353078633700693,\n '_SVD_163': 0.00026696673240139186,\n '_SVD_164': 0.0001284306277842244,\n '_SVD_165': -0.0005388657598607871,\n '_SVD_166': 0.0006289154097157768,\n '_SVD_167': 0.0011185009962296978,\n '_SVD_168': -0.001193204363194028,\n '_SVD_169': 0.001979284967256383,\n '_SVD_170': -7.862788433874518e-05,\n '_SVD_171': 0.000505663075214879,\n '_SVD_172': -0.0005481965788146744,\n '_SVD_173': 0.0002205738285055106,\n '_SVD_174': 0.0003064316346867748,\n '_SVD_175': -0.000725302028161254,\n '_SVD_176': -0.0012915395718705867,\n '_SVD_177': 0.0005396571194025536,\n '_SVD_178': 0.0018126960320475629,\n '_SVD_179': -0.0011935701636310928,\n '_SVD_180': -0.0013560892701276093,\n '_SVD_181': 0.0008108857472447788,\n '_SVD_182': 0.00032713237717517493,\n '_SVD_183': -0.001053959762781351,\n '_SVD_184': -6.339994196635554e-05,\n '_SVD_185': 0.0014258512791473382,\n '_SVD_186': 0.0006986161588676642,\n '_SVD_187': -0.000430392798172854,\n '_SVD_188': -0.0009494822703306262,\n '_SVD_189': 0.0006675544475348039,\n '_SVD_190': -0.0010495786973027826,\n '_SVD_191': -0.000552790010769431,\n '_SVD_192': 0.0010862073080502004,\n '_SVD_193': -0.001417215412848601,\n '_SVD_194': -0.0006165660338773488,\n '_SVD_195': -0.00031698292486244146,\n '_SVD_196': -0.0004131067459028407,\n '_SVD_197': 0.0002703945815237526,\n '_SVD_198': 0.0002541824463918498,\n '_SVD_199': -0.0033140378154854757,\n '_SVD_200': -0.002185020184802777,\n 'NACE_1': 4.776972157772621}"
     },
     "execution_count": 33,
     "metadata": {},
     "output_type": "execute_result"
    }
   ],
   "source": [
    "# check\n",
    "mean_dict"
   ]
  },
  {
   "cell_type": "code",
   "execution_count": 34,
   "metadata": {},
   "outputs": [],
   "source": [
    "# impute missing values of training, validation and test set\n",
    "basetable_train = basetable_train.fillna(mean_dict)\n",
    "basetable_val = basetable_val.fillna(mean_dict)\n",
    "basetable_test = basetable_test.fillna(mean_dict)"
   ]
  },
  {
   "cell_type": "code",
   "execution_count": 35,
   "metadata": {
    "scrolled": true
   },
   "outputs": [
    {
     "name": "stdout",
     "output_type": "stream",
     "text": [
      "0\n",
      "0\n",
      "0\n"
     ]
    }
   ],
   "source": [
    "# check if there are still missing values:\n",
    "print(basetable_train.isnull().sum().sum())\n",
    "print(basetable_val.isnull().sum().sum())\n",
    "print(basetable_test.isnull().sum().sum())"
   ]
  },
  {
   "cell_type": "markdown",
   "metadata": {},
   "source": [
    "# 5. Standardization"
   ]
  },
  {
   "cell_type": "markdown",
   "metadata": {},
   "source": [
    "Next, we are going to **standardize the numeric features**. The statistics required for standardizing the features are first extracted from the ``training set``. Afterwards, the features from the training, validation AND test set are standardized by using these statistics."
   ]
  },
  {
   "cell_type": "code",
   "execution_count": 36,
   "metadata": {},
   "outputs": [],
   "source": [
    "# define all the numeric features\n",
    "all_columns = basetable_train.columns\n",
    "numeric_features = [obs for obs in all_columns if obs not in [\"TARGET\", \"NACE_1\"]]"
   ]
  },
  {
   "cell_type": "code",
   "execution_count": 37,
   "metadata": {},
   "outputs": [],
   "source": [
    "# import min max scaler\n",
    "from sklearn.preprocessing import MinMaxScaler\n",
    "\n",
    "# initialize the scaler\n",
    "scaler = MinMaxScaler()\n",
    "\n",
    "# fit scaler on all the numeric variables from training set\n",
    "scaler.fit(basetable_train[numeric_features])\n",
    "\n",
    "# scale features\n",
    "basetable_train[numeric_features] = scaler.transform(basetable_train[numeric_features])\n",
    "basetable_val[numeric_features] = scaler.transform(basetable_val[numeric_features])\n",
    "basetable_test[numeric_features] = scaler.transform(basetable_test[numeric_features])"
   ]
  },
  {
   "cell_type": "code",
   "execution_count": 38,
   "metadata": {},
   "outputs": [
    {
     "data": {
      "text/plain": "       Op__Rev_th_EUR_Last_avail__yr  Total_assets_th_EUR_Last_avail__  \\\ncount                    3448.000000                       3448.000000   \nmean                        0.003465                          0.001511   \nstd                         0.023453                          0.020174   \nmin                         0.000000                          0.000000   \n25%                         0.000225                          0.000257   \n50%                         0.003465                          0.000461   \n75%                         0.003465                          0.000749   \nmax                         1.000000                          1.000000   \n\n       Long_term_debt_th_EUR_Last_avail  Loans_th_EUR_Last_avail__yr  \\\ncount                       3448.000000                  3448.000000   \nmean                           0.001252                     0.020637   \nstd                            0.018658                     0.024010   \nmin                            0.000000                     0.000000   \n25%                            0.000142                     0.016003   \n50%                            0.000255                     0.020637   \n75%                            0.000542                     0.021187   \nmax                            1.000000                     1.000000   \n\n       Capital_th_EUR_Last_avail__yr  Liquidity_ratio_x_Last_avail__yr  \\\ncount                    3448.000000                       3448.000000   \nmean                        0.012254                          0.047697   \nstd                         0.022738                          0.066768   \nmin                         0.000000                          0.000000   \n25%                         0.010045                          0.022787   \n50%                         0.010586                          0.047697   \n75%                         0.011176                          0.047697   \nmax                         1.000000                          1.000000   \n\n            TARGET       _SVD_1       _SVD_2       _SVD_3  ...     _SVD_192  \\\ncount  3448.000000  3448.000000  3448.000000  3448.000000  ...  3448.000000   \nmean      0.650812     0.597429     0.215480     0.163270  ...     0.331109   \nstd       0.476783     0.163974     0.212487     0.161312  ...     0.077416   \nmin       0.000000     0.000000     0.000000     0.000000  ...     0.000000   \n25%       0.000000     0.501061     0.094163     0.069418  ...     0.286822   \n50%       1.000000     0.624984     0.137525     0.115564  ...     0.329478   \n75%       1.000000     0.712969     0.216156     0.198162  ...     0.373647   \nmax       1.000000     1.000000     1.000000     1.000000  ...     1.000000   \n\n          _SVD_193     _SVD_194     _SVD_195     _SVD_196     _SVD_197  \\\ncount  3448.000000  3448.000000  3448.000000  3448.000000  3448.000000   \nmean      0.344645     0.396621     0.404582     0.578439     0.590668   \nstd       0.069033     0.061908     0.074416     0.079640     0.083245   \nmin       0.000000     0.000000     0.000000     0.000000     0.000000   \n25%       0.306339     0.364886     0.360695     0.536959     0.545506   \n50%       0.345289     0.397138     0.402239     0.579382     0.592085   \n75%       0.381555     0.429928     0.444794     0.620663     0.638360   \nmax       1.000000     1.000000     1.000000     1.000000     1.000000   \n\n          _SVD_198     _SVD_199     _SVD_200       NACE_1  \ncount  3448.000000  3448.000000  3448.000000  3448.000000  \nmean      0.726498     0.530047     0.447108     4.776972  \nstd       0.058268     0.090091     0.092560     2.167453  \nmin       0.000000     0.000000     0.000000     0.000000  \n25%       0.696586     0.481555     0.393728     3.000000  \n50%       0.726327     0.529774     0.447458     4.000000  \n75%       0.756914     0.579079     0.498837     7.000000  \nmax       1.000000     1.000000     1.000000     9.000000  \n\n[8 rows x 208 columns]",
      "text/html": "<div>\n<style scoped>\n    .dataframe tbody tr th:only-of-type {\n        vertical-align: middle;\n    }\n\n    .dataframe tbody tr th {\n        vertical-align: top;\n    }\n\n    .dataframe thead th {\n        text-align: right;\n    }\n</style>\n<table border=\"1\" class=\"dataframe\">\n  <thead>\n    <tr style=\"text-align: right;\">\n      <th></th>\n      <th>Op__Rev_th_EUR_Last_avail__yr</th>\n      <th>Total_assets_th_EUR_Last_avail__</th>\n      <th>Long_term_debt_th_EUR_Last_avail</th>\n      <th>Loans_th_EUR_Last_avail__yr</th>\n      <th>Capital_th_EUR_Last_avail__yr</th>\n      <th>Liquidity_ratio_x_Last_avail__yr</th>\n      <th>TARGET</th>\n      <th>_SVD_1</th>\n      <th>_SVD_2</th>\n      <th>_SVD_3</th>\n      <th>...</th>\n      <th>_SVD_192</th>\n      <th>_SVD_193</th>\n      <th>_SVD_194</th>\n      <th>_SVD_195</th>\n      <th>_SVD_196</th>\n      <th>_SVD_197</th>\n      <th>_SVD_198</th>\n      <th>_SVD_199</th>\n      <th>_SVD_200</th>\n      <th>NACE_1</th>\n    </tr>\n  </thead>\n  <tbody>\n    <tr>\n      <th>count</th>\n      <td>3448.000000</td>\n      <td>3448.000000</td>\n      <td>3448.000000</td>\n      <td>3448.000000</td>\n      <td>3448.000000</td>\n      <td>3448.000000</td>\n      <td>3448.000000</td>\n      <td>3448.000000</td>\n      <td>3448.000000</td>\n      <td>3448.000000</td>\n      <td>...</td>\n      <td>3448.000000</td>\n      <td>3448.000000</td>\n      <td>3448.000000</td>\n      <td>3448.000000</td>\n      <td>3448.000000</td>\n      <td>3448.000000</td>\n      <td>3448.000000</td>\n      <td>3448.000000</td>\n      <td>3448.000000</td>\n      <td>3448.000000</td>\n    </tr>\n    <tr>\n      <th>mean</th>\n      <td>0.003465</td>\n      <td>0.001511</td>\n      <td>0.001252</td>\n      <td>0.020637</td>\n      <td>0.012254</td>\n      <td>0.047697</td>\n      <td>0.650812</td>\n      <td>0.597429</td>\n      <td>0.215480</td>\n      <td>0.163270</td>\n      <td>...</td>\n      <td>0.331109</td>\n      <td>0.344645</td>\n      <td>0.396621</td>\n      <td>0.404582</td>\n      <td>0.578439</td>\n      <td>0.590668</td>\n      <td>0.726498</td>\n      <td>0.530047</td>\n      <td>0.447108</td>\n      <td>4.776972</td>\n    </tr>\n    <tr>\n      <th>std</th>\n      <td>0.023453</td>\n      <td>0.020174</td>\n      <td>0.018658</td>\n      <td>0.024010</td>\n      <td>0.022738</td>\n      <td>0.066768</td>\n      <td>0.476783</td>\n      <td>0.163974</td>\n      <td>0.212487</td>\n      <td>0.161312</td>\n      <td>...</td>\n      <td>0.077416</td>\n      <td>0.069033</td>\n      <td>0.061908</td>\n      <td>0.074416</td>\n      <td>0.079640</td>\n      <td>0.083245</td>\n      <td>0.058268</td>\n      <td>0.090091</td>\n      <td>0.092560</td>\n      <td>2.167453</td>\n    </tr>\n    <tr>\n      <th>min</th>\n      <td>0.000000</td>\n      <td>0.000000</td>\n      <td>0.000000</td>\n      <td>0.000000</td>\n      <td>0.000000</td>\n      <td>0.000000</td>\n      <td>0.000000</td>\n      <td>0.000000</td>\n      <td>0.000000</td>\n      <td>0.000000</td>\n      <td>...</td>\n      <td>0.000000</td>\n      <td>0.000000</td>\n      <td>0.000000</td>\n      <td>0.000000</td>\n      <td>0.000000</td>\n      <td>0.000000</td>\n      <td>0.000000</td>\n      <td>0.000000</td>\n      <td>0.000000</td>\n      <td>0.000000</td>\n    </tr>\n    <tr>\n      <th>25%</th>\n      <td>0.000225</td>\n      <td>0.000257</td>\n      <td>0.000142</td>\n      <td>0.016003</td>\n      <td>0.010045</td>\n      <td>0.022787</td>\n      <td>0.000000</td>\n      <td>0.501061</td>\n      <td>0.094163</td>\n      <td>0.069418</td>\n      <td>...</td>\n      <td>0.286822</td>\n      <td>0.306339</td>\n      <td>0.364886</td>\n      <td>0.360695</td>\n      <td>0.536959</td>\n      <td>0.545506</td>\n      <td>0.696586</td>\n      <td>0.481555</td>\n      <td>0.393728</td>\n      <td>3.000000</td>\n    </tr>\n    <tr>\n      <th>50%</th>\n      <td>0.003465</td>\n      <td>0.000461</td>\n      <td>0.000255</td>\n      <td>0.020637</td>\n      <td>0.010586</td>\n      <td>0.047697</td>\n      <td>1.000000</td>\n      <td>0.624984</td>\n      <td>0.137525</td>\n      <td>0.115564</td>\n      <td>...</td>\n      <td>0.329478</td>\n      <td>0.345289</td>\n      <td>0.397138</td>\n      <td>0.402239</td>\n      <td>0.579382</td>\n      <td>0.592085</td>\n      <td>0.726327</td>\n      <td>0.529774</td>\n      <td>0.447458</td>\n      <td>4.000000</td>\n    </tr>\n    <tr>\n      <th>75%</th>\n      <td>0.003465</td>\n      <td>0.000749</td>\n      <td>0.000542</td>\n      <td>0.021187</td>\n      <td>0.011176</td>\n      <td>0.047697</td>\n      <td>1.000000</td>\n      <td>0.712969</td>\n      <td>0.216156</td>\n      <td>0.198162</td>\n      <td>...</td>\n      <td>0.373647</td>\n      <td>0.381555</td>\n      <td>0.429928</td>\n      <td>0.444794</td>\n      <td>0.620663</td>\n      <td>0.638360</td>\n      <td>0.756914</td>\n      <td>0.579079</td>\n      <td>0.498837</td>\n      <td>7.000000</td>\n    </tr>\n    <tr>\n      <th>max</th>\n      <td>1.000000</td>\n      <td>1.000000</td>\n      <td>1.000000</td>\n      <td>1.000000</td>\n      <td>1.000000</td>\n      <td>1.000000</td>\n      <td>1.000000</td>\n      <td>1.000000</td>\n      <td>1.000000</td>\n      <td>1.000000</td>\n      <td>...</td>\n      <td>1.000000</td>\n      <td>1.000000</td>\n      <td>1.000000</td>\n      <td>1.000000</td>\n      <td>1.000000</td>\n      <td>1.000000</td>\n      <td>1.000000</td>\n      <td>1.000000</td>\n      <td>1.000000</td>\n      <td>9.000000</td>\n    </tr>\n  </tbody>\n</table>\n<p>8 rows × 208 columns</p>\n</div>"
     },
     "execution_count": 38,
     "metadata": {},
     "output_type": "execute_result"
    }
   ],
   "source": [
    "# check\n",
    "basetable_train.describe()"
   ]
  },
  {
   "cell_type": "markdown",
   "metadata": {},
   "source": [
    "# 6. Modeling"
   ]
  },
  {
   "cell_type": "markdown",
   "metadata": {},
   "source": [
    "Now that we have done all the data preprocessing, we can **start building our models**."
   ]
  },
  {
   "cell_type": "markdown",
   "metadata": {},
   "source": [
    "## 6.1. Logistic Regression"
   ]
  },
  {
   "cell_type": "markdown",
   "metadata": {},
   "source": [
    "Instead of fitting one logistic regression model on the training set, \n",
    "we are going to **fit multiple models** on the training set: \n",
    "        \n",
    "        - One model which is trained only with variables coming from the commercial data\n",
    "        - One model which is trained only with variables coming from the web data\n",
    "        - One model which is trained on the variables coming from the commercial and web data\n",
    "    \n",
    "This will allow us to compare the **predictive performance** of each model and to **investigate** whether the augmentation of the commercial data with the scraped web data increases the predictive performance of the model"
   ]
  },
  {
   "cell_type": "markdown",
   "metadata": {},
   "source": [
    "**Exercise 6**:\n",
    "    \n",
    "1) Create **a function** that fits a logistic regression model on a user-specified training set with a user-specified list of independent features and a certain dependent variable (**1**). Once the model is fit, the function should also make predictions on the user-specified evaluation set (**2**). These predictions should be the predicted probabilities instead of the predicted categories and can be obtained by the ``predict_proba`` function of a trained sklearn model.\n",
    "       \n",
    "    - The function should thus accept **4 parameters**: \n",
    "        - A list of the names of the features\n",
    "        - The name of the dependent variable\n",
    "        - The training dataset\n",
    "        - The evaluation dataset\n",
    "    - The function should **return** the predicted probabilities for each observation from the evaluation dataset"
   ]
  },
  {
   "cell_type": "code",
   "execution_count": 39,
   "metadata": {},
   "outputs": [],
   "source": [
    "# define function that fits a logistic regression model on a specific set of features \n",
    "# and makes predictions on a specific data set\n",
    "def fit_lr_with_features(features, dependent_variable, train_data, test_data):\n",
    "    # initialize logistic regression model\n",
    "    lr_model = LogisticRegression(max_iter=1000)\n",
    "    \n",
    "    # fit logistic regression model on training set\n",
    "    lr_model.fit(X=train_data[features], y=train_data[dependent_variable])\n",
    "    \n",
    "    # make predictions on test set\n",
    "    test_preds = lr_model.predict_proba(X=test_data[features])\n",
    "    \n",
    "    # return predictions\n",
    "    return(test_preds)"
   ]
  },
  {
   "cell_type": "markdown",
   "metadata": {},
   "source": [
    "Next, we **define the features** coming from the web data and the commercial data."
   ]
  },
  {
   "cell_type": "code",
   "execution_count": 40,
   "metadata": {},
   "outputs": [],
   "source": [
    "# define features coming from web data\n",
    "web_data_features = [\"_SVD_%s\" %i for i in range(1, 200)]\n",
    "\n",
    "# define features coming from commercial data\n",
    "com_data_features = [\"Op__Rev_th_EUR_Last_avail__yr\",\n",
    "                      \"Total_assets_th_EUR_Last_avail__\", \n",
    "                      \"Long_term_debt_th_EUR_Last_avail\",\n",
    "                      \"Loans_th_EUR_Last_avail__yr\",\n",
    "                      \"Capital_th_EUR_Last_avail__yr\",\n",
    "                      \"Liquidity_ratio_x_Last_avail__yr\",\n",
    "                      \"NACE_1\"]\n",
    "\n",
    "# define features coming from web and commercial data\n",
    "all_data_features = web_data_features + com_data_features"
   ]
  },
  {
   "cell_type": "markdown",
   "metadata": {},
   "source": [
    "Now that we defined the features coming from the different datasets, we can use our function that we created in the previous exercise to train and evaluate a logistic regression model **for each separate set of features**."
   ]
  },
  {
   "cell_type": "markdown",
   "metadata": {},
   "source": [
    "**Exercise 7**:\n",
    "    \n",
    "1) Get the predicted probabilities for the observations from the validation set of the model which was trained with the independent variables coming from the **web data** and the dependent variable being ``TARGET``\n",
    "       \n",
    "2) Get the predicted probabilities for the observations from the validation set of the model which was trained with the independent variables coming from the **commercial data** and the dependent variable being ``TARGET``\n",
    "    \n",
    "3) Get the predicted probabilities for the observations from the validation set of the model which was trained with the independent variables coming from the **web and commercial data** and the dependent variable being ``TARGET``"
   ]
  },
  {
   "cell_type": "code",
   "execution_count": 50,
   "metadata": {},
   "outputs": [],
   "source": [
    "# get predictions for model trained on features coming from web data\n",
    "web_val_preds = fit_lr_with_features(features=web_data_features, \n",
    "                                     dependent_variable=\"TARGET\", \n",
    "                                     train_data=basetable_train, \n",
    "                                     test_data=basetable_val)\n",
    "\n",
    "# get predictions for model trained on features coming from commercial data\n",
    "com_val_preds = fit_lr_with_features(features=com_data_features,\n",
    "                                     dependent_variable=\"TARGET\", \n",
    "                                     train_data=basetable_train, \n",
    "                                     test_data=basetable_val)\n",
    "\n",
    "# get predictions for model trained on features coming from web and commercial data\n",
    "all_val_preds = fit_lr_with_features(features=all_data_features, \n",
    "                                     dependent_variable=\"TARGET\", \n",
    "                                     train_data=basetable_train,\n",
    "                                     test_data=basetable_val)"
   ]
  },
  {
   "cell_type": "markdown",
   "metadata": {},
   "source": [
    "## 6.2. Model Selection"
   ]
  },
  {
   "cell_type": "markdown",
   "metadata": {},
   "source": [
    "Next, we can **evaluate every model** by comparing its predicted probabilites with the true values.\n",
    "The ``AUC`` is a good evaluation metric for evaluating a binary model since it represents the probability of ranking a positive example higher than a negative example. Hence, an AUC of 1 represents a perfect model, while an AUC of 0.5 represents a random model."
   ]
  },
  {
   "cell_type": "code",
   "execution_count": 42,
   "metadata": {
    "scrolled": false
   },
   "outputs": [
    {
     "data": {
      "text/plain": "<Figure size 432x432 with 1 Axes>",
      "image/png": "[encoded data removed]"
     },
     "metadata": {},
     "output_type": "display_data"
    }
   ],
   "source": [
    "# get auc score of the web model\n",
    "fpr_w, tpr_w, threshold = roc_curve(y_true=basetable_val[\"TARGET\"], y_score=web_val_preds[:, 1])\n",
    "auc_w = roc_auc_score(y_true=basetable_val[\"TARGET\"], y_score=web_val_preds[:, 1])\n",
    "\n",
    "# get auc score of the commercial model\n",
    "fpr_c, tpr_c, threshold = roc_curve(y_true=basetable_val[\"TARGET\"], y_score=com_val_preds[:, 1])\n",
    "auc_c = roc_auc_score(y_true=basetable_val[\"TARGET\"], y_score=com_val_preds[:, 1])\n",
    "\n",
    "# get auc score of the complete model\n",
    "fpr_a, tpr_a, threshold = roc_curve(y_true=basetable_val[\"TARGET\"], y_score=all_val_preds[:, 1])\n",
    "auc_a = roc_auc_score(y_true=basetable_val[\"TARGET\"], y_score=all_val_preds[:, 1])\n",
    "\n",
    "# create plot with roc curves of each model\n",
    "plt.figure(figsize=(6, 6))\n",
    "plt.plot(fpr_w, tpr_w, label=\"Web model -- auc: %s\" %round(auc_w, 2))\n",
    "plt.plot(fpr_c, tpr_c, label=\"Com model -- auc: %s\" %round(auc_c, 2))\n",
    "plt.plot(fpr_a, tpr_a, label=\"All model -- auc: %s\" %round(auc_a, 2))\n",
    "plt.plot([0, 1], [0, 1],'r--', label=\"Random model -- auc: 0.5\")\n",
    "plt.legend(loc = 'upper left')\n",
    "plt.xlim([0, 1])\n",
    "plt.ylim([0, 1])\n",
    "plt.ylabel('True Positive Rate')\n",
    "plt.xlabel('False Positive Rate')\n",
    "plt.show()"
   ]
  },
  {
   "cell_type": "markdown",
   "metadata": {},
   "source": [
    "The models trained on the features coming from the **web data** (Web model) and on **all the features** (All model) have the highest AUC. However, the model trained on the web data (Web model) has less features and hence is **less complex**. Therefore, we will choose the model trained on the web data as our final model (i.e., Occam's razor). We will **evaluate this model** on the test set to get our final unbiased estimate of the model performance."
   ]
  },
  {
   "cell_type": "markdown",
   "metadata": {},
   "source": [
    "# 7. Model Evaluation"
   ]
  },
  {
   "cell_type": "markdown",
   "metadata": {},
   "source": [
    "**Exercise 8**:\n",
    "    \n",
    "Get the **predicted probabilities** for all the observations in the test set by using the best performing model."
   ]
  },
  {
   "cell_type": "code",
   "execution_count": 43,
   "metadata": {},
   "outputs": [],
   "source": [
    "# train final model on training set and get predictions on test set\n",
    "final_model_test_preds = fit_lr_with_features(features = web_data_features, \n",
    "                                              dependent_variable = \"TARGET\",\n",
    "                                              train_data = basetable_train,\n",
    "                                              test_data = basetable_test)"
   ]
  },
  {
   "cell_type": "markdown",
   "metadata": {},
   "source": [
    "## 7.1. AUC"
   ]
  },
  {
   "cell_type": "markdown",
   "metadata": {},
   "source": [
    "**Exercise 9**:\n",
    "    \n",
    "Get the ``AUC`` of the **final model** on the test set and **plot** the ``ROC`` curve."
   ]
  },
  {
   "cell_type": "code",
   "execution_count": 44,
   "metadata": {},
   "outputs": [
    {
     "data": {
      "text/plain": "<Figure size 432x432 with 1 Axes>",
      "image/png": "[encoded data removed]"
     },
     "metadata": {},
     "output_type": "display_data"
    }
   ],
   "source": [
    "# get auc score of final model\n",
    "fpr_f, tpr_f, threshold = roc_curve(y_true=basetable_test[\"TARGET\"], y_score=final_model_test_preds[:, 1])\n",
    "auc_f = roc_auc_score(y_true=basetable_test[\"TARGET\"], y_score=final_model_test_preds[:, 1])\n",
    "\n",
    "# create plot with roc curve\n",
    "plt.figure(figsize=(6, 6))\n",
    "plt.plot(fpr_f, tpr_f, label=\"Final model -- auc: %s\" %round(auc_f, 2))\n",
    "plt.plot([0, 1], [0, 1],'r--', label=\"Random model -- auc: 0.5\")\n",
    "plt.legend(loc = 'upper left')\n",
    "plt.xlim([0, 1])\n",
    "plt.ylim([0, 1])\n",
    "plt.ylabel('True Positive Rate')\n",
    "plt.xlabel('False Positive Rate')\n",
    "plt.show()"
   ]
  },
  {
   "cell_type": "markdown",
   "metadata": {},
   "source": [
    "## 7.2. Lift"
   ]
  },
  {
   "cell_type": "markdown",
   "metadata": {},
   "source": [
    "Finally, we will evaluate our model in terms of the ``lift``. This measures how much the model performs better than a random model **for different chunks of data**. More specifically, the observations are **first sorted** by their predicted probability of being positive (in this case being successfully converted into a customer). Next, these observations will be **grouped into different chunks** (most often into percentiles with each percentile containing 1% of the observations). So the first chunk will contain observations with higher predicted probabilites than the second chunk and so on, meaning that the model is more certain for making positive predictions in the first chunk than the second chunk and so on. So we can expect that the number of correctly identified positives in the first chunk will be higher than the second chunk and so on.\n",
    "Finally, for each chunk, the model performance is **compared with the random model** by dividing the proportion of correctly identified positives with the general proportion of positives (which is the prediction of the random model). The result is a **lift score** for each chunk, indicating how much the model performs better than the random model for that particular chunk. \n",
    "\n",
    "For **example**: \n",
    "Suppose that there are 1000 companies in the test set and that the proportion of succesfully converted companies\n",
    "equals 0.6.\n",
    "First we will sort these companies by their predicted probability of being successfully converted into a customer.\n",
    "Next we will split these ranked companies into percentiles, such that each chunk will contain 10 companies.\n",
    "Now suppose that in the first chunk there are 9 companies of which the true label was 1 and 1 company of which the true label was 0. \n",
    "Then the lift score of this chunk is 0.9 / 0.6 = 1.5, meaning that the model is 1.5 times better than the random model for this chunk. \n",
    "Now suppose that in the second chunk there are only 7 companies of which the true label was 1 and 3 companies of which the true label was 0. \n",
    "Then the lift score of this chunk is 0.7 / 0.6 = 1.16, meaning that the model is 1.16 times better than the random model for this chunk."
   ]
  },
  {
   "cell_type": "markdown",
   "metadata": {},
   "source": [
    "<img src=\"./data/lift.png\" width=\"500\">"
   ]
  },
  {
   "cell_type": "markdown",
   "metadata": {},
   "source": [
    "**Exercise 10**:\n",
    "    \n",
    "1) **Extract the label** and the **predicted probability** of being successfully converted into a customer of each observation in the test set and **store** these 2 variables into a new DataFrame.\n",
    "        \n",
    "2) **Sort** the observations of this new DataFrame by the predicted probability in *descending* order.\n",
    "    \n",
    "3) Get the **proportion** of companies being successfully converted in the test set."
   ]
  },
  {
   "cell_type": "code",
   "execution_count": 45,
   "metadata": {},
   "outputs": [
    {
     "data": {
      "text/plain": "      TARGET  prediction\n663        1    0.973327\n7505       1    0.945001\n4093       1    0.941766\n6527       1    0.941583\n8177       1    0.933764",
      "text/html": "<div>\n<style scoped>\n    .dataframe tbody tr th:only-of-type {\n        vertical-align: middle;\n    }\n\n    .dataframe tbody tr th {\n        vertical-align: top;\n    }\n\n    .dataframe thead th {\n        text-align: right;\n    }\n</style>\n<table border=\"1\" class=\"dataframe\">\n  <thead>\n    <tr style=\"text-align: right;\">\n      <th></th>\n      <th>TARGET</th>\n      <th>prediction</th>\n    </tr>\n  </thead>\n  <tbody>\n    <tr>\n      <th>663</th>\n      <td>1</td>\n      <td>0.973327</td>\n    </tr>\n    <tr>\n      <th>7505</th>\n      <td>1</td>\n      <td>0.945001</td>\n    </tr>\n    <tr>\n      <th>4093</th>\n      <td>1</td>\n      <td>0.941766</td>\n    </tr>\n    <tr>\n      <th>6527</th>\n      <td>1</td>\n      <td>0.941583</td>\n    </tr>\n    <tr>\n      <th>8177</th>\n      <td>1</td>\n      <td>0.933764</td>\n    </tr>\n  </tbody>\n</table>\n</div>"
     },
     "execution_count": 45,
     "metadata": {},
     "output_type": "execute_result"
    }
   ],
   "source": [
    "# join dependent variable and predictions of test set\n",
    "label_pred = pd.DataFrame({\"TARGET\": basetable_test[\"TARGET\"],\n",
    "                           \"prediction\": final_model_test_preds[:, 1]})\n",
    "\n",
    "# sort DataFrame by predicted probability\n",
    "label_pred = label_pred.sort_values(by=\"prediction\", ascending=False)\n",
    "\n",
    "# check\n",
    "label_pred.head(5)"
   ]
  },
  {
   "cell_type": "code",
   "execution_count": 46,
   "metadata": {},
   "outputs": [
    {
     "name": "stdout",
     "output_type": "stream",
     "text": [
      "Proportion of profitable customers: 0.6428295322767684\n"
     ]
    }
   ],
   "source": [
    "# get global proportion of profitable customers in test set\n",
    "prop_profitable_cust_test = label_pred[\"TARGET\"].sum() / float(len(label_pred))\n",
    "# check\n",
    "print(\"Proportion of profitable customers: %s\" %prop_profitable_cust_test)"
   ]
  },
  {
   "cell_type": "code",
   "execution_count": 47,
   "metadata": {},
   "outputs": [
    {
     "name": "stdout",
     "output_type": "stream",
     "text": [
      "Max lift: 1.555622369212267\n"
     ]
    }
   ],
   "source": [
    "# calculate max lift\n",
    "max_lift = 1. / prop_profitable_cust_test\n",
    "# check\n",
    "print(\"Max lift: %s\" %max_lift)"
   ]
  },
  {
   "cell_type": "markdown",
   "metadata": {},
   "source": [
    "**Exercise 11**:\n",
    "    \n",
    "Now that the companies are ranked according to their predicted probability of being successfully converted \n",
    "into a customer, we can calculated the lift score for each percentile. \n",
    "In the following code, companies are already properly assigned to each chunk by making use of a for loop.\n",
    "\n",
    "1) Complete the code by **calculating the lift score for each chunk** and store this lift score in the ``lift_scores`` list.\n",
    "        \n",
    "        \n",
    "2) **Plot the lift scores for each chunk** with the chunk number on the X-axis and the lift score on the Y-axis."
   ]
  },
  {
   "cell_type": "code",
   "execution_count": 48,
   "metadata": {},
   "outputs": [],
   "source": [
    "# initialize list for storing lift scores \n",
    "lift_scores = []\n",
    "\n",
    "# loop through percentiles\n",
    "for i in reversed(range(100)):\n",
    "    # divide dataframes into percentiles of predicted probabilities\n",
    "    start_perc = label_pred[\"prediction\"].quantile(i / 100.)\n",
    "    end_perc = label_pred[\"prediction\"].quantile((i+1) / 100.)\n",
    "    chunk = label_pred[(label_pred[\"prediction\"] >= start_perc) &  (label_pred[\"prediction\"] < end_perc)]\n",
    "    \n",
    "    # get size of chunk\n",
    "    chunk_size = len(chunk)\n",
    "    \n",
    "    # get proportion of profitable customers in chunk\n",
    "    prop_profitable_cust_chunk = chunk[\"TARGET\"].sum() / float(chunk_size)\n",
    "    \n",
    "    # divide by global proportion of profitable customors\n",
    "    lift = prop_profitable_cust_chunk / prop_profitable_cust_test\n",
    "    \n",
    "    # add to lift list\n",
    "    lift_scores.append(lift)"
   ]
  },
  {
   "cell_type": "code",
   "execution_count": 49,
   "metadata": {},
   "outputs": [
    {
     "data": {
      "text/plain": "<Figure size 576x360 with 1 Axes>",
      "image/png": "[encoded data removed]"
     },
     "metadata": {},
     "output_type": "display_data"
    }
   ],
   "source": [
    "# plot lift curve\n",
    "plt.figure(figsize=(8, 5))\n",
    "plt.plot(range(100), lift_scores, label=\"Lift curve\")\n",
    "plt.plot(range(100), [max_lift for i in range(100)], label=\"Max lift\")\n",
    "plt.plot(range(100), [1 for i in range(100)], label=\"Random model\")\n",
    "plt.xlabel(\"Percentile\")\n",
    "plt.ylabel(\"Lift\")\n",
    "plt.legend(loc=\"lower left\")\n",
    "plt.show()"
   ]
  }
 ],
 "metadata": {
  "kernelspec": {
   "display_name": "Python 3 (ipykernel)",
   "language": "python",
   "name": "python3"
  },
  "language_info": {
   "codemirror_mode": {
    "name": "ipython",
    "version": 3
   },
   "file_extension": ".py",
   "mimetype": "text/x-python",
   "name": "python",
   "nbconvert_exporter": "python",
   "pygments_lexer": "ipython3",
   "version": "3.9.13"
  },
  "toc": {
   "base_numbering": 1,
   "nav_menu": {},
   "number_sections": true,
   "sideBar": true,
   "skip_h1_title": false,
   "title_cell": "Table of Contents",
   "title_sidebar": "Contents",
   "toc_cell": false,
   "toc_position": {},
   "toc_section_display": true,
   "toc_window_display": false
  }
 },
 "nbformat": 4,
 "nbformat_minor": 2
}
