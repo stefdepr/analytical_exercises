{
 "cells": [
  {
   "cell_type": "markdown",
   "metadata": {},
   "source": [
    "# Descriptive Statistics"
   ]
  },
  {
   "cell_type": "markdown",
   "metadata": {},
   "source": [
    "## Exercise 1"
   ]
  },
  {
   "cell_type": "markdown",
   "metadata": {},
   "source": [
    "Import the Boston.csv dataset which can be found in the data directory of this course.\n",
    "\n",
    "        1. Convert the numeric variable indus to a categorical variable with 4 categories:\n",
    "                 - all the observations lower than the first quartile should be encoded as \"A\"\n",
    "                 - all the observations between the first and second quartile should be encoded as \"B\"\n",
    "                 - all the observations between the second and third quartile should be encoded as \"C\"\n",
    "                 - all the observations higher than the third quartile should be encoded as \"D\"\n",
    "                 \n",
    "                 \n",
    "        2. Convert the numeric variable rm to a categorical variable with 2 categories:\n",
    "                - all the observations lower than the mean should be encoded as \"X\"\n",
    "                - all the observations higher than the mean should be encoded as \"Y\"\n",
    "                \n",
    "        3. Get a crosstab for the two encoded variables"
   ]
  },
  {
   "cell_type": "code",
   "execution_count": 1,
   "metadata": {},
   "outputs": [],
   "source": [
    "# write your program here\n",
    "\n",
    "\n"
   ]
  },
  {
   "cell_type": "markdown",
   "metadata": {},
   "source": [
    "## Exercise 2"
   ]
  },
  {
   "cell_type": "markdown",
   "metadata": {},
   "source": [
    "Import the Boston.csv dataset which can be found in the data directory of this course.\n",
    "Write a program that returns the 3 variable pairs with the highest correlations."
   ]
  },
  {
   "cell_type": "code",
   "execution_count": 2,
   "metadata": {},
   "outputs": [],
   "source": [
    "# write your program here\n",
    "\n",
    "\n"
   ]
  },
  {
   "cell_type": "markdown",
   "metadata": {},
   "source": [
    "# Plotting"
   ]
  },
  {
   "cell_type": "markdown",
   "metadata": {},
   "source": [
    "In order to see the figures which are shown in this Notebook, \n",
    "you should either:\n",
    "    - Put this Notebook into the folder where the Notebook and data of session 3 is located\n",
    "    - Change the path of the figures to the correct paths where the images are located"
   ]
  },
  {
   "cell_type": "markdown",
   "metadata": {},
   "source": [
    "## Exercise 1"
   ]
  },
  {
   "cell_type": "markdown",
   "metadata": {},
   "source": [
    "Import the Boston.csv dataset which can be found in the data directory of this course. \n",
    "Create a heatmap that shows the correlation between each of the variables. Make sure that the correlation values are shown and that the linewidths are adapted to make the plot easier to interpret.\n",
    "Compare this heatmap with the results that you obtained in Exercise 2 of Descriptive Statistics \n",
    "and check if these were correct. "
   ]
  },
  {
   "cell_type": "code",
   "execution_count": 1,
   "metadata": {},
   "outputs": [],
   "source": [
    "# write your program here\n",
    "\n",
    "\n"
   ]
  },
  {
   "cell_type": "markdown",
   "metadata": {},
   "source": [
    "## Exercise 2"
   ]
  },
  {
   "cell_type": "markdown",
   "metadata": {},
   "source": [
    "Import the Boston.csv dataset which can be found in the data directory of this course.\n",
    "In this exerise, we want to investage the relationship between the independent variables and the dependent variable in a bit more detail. \n",
    "        \n",
    "    1. Create a figure wich contains multiple plots with each plot being a scatter plot showing the relationship\n",
    "       between one of the independent variables and the dependent variable. The depenent variable for this dataset \n",
    "       is represented by \"medv\", which is the median value of a house in a specific area in Boston.\n",
    "\n",
    "    2. Set the labels for the x-axis and y-axis to the names of the variables\n",
    "\n",
    "    3. Add a title that shows the correlation between the two variables\n",
    "    \n",
    "Your plot should look like this:"
   ]
  },
  {
   "cell_type": "markdown",
   "metadata": {},
   "source": [
    "<img src=\"./data/img/plot_3.png\" width=\"400\">"
   ]
  },
  {
   "cell_type": "code",
   "execution_count": 1,
   "metadata": {},
   "outputs": [],
   "source": [
    "# write your program here\n",
    "\n",
    "\n"
   ]
  },
  {
   "cell_type": "markdown",
   "metadata": {},
   "source": [
    "## Exercise 3"
   ]
  },
  {
   "cell_type": "markdown",
   "metadata": {},
   "source": [
    "Import the company_sales_data.csv dataset which can be found in the data directory of this course. \n",
    "This data contains the monthly sales for each product for a specific year of a specific company. \n",
    "Create a stacked bar plot such that for every month the percentage a product contributed to the total sales of that month is shown."
   ]
  },
  {
   "cell_type": "markdown",
   "metadata": {},
   "source": [
    "<img src=\"./data/img/plot_4.png\" width=\"400\">"
   ]
  },
  {
   "cell_type": "code",
   "execution_count": 6,
   "metadata": {},
   "outputs": [],
   "source": [
    "# write your program here\n",
    "\n",
    "\n"
   ]
  },
  {
   "cell_type": "markdown",
   "metadata": {},
   "source": [
    "# Scikit-Learn"
   ]
  },
  {
   "cell_type": "markdown",
   "metadata": {},
   "source": [
    "## Exercise 1"
   ]
  },
  {
   "cell_type": "markdown",
   "metadata": {},
   "source": [
    "Import the customer_churn.csv dataset which can be found in the data directory of this course.\n",
    "This dataset contains data about a company's customers and whether they left the company or not.\n",
    "The goal of this exercise is to fit a logistic regression between the independent features and the dependent variable,\n",
    "such that in the future, the company can predict which customers will be likely to churn.\n",
    "The Churn variable is the dependent variable. This is a binary variable with 0 meaning that the customer did not churn and 1 meaning that the customer churned.\n",
    "\n",
    "In order to build this model, you should do the following steps:\n",
    "    \n",
    "        1. Standardize all the numerical independent features. The SeniorCitizen and Tenure variables should not \n",
    "           be considered as numerical variables but as categorical. \n",
    "            \n",
    "        2. Encode all the categorical variables\n",
    "            \n",
    "        3. Fit a logistic regression model on the data with Churn being the dependent variable and all the other \n",
    "           scaled and ecoded variables being the independent features. Note that the customerID should not be\n",
    "           considered as an independent variable since it serves solely as an identifier and has no discriminative \n",
    "           power with respect to the dependent variable.\n",
    "           \n",
    "        4. Get the estimated values for the dependent variable\n",
    "        \n",
    "        5. Get the accuracy, precision and recall of the model and interpret the results"
   ]
  },
  {
   "cell_type": "code",
   "execution_count": 8,
   "metadata": {},
   "outputs": [],
   "source": [
    "# write your program here\n",
    "\n",
    "\n"
   ]
  },
  {
   "cell_type": "markdown",
   "metadata": {},
   "source": [
    "## Exercise 2"
   ]
  },
  {
   "cell_type": "markdown",
   "metadata": {},
   "source": [
    "Now that the model which you build in the previous exercise works, \n",
    "the company will use it to predict which customer will be likely to churn.\n",
    "The company has gathered a new dataset of new customers and wants to apply the model on it.\n",
    "This dataset can be found in the data directory of this course and is called new_customers.csv.\n",
    "\n",
    "More specifically, the company wants you to do the following things:\n",
    "    \n",
    "        1. Use model which was trained in the previous exercise to get predictions on the new data sample.\n",
    "           Use the model's predict_proba() method to get the predicted probabilites instead of the predicted \n",
    "           classes. This will result in the predicted probabilities per class of the dependent variable for each   \n",
    "           observation and looks as follows:\n",
    "           \n",
    "                           P(y = 0) (not-churn)     P(y = 1) (churn)\n",
    "                           \n",
    "                                   0.3                   0.7\n",
    "                                   0.4                   0.6\n",
    "                                   0.9                   0.1\n",
    "                                   ...                   ...\n",
    " \n",
    "\n",
    "        2. Get the 100 customers who have the highest estimated probability to churn and thus are the most likely\n",
    "           to leave the company. The output should be a pandas DataFrame with 2 columns: one with the customerID \n",
    "           and one with the predicted probability of churn\n"
   ]
  },
  {
   "cell_type": "code",
   "execution_count": 9,
   "metadata": {},
   "outputs": [],
   "source": [
    "# write your program here\n",
    "\n",
    "\n"
   ]
  }
 ],
 "metadata": {
  "kernelspec": {
   "display_name": "Python 2",
   "language": "python",
   "name": "python2"
  },
  "language_info": {
   "codemirror_mode": {
    "name": "ipython",
    "version": 2
   },
   "file_extension": ".py",
   "mimetype": "text/x-python",
   "name": "python",
   "nbconvert_exporter": "python",
   "pygments_lexer": "ipython2",
   "version": "2.7.16"
  },
  "toc": {
   "base_numbering": 1,
   "nav_menu": {},
   "number_sections": true,
   "sideBar": true,
   "skip_h1_title": false,
   "title_cell": "Table of Contents",
   "title_sidebar": "Contents",
   "toc_cell": false,
   "toc_position": {},
   "toc_section_display": true,
   "toc_window_display": false
  },
  "varInspector": {
   "cols": {
    "lenName": 16,
    "lenType": 16,
    "lenVar": 40
   },
   "kernels_config": {
    "python": {
     "delete_cmd_postfix": "",
     "delete_cmd_prefix": "del ",
     "library": "var_list.py",
     "varRefreshCmd": "print(var_dic_list())"
    },
    "r": {
     "delete_cmd_postfix": ") ",
     "delete_cmd_prefix": "rm(",
     "library": "var_list.r",
     "varRefreshCmd": "cat(var_dic_list()) "
    }
   },
   "types_to_exclude": [
    "module",
    "function",
    "builtin_function_or_method",
    "instance",
    "_Feature"
   ],
   "window_display": false
  }
 },
 "nbformat": 4,
 "nbformat_minor": 2
}
